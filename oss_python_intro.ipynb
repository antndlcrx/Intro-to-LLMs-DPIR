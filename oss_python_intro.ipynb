{
  "nbformat": 4,
  "nbformat_minor": 0,
  "metadata": {
    "colab": {
      "provenance": [],
      "toc_visible": true,
      "authorship_tag": "ABX9TyNv/e5ZDMzeFnCGVOGBTyK6",
      "include_colab_link": true
    },
    "kernelspec": {
      "name": "python3",
      "display_name": "Python 3"
    },
    "language_info": {
      "name": "python"
    }
  },
  "cells": [
    {
      "cell_type": "markdown",
      "metadata": {
        "id": "view-in-github",
        "colab_type": "text"
      },
      "source": [
        "<a href=\"https://colab.research.google.com/github/antndlcrx/oss_2024/blob/main/oss_python_intro.ipynb\" target=\"_parent\"><img src=\"https://colab.research.google.com/assets/colab-badge.svg\" alt=\"Open In Colab\"/></a>"
      ]
    },
    {
      "cell_type": "markdown",
      "source": [
        "\n",
        "<img src=\"https://cdn.githubraw.com/antndlcrx/oss_2024/main/images/dpir_oss.png?raw=true:,  width=70\" alt=\"My Image\" width=700>\n",
        "\n",
        "# **Learning Python**\n",
        "\n",
        "\n",
        "In this tutorial, we will look at basic Python concepts and operations. For that, we will do a fun expample of coding a mini turtle race 🐢\n",
        "\n",
        "This is an introductiory level notebook. It gives you a very basic overview and complements it with more in-depth tutorials and documentation that you are free to consult at your own time after the tutorial.\n",
        "\n",
        "## Outcomes\n",
        "\n",
        "You will get a basic introduction to:\n",
        "- Main Python concepts\n",
        "- Python Variables\n",
        "- Python Functions\n",
        "- Conditional Statements\n",
        "- For and While loops\n",
        "- Turtle Graphics module\n",
        "\n",
        "\n",
        "\n",
        "# **What is Python?**\n",
        "\n",
        "Python is an object-oriented programming language.\n",
        "\n",
        "**Object-oriented programming**(OOP) is a method of structuring a program by bundling related properties and behaviors into individual **objects**.\n",
        "\n",
        "In other programming paradigms, objects only represent the data. In OOP, they additionally inform the overall structure of the program.\n",
        "\n",
        "\n",
        "Every item of data in a Python program is an object of a specific type or class.\n",
        "\n",
        "\n",
        "\n",
        "> An object's life begins when it is created, at which time at least one reference to it is created. During an object's lifetime, additional references to it may be created, and references to it may be deleted as well. An object stays alive, as it were, so long as there is at least one reference to it.\n",
        "\n",
        "> When the number of references to an object drops to zero, it is no longer accessible. At that point, its lifetime is over. Python will eventually notice that it is inaccessible and reclaim the allocated memory so it can be used for something else.\n",
        "\n",
        "Referenced from [this tutorial](https://realpython.com/python-variables/)."
      ],
      "metadata": {
        "id": "8UIYOJxRe24M"
      }
    },
    {
      "cell_type": "markdown",
      "source": [
        "# Learn Python with (Collab) Turtle 🐢\n",
        "\n",
        "[ColabTurtlePlus](https://github.com/mathriddle/ColabTurtlePlus) is a *module* that provides you with graphic syntax. It is a nice tool to get the hang on the main python coding syntax while drawing fun animations!\n",
        "\n",
        "Collabturtle is a Google Collab-based friend of the [turtle graphics](https://docs.python.org/3/library/turtle.html) python module. They have similar syntax, core functionality, but have differences in some methods (like screen methods). You can read more on the comparison by going to the link above.\n",
        "\n",
        "\n",
        "For more information on the methods and functions, see the[Documentation for CollabTurtlePlus](https://larryriddle.agnesscott.org/ColabTurtlePlus/documentation2.html)."
      ],
      "metadata": {
        "id": "tUzbVGXBpCpt"
      }
    },
    {
      "cell_type": "code",
      "source": [
        "!pip install ColabTurtlePlus"
      ],
      "metadata": {
        "colab": {
          "base_uri": "https://localhost:8080/"
        },
        "id": "yw4o3QcUno8j",
        "outputId": "c166d2f2-60ce-46d1-cad0-3ac558da1437"
      },
      "execution_count": 1,
      "outputs": [
        {
          "output_type": "stream",
          "name": "stdout",
          "text": [
            "Collecting ColabTurtlePlus\n",
            "  Downloading ColabTurtlePlus-2.0.1-py3-none-any.whl (31 kB)\n",
            "Installing collected packages: ColabTurtlePlus\n",
            "Successfully installed ColabTurtlePlus-2.0.1\n"
          ]
        }
      ]
    },
    {
      "cell_type": "markdown",
      "source": [
        "In this tutorial, we will do a project \"Turtle Race\": making a set of digital turtles to race against each other and determine the winner. You can interact with the final version of this project below. Do not worry if the code looks daunting, it is certainly much simpler than it might look, and we will cover all the necessary steps one-by-one."
      ],
      "metadata": {
        "id": "U6oZqdac5JQK"
      }
    },
    {
      "cell_type": "code",
      "source": [
        "#@title Turtle Race\n",
        "from ColabTurtlePlus.Turtle import *\n",
        "import random\n",
        "\n",
        "WIDTH, HEIGHT = 500, 500 # constants\n",
        "COLORS = ['green', 'blue', 'orange', 'yellow', 'red', 'pink', 'black', 'cyan','brown', 'purple']\n",
        "\n",
        "def get_number_of_turtles():\n",
        "    clearscreen()\n",
        "    turtles = 0\n",
        "    while True:\n",
        "        turtles = input('Enter the number of racing turtles (2-10): ')\n",
        "        if turtles.isdigit():\n",
        "            turtles = int(turtles)\n",
        "        else:\n",
        "            print('Please input a numeric value!')\n",
        "            continue\n",
        "\n",
        "        if 2 <= turtles <=10:\n",
        "            return turtles\n",
        "        else:\n",
        "            print(f'{turtles} not in range [2-10]. Try again!')\n",
        "            continue\n",
        "\n",
        "\n",
        "def init_turtle():\n",
        "    initializeTurtle((WIDTH, HEIGHT))\n",
        "\n",
        "\n",
        "\n",
        "def create_turtles(colors):\n",
        "    turtles = []\n",
        "    spacingx = WIDTH // (len(colors) + 1)\n",
        "    for i, color in enumerate(colors):\n",
        "        racer = Turtle()\n",
        "        racer.color(color)\n",
        "        racer.speed(6)\n",
        "        racer.shape('turtle2')\n",
        "        racer.left(90)\n",
        "        racer.penup()\n",
        "        racer.goto(-WIDTH//2 + (i+1) * spacingx,\n",
        "                   -HEIGHT//2 + 20) # setpos(x,y) | setposition(x,y)\n",
        "        racer.pendown()\n",
        "        turtles.append(racer)\n",
        "    return turtles\n",
        "\n",
        "\n",
        "def race(colors):\n",
        "    turtles = create_turtles(colors)\n",
        "\n",
        "    while True:\n",
        "        for racer in turtles:\n",
        "            distance = random.randrange(1, 20)\n",
        "            racer.forward(distance)\n",
        "\n",
        "            x, y = racer.position()\n",
        "            if y >= HEIGHT // 2 - 10:\n",
        "                return colors[turtles.index(racer)]\n",
        "\n",
        "\n",
        "\n",
        "racers = get_number_of_turtles()\n",
        "init_turtle()\n",
        "random.shuffle(COLORS)\n",
        "colors = COLORS[:racers]\n",
        "# create_turtles(colors)\n",
        "winner = race(colors)\n",
        "print(f'{winner.capitalize()} turtle is the winner 🎉🎉🎉')"
      ],
      "metadata": {
        "colab": {
          "base_uri": "https://localhost:8080/",
          "height": 556
        },
        "id": "tLY4R-xzWgHN",
        "outputId": "4272b78c-c327-49f3-a8b8-453bb29ea8b7"
      },
      "execution_count": 48,
      "outputs": [
        {
          "name": "stdout",
          "output_type": "stream",
          "text": [
            "Enter the number of racing turtles (2-10): 5\n"
          ]
        },
        {
          "output_type": "display_data",
          "data": {
            "text/plain": [
              "<IPython.core.display.HTML object>"
            ],
            "text/html": [
              "\n",
              "      <svg width=\"500\" height=\"500\">  \n",
              "        <rect width=\"100%\" height=\"100%\" style=\"fill:white;stroke:;stroke-width:1\"/>\n",
              "        \n",
              "        \n",
              "        <line x1=\"83.0\" y1=\"480.0\" x2=\"83.0\" y2=\"466.0\" stroke-linecap=\"round\" style=\"stroke:brown;stroke-width:1\" /><line x1=\"83.0\" y1=\"466.0\" x2=\"83.0\" y2=\"452.0\" stroke-linecap=\"round\" style=\"stroke:brown;stroke-width:1\" /><line x1=\"83.0\" y1=\"452.0\" x2=\"83.0\" y2=\"436.0\" stroke-linecap=\"round\" style=\"stroke:brown;stroke-width:1\" /><line x1=\"83.0\" y1=\"436.0\" x2=\"83.0\" y2=\"421.0\" stroke-linecap=\"round\" style=\"stroke:brown;stroke-width:1\" /><line x1=\"83.0\" y1=\"421.0\" x2=\"83.0\" y2=\"417.0\" stroke-linecap=\"round\" style=\"stroke:brown;stroke-width:1\" /><line x1=\"83.0\" y1=\"417.0\" x2=\"83.0\" y2=\"406.0\" stroke-linecap=\"round\" style=\"stroke:brown;stroke-width:1\" /><line x1=\"83.0\" y1=\"406.0\" x2=\"83.0\" y2=\"401.0\" stroke-linecap=\"round\" style=\"stroke:brown;stroke-width:1\" /><line x1=\"83.0\" y1=\"401.0\" x2=\"83.0\" y2=\"385.0\" stroke-linecap=\"round\" style=\"stroke:brown;stroke-width:1\" /><line x1=\"83.0\" y1=\"385.0\" x2=\"83.0\" y2=\"383.0\" stroke-linecap=\"round\" style=\"stroke:brown;stroke-width:1\" /><line x1=\"83.0\" y1=\"383.0\" x2=\"83.0\" y2=\"370.0\" stroke-linecap=\"round\" style=\"stroke:brown;stroke-width:1\" /><line x1=\"83.0\" y1=\"370.0\" x2=\"83.0\" y2=\"363.0\" stroke-linecap=\"round\" style=\"stroke:brown;stroke-width:1\" /><line x1=\"83.0\" y1=\"363.0\" x2=\"83.0\" y2=\"362.0\" stroke-linecap=\"round\" style=\"stroke:brown;stroke-width:1\" /><line x1=\"83.0\" y1=\"362.0\" x2=\"83.0\" y2=\"349.0\" stroke-linecap=\"round\" style=\"stroke:brown;stroke-width:1\" /><line x1=\"83.0\" y1=\"349.0\" x2=\"83.0\" y2=\"337.0\" stroke-linecap=\"round\" style=\"stroke:brown;stroke-width:1\" /><line x1=\"83.0\" y1=\"337.0\" x2=\"83.0\" y2=\"331.0\" stroke-linecap=\"round\" style=\"stroke:brown;stroke-width:1\" /><line x1=\"83.0\" y1=\"331.0\" x2=\"83.0\" y2=\"324.0\" stroke-linecap=\"round\" style=\"stroke:brown;stroke-width:1\" /><line x1=\"83.0\" y1=\"324.0\" x2=\"83.0\" y2=\"305.0\" stroke-linecap=\"round\" style=\"stroke:brown;stroke-width:1\" /><line x1=\"83.0\" y1=\"305.0\" x2=\"83.0\" y2=\"290.0\" stroke-linecap=\"round\" style=\"stroke:brown;stroke-width:1\" /><line x1=\"83.0\" y1=\"290.0\" x2=\"83.0\" y2=\"273.0\" stroke-linecap=\"round\" style=\"stroke:brown;stroke-width:1\" /><line x1=\"83.0\" y1=\"273.0\" x2=\"83.0\" y2=\"260.0\" stroke-linecap=\"round\" style=\"stroke:brown;stroke-width:1\" /><line x1=\"83.0\" y1=\"260.0\" x2=\"83.0\" y2=\"256.0\" stroke-linecap=\"round\" style=\"stroke:brown;stroke-width:1\" /><line x1=\"83.0\" y1=\"256.0\" x2=\"83.0\" y2=\"243.0\" stroke-linecap=\"round\" style=\"stroke:brown;stroke-width:1\" /><line x1=\"83.0\" y1=\"243.0\" x2=\"83.0\" y2=\"227.0\" stroke-linecap=\"round\" style=\"stroke:brown;stroke-width:1\" /><line x1=\"83.0\" y1=\"227.0\" x2=\"83.0\" y2=\"214.0\" stroke-linecap=\"round\" style=\"stroke:brown;stroke-width:1\" /><line x1=\"83.0\" y1=\"214.0\" x2=\"83.0\" y2=\"198.0\" stroke-linecap=\"round\" style=\"stroke:brown;stroke-width:1\" /><line x1=\"83.0\" y1=\"198.0\" x2=\"83.0\" y2=\"192.0\" stroke-linecap=\"round\" style=\"stroke:brown;stroke-width:1\" /><line x1=\"83.0\" y1=\"192.0\" x2=\"83.0\" y2=\"182.0\" stroke-linecap=\"round\" style=\"stroke:brown;stroke-width:1\" /><line x1=\"83.0\" y1=\"182.0\" x2=\"83.0\" y2=\"179.0\" stroke-linecap=\"round\" style=\"stroke:brown;stroke-width:1\" /><line x1=\"83.0\" y1=\"179.0\" x2=\"83.0\" y2=\"175.0\" stroke-linecap=\"round\" style=\"stroke:brown;stroke-width:1\" /><line x1=\"83.0\" y1=\"175.0\" x2=\"83.0\" y2=\"167.0\" stroke-linecap=\"round\" style=\"stroke:brown;stroke-width:1\" /><line x1=\"83.0\" y1=\"167.0\" x2=\"83.0\" y2=\"149.0\" stroke-linecap=\"round\" style=\"stroke:brown;stroke-width:1\" /><line x1=\"83.0\" y1=\"149.0\" x2=\"83.0\" y2=\"131.0\" stroke-linecap=\"round\" style=\"stroke:brown;stroke-width:1\" /><line x1=\"83.0\" y1=\"131.0\" x2=\"83.0\" y2=\"126.0\" stroke-linecap=\"round\" style=\"stroke:brown;stroke-width:1\" /><line x1=\"83.0\" y1=\"126.0\" x2=\"83.0\" y2=\"120.0\" stroke-linecap=\"round\" style=\"stroke:brown;stroke-width:1\" /><line x1=\"83.0\" y1=\"120.0\" x2=\"83.0\" y2=\"117.0\" stroke-linecap=\"round\" style=\"stroke:brown;stroke-width:1\" /><line x1=\"83.0\" y1=\"117.0\" x2=\"83.0\" y2=\"107.0\" stroke-linecap=\"round\" style=\"stroke:brown;stroke-width:1\" /><line x1=\"83.0\" y1=\"107.0\" x2=\"83.0\" y2=\"90.0\" stroke-linecap=\"round\" style=\"stroke:brown;stroke-width:1\" /><line x1=\"83.0\" y1=\"90.0\" x2=\"83.0\" y2=\"75.0\" stroke-linecap=\"round\" style=\"stroke:brown;stroke-width:1\" /><line x1=\"83.0\" y1=\"75.0\" x2=\"83.0\" y2=\"63.0\" stroke-linecap=\"round\" style=\"stroke:brown;stroke-width:1\" /><line x1=\"83.0\" y1=\"63.0\" x2=\"83.0\" y2=\"60.0\" stroke-linecap=\"round\" style=\"stroke:brown;stroke-width:1\" /><line x1=\"83.0\" y1=\"60.0\" x2=\"83.0\" y2=\"53.0\" stroke-linecap=\"round\" style=\"stroke:brown;stroke-width:1\" /><line x1=\"83.0\" y1=\"53.0\" x2=\"83.0\" y2=\"36.0\" stroke-linecap=\"round\" style=\"stroke:brown;stroke-width:1\" /><line x1=\"83.0\" y1=\"36.0\" x2=\"83.0\" y2=\"29.0\" stroke-linecap=\"round\" style=\"stroke:brown;stroke-width:1\" /><line x1=\"83.0\" y1=\"29.0\" x2=\"83.0\" y2=\"28.0\" stroke-linecap=\"round\" style=\"stroke:brown;stroke-width:1\" /><line x1=\"166.0\" y1=\"480.0\" x2=\"166.0\" y2=\"474.0\" stroke-linecap=\"round\" style=\"stroke:yellow;stroke-width:1\" /><line x1=\"166.0\" y1=\"474.0\" x2=\"166.0\" y2=\"457.0\" stroke-linecap=\"round\" style=\"stroke:yellow;stroke-width:1\" /><line x1=\"166.0\" y1=\"457.0\" x2=\"166.0\" y2=\"449.0\" stroke-linecap=\"round\" style=\"stroke:yellow;stroke-width:1\" /><line x1=\"166.0\" y1=\"449.0\" x2=\"166.0\" y2=\"430.0\" stroke-linecap=\"round\" style=\"stroke:yellow;stroke-width:1\" /><line x1=\"166.0\" y1=\"430.0\" x2=\"166.0\" y2=\"422.0\" stroke-linecap=\"round\" style=\"stroke:yellow;stroke-width:1\" /><line x1=\"166.0\" y1=\"422.0\" x2=\"166.0\" y2=\"420.0\" stroke-linecap=\"round\" style=\"stroke:yellow;stroke-width:1\" /><line x1=\"166.0\" y1=\"420.0\" x2=\"166.0\" y2=\"402.0\" stroke-linecap=\"round\" style=\"stroke:yellow;stroke-width:1\" /><line x1=\"166.0\" y1=\"402.0\" x2=\"166.0\" y2=\"390.0\" stroke-linecap=\"round\" style=\"stroke:yellow;stroke-width:1\" /><line x1=\"166.0\" y1=\"390.0\" x2=\"166.0\" y2=\"377.0\" stroke-linecap=\"round\" style=\"stroke:yellow;stroke-width:1\" /><line x1=\"166.0\" y1=\"377.0\" x2=\"166.0\" y2=\"362.0\" stroke-linecap=\"round\" style=\"stroke:yellow;stroke-width:1\" /><line x1=\"166.0\" y1=\"362.0\" x2=\"166.0\" y2=\"352.0\" stroke-linecap=\"round\" style=\"stroke:yellow;stroke-width:1\" /><line x1=\"166.0\" y1=\"352.0\" x2=\"166.0\" y2=\"337.0\" stroke-linecap=\"round\" style=\"stroke:yellow;stroke-width:1\" /><line x1=\"166.0\" y1=\"337.0\" x2=\"166.0\" y2=\"334.0\" stroke-linecap=\"round\" style=\"stroke:yellow;stroke-width:1\" /><line x1=\"166.0\" y1=\"334.0\" x2=\"166.0\" y2=\"331.0\" stroke-linecap=\"round\" style=\"stroke:yellow;stroke-width:1\" /><line x1=\"166.0\" y1=\"331.0\" x2=\"166.0\" y2=\"315.0\" stroke-linecap=\"round\" style=\"stroke:yellow;stroke-width:1\" /><line x1=\"166.0\" y1=\"315.0\" x2=\"166.0\" y2=\"297.0\" stroke-linecap=\"round\" style=\"stroke:yellow;stroke-width:1\" /><line x1=\"166.0\" y1=\"297.0\" x2=\"166.0\" y2=\"287.0\" stroke-linecap=\"round\" style=\"stroke:yellow;stroke-width:1\" /><line x1=\"166.0\" y1=\"287.0\" x2=\"166.0\" y2=\"283.0\" stroke-linecap=\"round\" style=\"stroke:yellow;stroke-width:1\" /><line x1=\"166.0\" y1=\"283.0\" x2=\"166.0\" y2=\"267.0\" stroke-linecap=\"round\" style=\"stroke:yellow;stroke-width:1\" /><line x1=\"166.0\" y1=\"267.0\" x2=\"166.0\" y2=\"258.0\" stroke-linecap=\"round\" style=\"stroke:yellow;stroke-width:1\" /><line x1=\"166.0\" y1=\"258.0\" x2=\"166.0\" y2=\"251.0\" stroke-linecap=\"round\" style=\"stroke:yellow;stroke-width:1\" /><line x1=\"166.0\" y1=\"251.0\" x2=\"166.0\" y2=\"241.0\" stroke-linecap=\"round\" style=\"stroke:yellow;stroke-width:1\" /><line x1=\"166.0\" y1=\"241.0\" x2=\"166.0\" y2=\"232.0\" stroke-linecap=\"round\" style=\"stroke:yellow;stroke-width:1\" /><line x1=\"166.0\" y1=\"232.0\" x2=\"166.0\" y2=\"220.0\" stroke-linecap=\"round\" style=\"stroke:yellow;stroke-width:1\" /><line x1=\"166.0\" y1=\"220.0\" x2=\"166.0\" y2=\"202.0\" stroke-linecap=\"round\" style=\"stroke:yellow;stroke-width:1\" /><line x1=\"166.0\" y1=\"202.0\" x2=\"166.0\" y2=\"193.0\" stroke-linecap=\"round\" style=\"stroke:yellow;stroke-width:1\" /><line x1=\"166.0\" y1=\"193.0\" x2=\"166.0\" y2=\"184.0\" stroke-linecap=\"round\" style=\"stroke:yellow;stroke-width:1\" /><line x1=\"166.0\" y1=\"184.0\" x2=\"166.0\" y2=\"174.0\" stroke-linecap=\"round\" style=\"stroke:yellow;stroke-width:1\" /><line x1=\"166.0\" y1=\"174.0\" x2=\"166.0\" y2=\"163.0\" stroke-linecap=\"round\" style=\"stroke:yellow;stroke-width:1\" /><line x1=\"166.0\" y1=\"163.0\" x2=\"166.0\" y2=\"161.0\" stroke-linecap=\"round\" style=\"stroke:yellow;stroke-width:1\" /><line x1=\"166.0\" y1=\"161.0\" x2=\"166.0\" y2=\"155.0\" stroke-linecap=\"round\" style=\"stroke:yellow;stroke-width:1\" /><line x1=\"166.0\" y1=\"155.0\" x2=\"166.0\" y2=\"153.0\" stroke-linecap=\"round\" style=\"stroke:yellow;stroke-width:1\" /><line x1=\"166.0\" y1=\"153.0\" x2=\"166.0\" y2=\"149.0\" stroke-linecap=\"round\" style=\"stroke:yellow;stroke-width:1\" /><line x1=\"166.0\" y1=\"149.0\" x2=\"166.0\" y2=\"145.0\" stroke-linecap=\"round\" style=\"stroke:yellow;stroke-width:1\" /><line x1=\"166.0\" y1=\"145.0\" x2=\"166.0\" y2=\"129.0\" stroke-linecap=\"round\" style=\"stroke:yellow;stroke-width:1\" /><line x1=\"166.0\" y1=\"129.0\" x2=\"166.0\" y2=\"114.0\" stroke-linecap=\"round\" style=\"stroke:yellow;stroke-width:1\" /><line x1=\"166.0\" y1=\"114.0\" x2=\"166.0\" y2=\"99.0\" stroke-linecap=\"round\" style=\"stroke:yellow;stroke-width:1\" /><line x1=\"166.0\" y1=\"99.0\" x2=\"166.0\" y2=\"96.0\" stroke-linecap=\"round\" style=\"stroke:yellow;stroke-width:1\" /><line x1=\"166.0\" y1=\"96.0\" x2=\"166.0\" y2=\"91.0\" stroke-linecap=\"round\" style=\"stroke:yellow;stroke-width:1\" /><line x1=\"166.0\" y1=\"91.0\" x2=\"166.0\" y2=\"81.0\" stroke-linecap=\"round\" style=\"stroke:yellow;stroke-width:1\" /><line x1=\"166.0\" y1=\"81.0\" x2=\"166.0\" y2=\"79.0\" stroke-linecap=\"round\" style=\"stroke:yellow;stroke-width:1\" /><line x1=\"166.0\" y1=\"79.0\" x2=\"166.0\" y2=\"75.0\" stroke-linecap=\"round\" style=\"stroke:yellow;stroke-width:1\" /><line x1=\"166.0\" y1=\"75.0\" x2=\"166.0\" y2=\"71.0\" stroke-linecap=\"round\" style=\"stroke:yellow;stroke-width:1\" /><line x1=\"166.0\" y1=\"71.0\" x2=\"166.0\" y2=\"55.0\" stroke-linecap=\"round\" style=\"stroke:yellow;stroke-width:1\" /><line x1=\"249.0\" y1=\"480.0\" x2=\"249.0\" y2=\"464.0\" stroke-linecap=\"round\" style=\"stroke:cyan;stroke-width:1\" /><line x1=\"249.0\" y1=\"464.0\" x2=\"249.0\" y2=\"450.0\" stroke-linecap=\"round\" style=\"stroke:cyan;stroke-width:1\" /><line x1=\"249.0\" y1=\"450.0\" x2=\"249.0\" y2=\"441.0\" stroke-linecap=\"round\" style=\"stroke:cyan;stroke-width:1\" /><line x1=\"249.0\" y1=\"441.0\" x2=\"249.0\" y2=\"427.0\" stroke-linecap=\"round\" style=\"stroke:cyan;stroke-width:1\" /><line x1=\"249.0\" y1=\"427.0\" x2=\"249.0\" y2=\"424.0\" stroke-linecap=\"round\" style=\"stroke:cyan;stroke-width:1\" /><line x1=\"249.0\" y1=\"424.0\" x2=\"249.0\" y2=\"415.0\" stroke-linecap=\"round\" style=\"stroke:cyan;stroke-width:1\" /><line x1=\"249.0\" y1=\"415.0\" x2=\"249.0\" y2=\"397.0\" stroke-linecap=\"round\" style=\"stroke:cyan;stroke-width:1\" /><line x1=\"249.0\" y1=\"397.0\" x2=\"249.0\" y2=\"380.0\" stroke-linecap=\"round\" style=\"stroke:cyan;stroke-width:1\" /><line x1=\"249.0\" y1=\"380.0\" x2=\"249.0\" y2=\"361.0\" stroke-linecap=\"round\" style=\"stroke:cyan;stroke-width:1\" /><line x1=\"249.0\" y1=\"361.0\" x2=\"249.0\" y2=\"342.0\" stroke-linecap=\"round\" style=\"stroke:cyan;stroke-width:1\" /><line x1=\"249.0\" y1=\"342.0\" x2=\"249.0\" y2=\"325.0\" stroke-linecap=\"round\" style=\"stroke:cyan;stroke-width:1\" /><line x1=\"249.0\" y1=\"325.0\" x2=\"249.0\" y2=\"321.0\" stroke-linecap=\"round\" style=\"stroke:cyan;stroke-width:1\" /><line x1=\"249.0\" y1=\"321.0\" x2=\"249.0\" y2=\"315.0\" stroke-linecap=\"round\" style=\"stroke:cyan;stroke-width:1\" /><line x1=\"249.0\" y1=\"315.0\" x2=\"249.0\" y2=\"302.0\" stroke-linecap=\"round\" style=\"stroke:cyan;stroke-width:1\" /><line x1=\"249.0\" y1=\"302.0\" x2=\"249.0\" y2=\"288.0\" stroke-linecap=\"round\" style=\"stroke:cyan;stroke-width:1\" /><line x1=\"249.0\" y1=\"288.0\" x2=\"249.0\" y2=\"284.0\" stroke-linecap=\"round\" style=\"stroke:cyan;stroke-width:1\" /><line x1=\"249.0\" y1=\"284.0\" x2=\"249.0\" y2=\"283.0\" stroke-linecap=\"round\" style=\"stroke:cyan;stroke-width:1\" /><line x1=\"249.0\" y1=\"283.0\" x2=\"249.0\" y2=\"266.0\" stroke-linecap=\"round\" style=\"stroke:cyan;stroke-width:1\" /><line x1=\"249.0\" y1=\"266.0\" x2=\"249.0\" y2=\"263.0\" stroke-linecap=\"round\" style=\"stroke:cyan;stroke-width:1\" /><line x1=\"249.0\" y1=\"263.0\" x2=\"249.0\" y2=\"247.0\" stroke-linecap=\"round\" style=\"stroke:cyan;stroke-width:1\" /><line x1=\"249.0\" y1=\"247.0\" x2=\"249.0\" y2=\"231.0\" stroke-linecap=\"round\" style=\"stroke:cyan;stroke-width:1\" /><line x1=\"249.0\" y1=\"231.0\" x2=\"249.0\" y2=\"225.0\" stroke-linecap=\"round\" style=\"stroke:cyan;stroke-width:1\" /><line x1=\"249.0\" y1=\"225.0\" x2=\"249.0\" y2=\"213.0\" stroke-linecap=\"round\" style=\"stroke:cyan;stroke-width:1\" /><line x1=\"249.0\" y1=\"213.0\" x2=\"249.0\" y2=\"210.0\" stroke-linecap=\"round\" style=\"stroke:cyan;stroke-width:1\" /><line x1=\"249.0\" y1=\"210.0\" x2=\"249.0\" y2=\"195.0\" stroke-linecap=\"round\" style=\"stroke:cyan;stroke-width:1\" /><line x1=\"249.0\" y1=\"195.0\" x2=\"249.0\" y2=\"179.0\" stroke-linecap=\"round\" style=\"stroke:cyan;stroke-width:1\" /><line x1=\"249.0\" y1=\"179.0\" x2=\"249.0\" y2=\"168.0\" stroke-linecap=\"round\" style=\"stroke:cyan;stroke-width:1\" /><line x1=\"249.0\" y1=\"168.0\" x2=\"249.0\" y2=\"149.0\" stroke-linecap=\"round\" style=\"stroke:cyan;stroke-width:1\" /><line x1=\"249.0\" y1=\"149.0\" x2=\"249.0\" y2=\"142.0\" stroke-linecap=\"round\" style=\"stroke:cyan;stroke-width:1\" /><line x1=\"249.0\" y1=\"142.0\" x2=\"249.0\" y2=\"126.0\" stroke-linecap=\"round\" style=\"stroke:cyan;stroke-width:1\" /><line x1=\"249.0\" y1=\"126.0\" x2=\"249.0\" y2=\"118.0\" stroke-linecap=\"round\" style=\"stroke:cyan;stroke-width:1\" /><line x1=\"249.0\" y1=\"118.0\" x2=\"249.0\" y2=\"113.0\" stroke-linecap=\"round\" style=\"stroke:cyan;stroke-width:1\" /><line x1=\"249.0\" y1=\"113.0\" x2=\"249.0\" y2=\"97.0\" stroke-linecap=\"round\" style=\"stroke:cyan;stroke-width:1\" /><line x1=\"249.0\" y1=\"97.0\" x2=\"249.0\" y2=\"96.0\" stroke-linecap=\"round\" style=\"stroke:cyan;stroke-width:1\" /><line x1=\"249.0\" y1=\"96.0\" x2=\"249.0\" y2=\"94.0\" stroke-linecap=\"round\" style=\"stroke:cyan;stroke-width:1\" /><line x1=\"249.0\" y1=\"94.0\" x2=\"249.0\" y2=\"86.0\" stroke-linecap=\"round\" style=\"stroke:cyan;stroke-width:1\" /><line x1=\"249.0\" y1=\"86.0\" x2=\"249.0\" y2=\"68.0\" stroke-linecap=\"round\" style=\"stroke:cyan;stroke-width:1\" /><line x1=\"249.0\" y1=\"68.0\" x2=\"249.0\" y2=\"58.0\" stroke-linecap=\"round\" style=\"stroke:cyan;stroke-width:1\" /><line x1=\"249.0\" y1=\"58.0\" x2=\"249.0\" y2=\"57.0\" stroke-linecap=\"round\" style=\"stroke:cyan;stroke-width:1\" /><line x1=\"249.0\" y1=\"57.0\" x2=\"249.0\" y2=\"49.0\" stroke-linecap=\"round\" style=\"stroke:cyan;stroke-width:1\" /><line x1=\"249.0\" y1=\"49.0\" x2=\"249.0\" y2=\"30.0\" stroke-linecap=\"round\" style=\"stroke:cyan;stroke-width:1\" /><line x1=\"249.0\" y1=\"30.0\" x2=\"249.0\" y2=\"20.0\" stroke-linecap=\"round\" style=\"stroke:cyan;stroke-width:1\" /><line x1=\"249.0\" y1=\"20.0\" x2=\"249.0\" y2=\"14.0\" stroke-linecap=\"round\" style=\"stroke:cyan;stroke-width:1\" /><line x1=\"249.0\" y1=\"14.0\" x2=\"249.0\" y2=\"4.0\" stroke-linecap=\"round\" style=\"stroke:cyan;stroke-width:1\" /><line x1=\"249.0\" y1=\"4.0\" x2=\"249.0\" y2=\"2.0\" stroke-linecap=\"round\" style=\"stroke:cyan;stroke-width:1\" /><line x1=\"332.0\" y1=\"480.0\" x2=\"332.0\" y2=\"474.0\" stroke-linecap=\"round\" style=\"stroke:green;stroke-width:1\" /><line x1=\"332.0\" y1=\"474.0\" x2=\"332.0\" y2=\"473.0\" stroke-linecap=\"round\" style=\"stroke:green;stroke-width:1\" /><line x1=\"332.0\" y1=\"473.0\" x2=\"332.0\" y2=\"454.0\" stroke-linecap=\"round\" style=\"stroke:green;stroke-width:1\" /><line x1=\"332.0\" y1=\"454.0\" x2=\"332.0\" y2=\"444.0\" stroke-linecap=\"round\" style=\"stroke:green;stroke-width:1\" /><line x1=\"332.0\" y1=\"444.0\" x2=\"332.0\" y2=\"425.0\" stroke-linecap=\"round\" style=\"stroke:green;stroke-width:1\" /><line x1=\"332.0\" y1=\"425.0\" x2=\"332.0\" y2=\"418.0\" stroke-linecap=\"round\" style=\"stroke:green;stroke-width:1\" /><line x1=\"332.0\" y1=\"418.0\" x2=\"332.0\" y2=\"411.0\" stroke-linecap=\"round\" style=\"stroke:green;stroke-width:1\" /><line x1=\"332.0\" y1=\"411.0\" x2=\"332.0\" y2=\"410.0\" stroke-linecap=\"round\" style=\"stroke:green;stroke-width:1\" /><line x1=\"332.0\" y1=\"410.0\" x2=\"332.0\" y2=\"396.0\" stroke-linecap=\"round\" style=\"stroke:green;stroke-width:1\" /><line x1=\"332.0\" y1=\"396.0\" x2=\"332.0\" y2=\"395.0\" stroke-linecap=\"round\" style=\"stroke:green;stroke-width:1\" /><line x1=\"332.0\" y1=\"395.0\" x2=\"332.0\" y2=\"394.0\" stroke-linecap=\"round\" style=\"stroke:green;stroke-width:1\" /><line x1=\"332.0\" y1=\"394.0\" x2=\"332.0\" y2=\"380.0\" stroke-linecap=\"round\" style=\"stroke:green;stroke-width:1\" /><line x1=\"332.0\" y1=\"380.0\" x2=\"332.0\" y2=\"362.0\" stroke-linecap=\"round\" style=\"stroke:green;stroke-width:1\" /><line x1=\"332.0\" y1=\"362.0\" x2=\"332.0\" y2=\"345.0\" stroke-linecap=\"round\" style=\"stroke:green;stroke-width:1\" /><line x1=\"332.0\" y1=\"345.0\" x2=\"332.0\" y2=\"333.0\" stroke-linecap=\"round\" style=\"stroke:green;stroke-width:1\" /><line x1=\"332.0\" y1=\"333.0\" x2=\"332.0\" y2=\"323.0\" stroke-linecap=\"round\" style=\"stroke:green;stroke-width:1\" /><line x1=\"332.0\" y1=\"323.0\" x2=\"332.0\" y2=\"307.0\" stroke-linecap=\"round\" style=\"stroke:green;stroke-width:1\" /><line x1=\"332.0\" y1=\"307.0\" x2=\"332.0\" y2=\"289.0\" stroke-linecap=\"round\" style=\"stroke:green;stroke-width:1\" /><line x1=\"332.0\" y1=\"289.0\" x2=\"332.0\" y2=\"285.0\" stroke-linecap=\"round\" style=\"stroke:green;stroke-width:1\" /><line x1=\"332.0\" y1=\"285.0\" x2=\"332.0\" y2=\"278.0\" stroke-linecap=\"round\" style=\"stroke:green;stroke-width:1\" /><line x1=\"332.0\" y1=\"278.0\" x2=\"332.0\" y2=\"262.0\" stroke-linecap=\"round\" style=\"stroke:green;stroke-width:1\" /><line x1=\"332.0\" y1=\"262.0\" x2=\"332.0\" y2=\"247.0\" stroke-linecap=\"round\" style=\"stroke:green;stroke-width:1\" /><line x1=\"332.0\" y1=\"247.0\" x2=\"332.0\" y2=\"246.0\" stroke-linecap=\"round\" style=\"stroke:green;stroke-width:1\" /><line x1=\"332.0\" y1=\"246.0\" x2=\"332.0\" y2=\"229.0\" stroke-linecap=\"round\" style=\"stroke:green;stroke-width:1\" /><line x1=\"332.0\" y1=\"229.0\" x2=\"332.0\" y2=\"227.0\" stroke-linecap=\"round\" style=\"stroke:green;stroke-width:1\" /><line x1=\"332.0\" y1=\"227.0\" x2=\"332.0\" y2=\"224.0\" stroke-linecap=\"round\" style=\"stroke:green;stroke-width:1\" /><line x1=\"332.0\" y1=\"224.0\" x2=\"332.0\" y2=\"213.0\" stroke-linecap=\"round\" style=\"stroke:green;stroke-width:1\" /><line x1=\"332.0\" y1=\"213.0\" x2=\"332.0\" y2=\"199.0\" stroke-linecap=\"round\" style=\"stroke:green;stroke-width:1\" /><line x1=\"332.0\" y1=\"199.0\" x2=\"332.0\" y2=\"185.0\" stroke-linecap=\"round\" style=\"stroke:green;stroke-width:1\" /><line x1=\"332.0\" y1=\"185.0\" x2=\"332.0\" y2=\"183.0\" stroke-linecap=\"round\" style=\"stroke:green;stroke-width:1\" /><line x1=\"332.0\" y1=\"183.0\" x2=\"332.0\" y2=\"170.0\" stroke-linecap=\"round\" style=\"stroke:green;stroke-width:1\" /><line x1=\"332.0\" y1=\"170.0\" x2=\"332.0\" y2=\"157.0\" stroke-linecap=\"round\" style=\"stroke:green;stroke-width:1\" /><line x1=\"332.0\" y1=\"157.0\" x2=\"332.0\" y2=\"156.0\" stroke-linecap=\"round\" style=\"stroke:green;stroke-width:1\" /><line x1=\"332.0\" y1=\"156.0\" x2=\"332.0\" y2=\"155.0\" stroke-linecap=\"round\" style=\"stroke:green;stroke-width:1\" /><line x1=\"332.0\" y1=\"155.0\" x2=\"332.0\" y2=\"140.0\" stroke-linecap=\"round\" style=\"stroke:green;stroke-width:1\" /><line x1=\"332.0\" y1=\"140.0\" x2=\"332.0\" y2=\"137.0\" stroke-linecap=\"round\" style=\"stroke:green;stroke-width:1\" /><line x1=\"332.0\" y1=\"137.0\" x2=\"332.0\" y2=\"118.0\" stroke-linecap=\"round\" style=\"stroke:green;stroke-width:1\" /><line x1=\"332.0\" y1=\"118.0\" x2=\"332.0\" y2=\"99.0\" stroke-linecap=\"round\" style=\"stroke:green;stroke-width:1\" /><line x1=\"332.0\" y1=\"99.0\" x2=\"332.0\" y2=\"94.0\" stroke-linecap=\"round\" style=\"stroke:green;stroke-width:1\" /><line x1=\"332.0\" y1=\"94.0\" x2=\"332.0\" y2=\"92.0\" stroke-linecap=\"round\" style=\"stroke:green;stroke-width:1\" /><line x1=\"332.0\" y1=\"92.0\" x2=\"332.0\" y2=\"74.0\" stroke-linecap=\"round\" style=\"stroke:green;stroke-width:1\" /><line x1=\"332.0\" y1=\"74.0\" x2=\"332.0\" y2=\"69.0\" stroke-linecap=\"round\" style=\"stroke:green;stroke-width:1\" /><line x1=\"332.0\" y1=\"69.0\" x2=\"332.0\" y2=\"55.0\" stroke-linecap=\"round\" style=\"stroke:green;stroke-width:1\" /><line x1=\"415.0\" y1=\"480.0\" x2=\"415.0\" y2=\"472.0\" stroke-linecap=\"round\" style=\"stroke:purple;stroke-width:1\" /><line x1=\"415.0\" y1=\"472.0\" x2=\"415.0\" y2=\"467.0\" stroke-linecap=\"round\" style=\"stroke:purple;stroke-width:1\" /><line x1=\"415.0\" y1=\"467.0\" x2=\"415.0\" y2=\"462.0\" stroke-linecap=\"round\" style=\"stroke:purple;stroke-width:1\" /><line x1=\"415.0\" y1=\"462.0\" x2=\"415.0\" y2=\"452.0\" stroke-linecap=\"round\" style=\"stroke:purple;stroke-width:1\" /><line x1=\"415.0\" y1=\"452.0\" x2=\"415.0\" y2=\"447.0\" stroke-linecap=\"round\" style=\"stroke:purple;stroke-width:1\" /><line x1=\"415.0\" y1=\"447.0\" x2=\"415.0\" y2=\"436.0\" stroke-linecap=\"round\" style=\"stroke:purple;stroke-width:1\" /><line x1=\"415.0\" y1=\"436.0\" x2=\"415.0\" y2=\"430.0\" stroke-linecap=\"round\" style=\"stroke:purple;stroke-width:1\" /><line x1=\"415.0\" y1=\"430.0\" x2=\"415.0\" y2=\"417.0\" stroke-linecap=\"round\" style=\"stroke:purple;stroke-width:1\" /><line x1=\"415.0\" y1=\"417.0\" x2=\"415.0\" y2=\"408.0\" stroke-linecap=\"round\" style=\"stroke:purple;stroke-width:1\" /><line x1=\"415.0\" y1=\"408.0\" x2=\"415.0\" y2=\"395.0\" stroke-linecap=\"round\" style=\"stroke:purple;stroke-width:1\" /><line x1=\"415.0\" y1=\"395.0\" x2=\"415.0\" y2=\"378.0\" stroke-linecap=\"round\" style=\"stroke:purple;stroke-width:1\" /><line x1=\"415.0\" y1=\"378.0\" x2=\"415.0\" y2=\"375.0\" stroke-linecap=\"round\" style=\"stroke:purple;stroke-width:1\" /><line x1=\"415.0\" y1=\"375.0\" x2=\"415.0\" y2=\"369.0\" stroke-linecap=\"round\" style=\"stroke:purple;stroke-width:1\" /><line x1=\"415.0\" y1=\"369.0\" x2=\"415.0\" y2=\"366.0\" stroke-linecap=\"round\" style=\"stroke:purple;stroke-width:1\" /><line x1=\"415.0\" y1=\"366.0\" x2=\"415.0\" y2=\"358.0\" stroke-linecap=\"round\" style=\"stroke:purple;stroke-width:1\" /><line x1=\"415.0\" y1=\"358.0\" x2=\"415.0\" y2=\"341.0\" stroke-linecap=\"round\" style=\"stroke:purple;stroke-width:1\" /><line x1=\"415.0\" y1=\"341.0\" x2=\"415.0\" y2=\"340.0\" stroke-linecap=\"round\" style=\"stroke:purple;stroke-width:1\" /><line x1=\"415.0\" y1=\"340.0\" x2=\"415.0\" y2=\"327.0\" stroke-linecap=\"round\" style=\"stroke:purple;stroke-width:1\" /><line x1=\"415.0\" y1=\"327.0\" x2=\"415.0\" y2=\"309.0\" stroke-linecap=\"round\" style=\"stroke:purple;stroke-width:1\" /><line x1=\"415.0\" y1=\"309.0\" x2=\"415.0\" y2=\"302.0\" stroke-linecap=\"round\" style=\"stroke:purple;stroke-width:1\" /><line x1=\"415.0\" y1=\"302.0\" x2=\"415.0\" y2=\"285.0\" stroke-linecap=\"round\" style=\"stroke:purple;stroke-width:1\" /><line x1=\"415.0\" y1=\"285.0\" x2=\"415.0\" y2=\"284.0\" stroke-linecap=\"round\" style=\"stroke:purple;stroke-width:1\" /><line x1=\"415.0\" y1=\"284.0\" x2=\"415.0\" y2=\"266.0\" stroke-linecap=\"round\" style=\"stroke:purple;stroke-width:1\" /><line x1=\"415.0\" y1=\"266.0\" x2=\"415.0\" y2=\"260.0\" stroke-linecap=\"round\" style=\"stroke:purple;stroke-width:1\" /><line x1=\"415.0\" y1=\"260.0\" x2=\"415.0\" y2=\"253.0\" stroke-linecap=\"round\" style=\"stroke:purple;stroke-width:1\" /><line x1=\"415.0\" y1=\"253.0\" x2=\"415.0\" y2=\"234.0\" stroke-linecap=\"round\" style=\"stroke:purple;stroke-width:1\" /><line x1=\"415.0\" y1=\"234.0\" x2=\"415.0\" y2=\"220.0\" stroke-linecap=\"round\" style=\"stroke:purple;stroke-width:1\" /><line x1=\"415.0\" y1=\"220.0\" x2=\"415.0\" y2=\"206.0\" stroke-linecap=\"round\" style=\"stroke:purple;stroke-width:1\" /><line x1=\"415.0\" y1=\"206.0\" x2=\"415.0\" y2=\"191.0\" stroke-linecap=\"round\" style=\"stroke:purple;stroke-width:1\" /><line x1=\"415.0\" y1=\"191.0\" x2=\"415.0\" y2=\"177.0\" stroke-linecap=\"round\" style=\"stroke:purple;stroke-width:1\" /><line x1=\"415.0\" y1=\"177.0\" x2=\"415.0\" y2=\"162.0\" stroke-linecap=\"round\" style=\"stroke:purple;stroke-width:1\" /><line x1=\"415.0\" y1=\"162.0\" x2=\"415.0\" y2=\"146.0\" stroke-linecap=\"round\" style=\"stroke:purple;stroke-width:1\" /><line x1=\"415.0\" y1=\"146.0\" x2=\"415.0\" y2=\"142.0\" stroke-linecap=\"round\" style=\"stroke:purple;stroke-width:1\" /><line x1=\"415.0\" y1=\"142.0\" x2=\"415.0\" y2=\"139.0\" stroke-linecap=\"round\" style=\"stroke:purple;stroke-width:1\" /><line x1=\"415.0\" y1=\"139.0\" x2=\"415.0\" y2=\"125.0\" stroke-linecap=\"round\" style=\"stroke:purple;stroke-width:1\" /><line x1=\"415.0\" y1=\"125.0\" x2=\"415.0\" y2=\"123.0\" stroke-linecap=\"round\" style=\"stroke:purple;stroke-width:1\" /><line x1=\"415.0\" y1=\"123.0\" x2=\"415.0\" y2=\"104.0\" stroke-linecap=\"round\" style=\"stroke:purple;stroke-width:1\" /><line x1=\"415.0\" y1=\"104.0\" x2=\"415.0\" y2=\"103.0\" stroke-linecap=\"round\" style=\"stroke:purple;stroke-width:1\" /><line x1=\"415.0\" y1=\"103.0\" x2=\"415.0\" y2=\"92.0\" stroke-linecap=\"round\" style=\"stroke:purple;stroke-width:1\" /><line x1=\"415.0\" y1=\"92.0\" x2=\"415.0\" y2=\"81.0\" stroke-linecap=\"round\" style=\"stroke:purple;stroke-width:1\" /><line x1=\"415.0\" y1=\"81.0\" x2=\"415.0\" y2=\"71.0\" stroke-linecap=\"round\" style=\"stroke:purple;stroke-width:1\" /><line x1=\"415.0\" y1=\"71.0\" x2=\"415.0\" y2=\"69.0\" stroke-linecap=\"round\" style=\"stroke:purple;stroke-width:1\" /><line x1=\"415.0\" y1=\"69.0\" x2=\"415.0\" y2=\"52.0\" stroke-linecap=\"round\" style=\"stroke:purple;stroke-width:1\" />\n",
              "        \n",
              "        \n",
              "        <g id=\"turtle2\" visibility=\"visible\" transform=\"rotate(180,83.0,28.0) translate(83.0, 28.0)\">\n",
              "<polygon points=\"0,16 2,14 1,10 4,7 7,9 9,8 6,5 7,1 5,-3 8,-6 6,-8 4,-5 0,-7 -4,-5 -6,-8 -8,-6 -5,-3 -7,1 -6,5 -9,8 -7,9 -4,7 -1,10 -2,14\" transform=\"skewX(0) scale(1,1)\" style=\"stroke:brown;stroke-width:1;fill:brown\" />\n",
              "</g><g id=\"turtle2\" visibility=\"visible\" transform=\"rotate(180,166.0,55.0) translate(166.0, 55.0)\">\n",
              "<polygon points=\"0,16 2,14 1,10 4,7 7,9 9,8 6,5 7,1 5,-3 8,-6 6,-8 4,-5 0,-7 -4,-5 -6,-8 -8,-6 -5,-3 -7,1 -6,5 -9,8 -7,9 -4,7 -1,10 -2,14\" transform=\"skewX(0) scale(1,1)\" style=\"stroke:yellow;stroke-width:1;fill:yellow\" />\n",
              "</g><g id=\"turtle2\" visibility=\"visible\" transform=\"rotate(180,249.0,2.0) translate(249.0, 2.0)\">\n",
              "<polygon points=\"0,16 2,14 1,10 4,7 7,9 9,8 6,5 7,1 5,-3 8,-6 6,-8 4,-5 0,-7 -4,-5 -6,-8 -8,-6 -5,-3 -7,1 -6,5 -9,8 -7,9 -4,7 -1,10 -2,14\" transform=\"skewX(0) scale(1,1)\" style=\"stroke:cyan;stroke-width:1;fill:cyan\" />\n",
              "</g><g id=\"turtle2\" visibility=\"visible\" transform=\"rotate(180,332.0,55.0) translate(332.0, 55.0)\">\n",
              "<polygon points=\"0,16 2,14 1,10 4,7 7,9 9,8 6,5 7,1 5,-3 8,-6 6,-8 4,-5 0,-7 -4,-5 -6,-8 -8,-6 -5,-3 -7,1 -6,5 -9,8 -7,9 -4,7 -1,10 -2,14\" transform=\"skewX(0) scale(1,1)\" style=\"stroke:green;stroke-width:1;fill:green\" />\n",
              "</g><g id=\"turtle2\" visibility=\"visible\" transform=\"rotate(180,415.0,52.0) translate(415.0, 52.0)\">\n",
              "<polygon points=\"0,16 2,14 1,10 4,7 7,9 9,8 6,5 7,1 5,-3 8,-6 6,-8 4,-5 0,-7 -4,-5 -6,-8 -8,-6 -5,-3 -7,1 -6,5 -9,8 -7,9 -4,7 -1,10 -2,14\" transform=\"skewX(0) scale(1,1)\" style=\"stroke:purple;stroke-width:1;fill:purple\" />\n",
              "</g>\n",
              "      </svg>\n",
              "    "
            ]
          },
          "metadata": {}
        },
        {
          "output_type": "stream",
          "name": "stdout",
          "text": [
            "Cyan turtle is the winner 🎉🎉🎉\n"
          ]
        }
      ]
    },
    {
      "cell_type": "markdown",
      "source": [
        "Credit: [Tech With Tim](https://www.youtube.com/watch?v=gQP0geNsO4A)."
      ],
      "metadata": {
        "id": "C4OhRR_bvs98"
      }
    },
    {
      "cell_type": "markdown",
      "source": [
        "## Set Up"
      ],
      "metadata": {
        "id": "mQwMOvKu06F9"
      }
    },
    {
      "cell_type": "markdown",
      "source": [
        "Use `initializeTurtle()` command to initialise the screen and the turtle objects. `initializeTurtle()` has two *optional arguments*, namley `window` which is a *tuple* storing screen width and screen height parameters, and `mode` parameter which determines behaviour of Turtle objects (sich as coordinate system). **We do not have to worry about any of these and will settle with default parameters**.\n",
        "\n",
        "If you want, you can adjust the screen size by specifying `initializeTurtle(window=(700, 500))` to your personal preference. Or, change background color with `bgcolor('black')`.\n",
        "\n",
        "*Note*: Because variables preserve their values in Colab and Jupyter cells until the runtime is restarted, it is recommended to include `clearscreen()` as the first line in any Colab or Jupyter cell that is expected to be re-run more than once to clear all turtles before the next execution.\n",
        "\n",
        "Check [documentation](https://larryriddle.agnesscott.org/ColabTurtlePlus/documentation2.html) for more comands and options."
      ],
      "metadata": {
        "id": "ofPHDGNvvazl"
      }
    },
    {
      "cell_type": "code",
      "source": [
        "from ColabTurtlePlus.Turtle import *"
      ],
      "metadata": {
        "colab": {
          "base_uri": "https://localhost:8080/"
        },
        "id": "_ORPR09-9NSk",
        "outputId": "02a099a6-a0d1-45fb-87c8-07992b598f39"
      },
      "execution_count": 2,
      "outputs": [
        {
          "output_type": "stream",
          "name": "stdout",
          "text": [
            "Put clearscreen() as the first line in a cell (after the import command) to re-run turtle commands in the cell\n"
          ]
        }
      ]
    },
    {
      "cell_type": "code",
      "source": [
        "WIDTH, HEIGHT = 500, 500 # constants\n",
        "\n",
        "\n",
        "clearscreen()\n",
        "initializeTurtle((WIDTH, HEIGHT))\n",
        "\n",
        "\n",
        "bob = Turtle()\n",
        "bob.shape('turtle')"
      ],
      "metadata": {
        "colab": {
          "base_uri": "https://localhost:8080/",
          "height": 522
        },
        "id": "ncvqzlCmwRSH",
        "outputId": "94a7ebba-b633-4501-a289-47bf57fab5c6"
      },
      "execution_count": 4,
      "outputs": [
        {
          "output_type": "display_data",
          "data": {
            "text/plain": [
              "<IPython.core.display.HTML object>"
            ],
            "text/html": [
              "\n",
              "      <svg width=\"500\" height=\"500\">  \n",
              "        <rect width=\"100%\" height=\"100%\" style=\"fill:white;stroke:;stroke-width:1\"/>\n",
              "        \n",
              "        \n",
              "        \n",
              "        \n",
              "        \n",
              "        <g id=\"turtle\" visibility=\"visible\" transform=\"rotate(90,250.0,250.0) translate(250.0, 250.0)\">\n",
              "<path style=\"stroke:black;fill-rule:evenodd;fill:black;fill-opacity:1;\" transform=\"skewX(0) scale(1,1)\" d=\"m 1.1536693,-18.56101 c -2.105469,1.167969 -3.203125,3.441407 -3.140625,6.5 l 0.011719,0.519532 -0.300782,-0.15625 c -1.308594,-0.671875 -2.828125,-0.824219 -4.378906,-0.429688 -1.9375,0.484375 -3.8906253,2.089844 -6.0117193,4.9257825 -1.332031,1.785156 -1.714843,2.644531 -1.351562,3.035156 l 0.113281,0.125 h 0.363281 c 0.71875,0 1.308594,-0.265625 4.6679693,-2.113282 1.199219,-0.660156 2.183594,-1.199218 2.191406,-1.199218 0.00781,0 -0.023437,0.089844 -0.074218,0.195312 -0.472657,1.058594 -1.046876,2.785156 -1.335938,4.042969 -1.054688,4.574219 -0.351562,8.453125 2.101562,11.582031 0.28125,0.355469 0.292969,0.253906 -0.097656,0.722656 -2.046875,2.4609375 -3.027344,4.8984375 -2.734375,6.8046875 0.050781,0.339844 0.042969,0.335938 0.679688,0.335938 2.023437,0 4.15625,-1.316407 6.21875,-3.835938 0.222656,-0.269531 0.191406,-0.261719 0.425781,-0.113281 0.730469,0.46875 2.460938,1.390625 2.613281,1.390625 0.160157,0 1.765625,-0.753906 2.652344,-1.246094 0.167969,-0.09375 0.308594,-0.164062 0.308594,-0.160156 0.066406,0.105468 0.761719,0.855468 1.085937,1.171875 1.613282,1.570312 3.339844,2.402343 5.3593747,2.570312 0.324219,0.02734 0.355469,0.0078 0.425781,-0.316406 0.375,-1.742187 -0.382812,-4.058594 -2.1445307,-6.5585935 l -0.320312,-0.457031 0.15625,-0.183594 c 3.2460927,-3.824218 3.4335927,-9.08593704 0.558593,-15.816406 l -0.050781,-0.125 1.7382807,0.859375 c 3.585938,1.773437 4.371094,2.097656 5.085938,2.097656 0.945312,0 0.75,-0.863281 -0.558594,-2.507812 C 11.458356,-11.838353 8.3333563,-13.268041 4.8607003,-11.721166 l -0.363281,0.164063 0.019531,-0.09375 c 0.121094,-0.550781 0.183594,-1.800781 0.121094,-2.378907 -0.203125,-1.867187 -1.035157,-3.199218 -2.695313,-4.308593 -0.523437,-0.351563 -0.546875,-0.355469 -0.789062,-0.222657\" />\n",
              "</g>\n",
              "      </svg>\n",
              "    "
            ]
          },
          "metadata": {}
        }
      ]
    },
    {
      "cell_type": "markdown",
      "source": [
        "## Your (turtle's) First steps\n",
        "\n",
        "\n",
        "| Command | Alias(es) | Description |\n",
        "|---------|-----------|-------------|\n",
        "| forward(units) | fd(units) | Moves the turtle in the direction it is facing, by units pixels |\n",
        "| backward(units) | bk(units), back(units) | Moves the turtle in the opposite of the direction it is facing, by units pixels |\n",
        "| right(degrees) | rt(degrees) | Turns the turtle to right by the given degrees |\n",
        "| left(degrees) | lt(degrees) | Turns the turtle to left by the given degrees |\n",
        "\n",
        "These commands govern how a turtle would move on the canvas. The canvas is a coordinate system, with the center (where the turtle starts by default) is at (0, 0). Canvas boundaries are determined by the width and height parameters we set up. If height is 500, the upper boundary of the canvas will be 250, lower boundary - 250.  "
      ],
      "metadata": {
        "id": "kJFOcOUp3UDV"
      }
    },
    {
      "cell_type": "markdown",
      "source": [
        "## Ask Bob to draw a Square!"
      ],
      "metadata": {
        "id": "lHgas3cI66JI"
      }
    },
    {
      "cell_type": "code",
      "source": [
        "clearscreen()\n",
        "initializeTurtle((WIDTH, HEIGHT))\n",
        "\n",
        "bob = Turtle()\n",
        "bob.shape('turtle')\n",
        "\n",
        "# your code #"
      ],
      "metadata": {
        "colab": {
          "base_uri": "https://localhost:8080/",
          "height": 522
        },
        "id": "7g2EMo3Dw5Od",
        "outputId": "90c3d980-3bd2-4c3a-9690-d7fc3f7c5039"
      },
      "execution_count": 6,
      "outputs": [
        {
          "output_type": "display_data",
          "data": {
            "text/plain": [
              "<IPython.core.display.HTML object>"
            ],
            "text/html": [
              "\n",
              "      <svg width=\"500\" height=\"500\">  \n",
              "        <rect width=\"100%\" height=\"100%\" style=\"fill:white;stroke:;stroke-width:1\"/>\n",
              "        \n",
              "        \n",
              "        <line x1=\"250.0\" y1=\"250.0\" x2=\"350.0\" y2=\"250.0\" stroke-linecap=\"round\" style=\"stroke:black;stroke-width:1\" /><line x1=\"350.0\" y1=\"250.0\" x2=\"350.0\" y2=\"150.0\" stroke-linecap=\"round\" style=\"stroke:black;stroke-width:1\" /><line x1=\"350.0\" y1=\"150.0\" x2=\"250.0\" y2=\"150.0\" stroke-linecap=\"round\" style=\"stroke:black;stroke-width:1\" /><line x1=\"250.0\" y1=\"150.0\" x2=\"250.0\" y2=\"250.0\" stroke-linecap=\"round\" style=\"stroke:black;stroke-width:1\" />\n",
              "        \n",
              "        \n",
              "        <g id=\"turtle\" visibility=\"visible\" transform=\"rotate(180,250.0,250.0) translate(250.0, 250.0)\">\n",
              "<path style=\"stroke:black;fill-rule:evenodd;fill:black;fill-opacity:1;\" transform=\"skewX(0) scale(1,1)\" d=\"m 1.1536693,-18.56101 c -2.105469,1.167969 -3.203125,3.441407 -3.140625,6.5 l 0.011719,0.519532 -0.300782,-0.15625 c -1.308594,-0.671875 -2.828125,-0.824219 -4.378906,-0.429688 -1.9375,0.484375 -3.8906253,2.089844 -6.0117193,4.9257825 -1.332031,1.785156 -1.714843,2.644531 -1.351562,3.035156 l 0.113281,0.125 h 0.363281 c 0.71875,0 1.308594,-0.265625 4.6679693,-2.113282 1.199219,-0.660156 2.183594,-1.199218 2.191406,-1.199218 0.00781,0 -0.023437,0.089844 -0.074218,0.195312 -0.472657,1.058594 -1.046876,2.785156 -1.335938,4.042969 -1.054688,4.574219 -0.351562,8.453125 2.101562,11.582031 0.28125,0.355469 0.292969,0.253906 -0.097656,0.722656 -2.046875,2.4609375 -3.027344,4.8984375 -2.734375,6.8046875 0.050781,0.339844 0.042969,0.335938 0.679688,0.335938 2.023437,0 4.15625,-1.316407 6.21875,-3.835938 0.222656,-0.269531 0.191406,-0.261719 0.425781,-0.113281 0.730469,0.46875 2.460938,1.390625 2.613281,1.390625 0.160157,0 1.765625,-0.753906 2.652344,-1.246094 0.167969,-0.09375 0.308594,-0.164062 0.308594,-0.160156 0.066406,0.105468 0.761719,0.855468 1.085937,1.171875 1.613282,1.570312 3.339844,2.402343 5.3593747,2.570312 0.324219,0.02734 0.355469,0.0078 0.425781,-0.316406 0.375,-1.742187 -0.382812,-4.058594 -2.1445307,-6.5585935 l -0.320312,-0.457031 0.15625,-0.183594 c 3.2460927,-3.824218 3.4335927,-9.08593704 0.558593,-15.816406 l -0.050781,-0.125 1.7382807,0.859375 c 3.585938,1.773437 4.371094,2.097656 5.085938,2.097656 0.945312,0 0.75,-0.863281 -0.558594,-2.507812 C 11.458356,-11.838353 8.3333563,-13.268041 4.8607003,-11.721166 l -0.363281,0.164063 0.019531,-0.09375 c 0.121094,-0.550781 0.183594,-1.800781 0.121094,-2.378907 -0.203125,-1.867187 -1.035157,-3.199218 -2.695313,-4.308593 -0.523437,-0.351563 -0.546875,-0.355469 -0.789062,-0.222657\" />\n",
              "<animateTransform id = \"one\" attributeName=\"transform\" \n",
              "                      type=\"scale\"\n",
              "                      from=\"1 1\" to=\"1 1\"\n",
              "                      begin=\"0s\" dur=\"0.01s\"\n",
              "                      repeatCount=\"1\"\n",
              "                      additive=\"sum\"\n",
              "                      fill=\"freeze\"\n",
              "                /><animateTransform attributeName=\"transform\"\n",
              "                    type=\"rotate\"\n",
              "                    from=\"0 0 0\" to =\"-90 0 0\"\n",
              "                    begin=\"one.end\" dur=\"0.25s\"\n",
              "                    repeatCount=\"1\"\n",
              "                    additive=\"sum\"\n",
              "                    fill=\"freeze\"\n",
              "                /></g>\n",
              "      </svg>\n",
              "    "
            ]
          },
          "metadata": {}
        }
      ]
    },
    {
      "cell_type": "markdown",
      "source": [
        "## A note on For and While Loops\n",
        "\n",
        "**Iteration** means executing the same block of code over and over, potentially many times. A programming structure that implements iteration is called a **loop**.\n",
        "\n",
        "- With indefinite iteration, the number of times the loop is executed isn’t specified explicitly in advance. Rather, the designated block is executed repeatedly as long as some condition is met.\n",
        "\n",
        "- With definite iteration, the number of times the designated block will be executed is specified explicitly at the time the loop starts.\n",
        "\n",
        "for more, see:\n",
        "- [tutorial on while loop](https://realpython.com/python-while-loop/)\n",
        "- [tutorial on for loop](https://realpython.com/python-for-loop/)"
      ],
      "metadata": {
        "id": "Cl2XBMMwNPQG"
      }
    },
    {
      "cell_type": "code",
      "source": [
        "clearscreen()\n",
        "initializeTurtle((WIDTH, HEIGHT))\n",
        "\n",
        "bob = Turtle()\n",
        "bob.shape('turtle')\n",
        "\n",
        "# remember indentation!\n",
        "for i in range(4): # euqivalent to \"for i in (0, 1, 2, 3)\"\n",
        "    ..."
      ],
      "metadata": {
        "colab": {
          "base_uri": "https://localhost:8080/",
          "height": 522
        },
        "id": "KeFk8VPnOh0f",
        "outputId": "1eb52806-668d-445a-9a88-57f1002e2a1a"
      },
      "execution_count": 7,
      "outputs": [
        {
          "output_type": "display_data",
          "data": {
            "text/plain": [
              "<IPython.core.display.HTML object>"
            ],
            "text/html": [
              "\n",
              "      <svg width=\"500\" height=\"500\">  \n",
              "        <rect width=\"100%\" height=\"100%\" style=\"fill:white;stroke:;stroke-width:1\"/>\n",
              "        \n",
              "        \n",
              "        <line x1=\"250.0\" y1=\"250.0\" x2=\"350.0\" y2=\"250.0\" stroke-linecap=\"round\" style=\"stroke:black;stroke-width:1\" /><line x1=\"350.0\" y1=\"250.0\" x2=\"350.0\" y2=\"150.0\" stroke-linecap=\"round\" style=\"stroke:black;stroke-width:1\" /><line x1=\"350.0\" y1=\"150.0\" x2=\"250.0\" y2=\"150.0\" stroke-linecap=\"round\" style=\"stroke:black;stroke-width:1\" /><line x1=\"250.0\" y1=\"150.0\" x2=\"250.0\" y2=\"250.0\" stroke-linecap=\"round\" style=\"stroke:black;stroke-width:1\" />\n",
              "        \n",
              "        \n",
              "        <g id=\"turtle\" visibility=\"visible\" transform=\"rotate(180,250.0,250.0) translate(250.0, 250.0)\">\n",
              "<path style=\"stroke:black;fill-rule:evenodd;fill:black;fill-opacity:1;\" transform=\"skewX(0) scale(1,1)\" d=\"m 1.1536693,-18.56101 c -2.105469,1.167969 -3.203125,3.441407 -3.140625,6.5 l 0.011719,0.519532 -0.300782,-0.15625 c -1.308594,-0.671875 -2.828125,-0.824219 -4.378906,-0.429688 -1.9375,0.484375 -3.8906253,2.089844 -6.0117193,4.9257825 -1.332031,1.785156 -1.714843,2.644531 -1.351562,3.035156 l 0.113281,0.125 h 0.363281 c 0.71875,0 1.308594,-0.265625 4.6679693,-2.113282 1.199219,-0.660156 2.183594,-1.199218 2.191406,-1.199218 0.00781,0 -0.023437,0.089844 -0.074218,0.195312 -0.472657,1.058594 -1.046876,2.785156 -1.335938,4.042969 -1.054688,4.574219 -0.351562,8.453125 2.101562,11.582031 0.28125,0.355469 0.292969,0.253906 -0.097656,0.722656 -2.046875,2.4609375 -3.027344,4.8984375 -2.734375,6.8046875 0.050781,0.339844 0.042969,0.335938 0.679688,0.335938 2.023437,0 4.15625,-1.316407 6.21875,-3.835938 0.222656,-0.269531 0.191406,-0.261719 0.425781,-0.113281 0.730469,0.46875 2.460938,1.390625 2.613281,1.390625 0.160157,0 1.765625,-0.753906 2.652344,-1.246094 0.167969,-0.09375 0.308594,-0.164062 0.308594,-0.160156 0.066406,0.105468 0.761719,0.855468 1.085937,1.171875 1.613282,1.570312 3.339844,2.402343 5.3593747,2.570312 0.324219,0.02734 0.355469,0.0078 0.425781,-0.316406 0.375,-1.742187 -0.382812,-4.058594 -2.1445307,-6.5585935 l -0.320312,-0.457031 0.15625,-0.183594 c 3.2460927,-3.824218 3.4335927,-9.08593704 0.558593,-15.816406 l -0.050781,-0.125 1.7382807,0.859375 c 3.585938,1.773437 4.371094,2.097656 5.085938,2.097656 0.945312,0 0.75,-0.863281 -0.558594,-2.507812 C 11.458356,-11.838353 8.3333563,-13.268041 4.8607003,-11.721166 l -0.363281,0.164063 0.019531,-0.09375 c 0.121094,-0.550781 0.183594,-1.800781 0.121094,-2.378907 -0.203125,-1.867187 -1.035157,-3.199218 -2.695313,-4.308593 -0.523437,-0.351563 -0.546875,-0.355469 -0.789062,-0.222657\" />\n",
              "<animateTransform id = \"one\" attributeName=\"transform\" \n",
              "                      type=\"scale\"\n",
              "                      from=\"1 1\" to=\"1 1\"\n",
              "                      begin=\"0s\" dur=\"0.01s\"\n",
              "                      repeatCount=\"1\"\n",
              "                      additive=\"sum\"\n",
              "                      fill=\"freeze\"\n",
              "                /><animateTransform attributeName=\"transform\"\n",
              "                    type=\"rotate\"\n",
              "                    from=\"0 0 0\" to =\"-90 0 0\"\n",
              "                    begin=\"one.end\" dur=\"0.25s\"\n",
              "                    repeatCount=\"1\"\n",
              "                    additive=\"sum\"\n",
              "                    fill=\"freeze\"\n",
              "                /></g>\n",
              "      </svg>\n",
              "    "
            ]
          },
          "metadata": {}
        }
      ]
    },
    {
      "cell_type": "markdown",
      "source": [
        "## A Note on Variables\n",
        "\n",
        "**Variables** in Python are symbolic names that reference or point to data stored in memory. Think of them as labels attached to boxes, where each box can hold a value. These values can be of various types, such as numbers (integers, floating-point), strings (text), lists, dictionaries, and more.\n",
        "\n",
        "Variables in Python are dynamically typed, meaning you don't need to declare their type explicitly before using them; the Python interpreter automatically determines the type based on the assigned value. You can create or modify a variable simply by assigning a value to it using the equals sign (`=`)."
      ],
      "metadata": {
        "id": "R7uqxikoPr3r"
      }
    },
    {
      "cell_type": "code",
      "source": [
        "step = 50\n",
        "angle = 90\n",
        "\n",
        "clearscreen()\n",
        "initializeTurtle((WIDTH, HEIGHT))\n",
        "\n",
        "\n",
        "bob = Turtle()\n",
        "bob.shape('turtle')\n",
        "\n",
        "# remember indentation!\n",
        "for i in range(4): # euqivalent to \"for i in (0, 1, 2, 3)\"\n",
        "    ..."
      ],
      "metadata": {
        "colab": {
          "base_uri": "https://localhost:8080/",
          "height": 522
        },
        "id": "SCIk3ovNQJ-_",
        "outputId": "8a39f7b5-b654-49fd-daab-5a2d82b4973f"
      },
      "execution_count": 8,
      "outputs": [
        {
          "output_type": "display_data",
          "data": {
            "text/plain": [
              "<IPython.core.display.HTML object>"
            ],
            "text/html": [
              "\n",
              "      <svg width=\"500\" height=\"500\">  \n",
              "        <rect width=\"100%\" height=\"100%\" style=\"fill:white;stroke:;stroke-width:1\"/>\n",
              "        \n",
              "        \n",
              "        <line x1=\"250.0\" y1=\"250.0\" x2=\"300.0\" y2=\"250.0\" stroke-linecap=\"round\" style=\"stroke:black;stroke-width:1\" /><line x1=\"300.0\" y1=\"250.0\" x2=\"300.0\" y2=\"200.0\" stroke-linecap=\"round\" style=\"stroke:black;stroke-width:1\" /><line x1=\"300.0\" y1=\"200.0\" x2=\"250.0\" y2=\"200.0\" stroke-linecap=\"round\" style=\"stroke:black;stroke-width:1\" /><line x1=\"250.0\" y1=\"200.0\" x2=\"250.0\" y2=\"250.0\" stroke-linecap=\"round\" style=\"stroke:black;stroke-width:1\" />\n",
              "        \n",
              "        \n",
              "        <g id=\"turtle\" visibility=\"visible\" transform=\"rotate(180,250.0,250.0) translate(250.0, 250.0)\">\n",
              "<path style=\"stroke:black;fill-rule:evenodd;fill:black;fill-opacity:1;\" transform=\"skewX(0) scale(1,1)\" d=\"m 1.1536693,-18.56101 c -2.105469,1.167969 -3.203125,3.441407 -3.140625,6.5 l 0.011719,0.519532 -0.300782,-0.15625 c -1.308594,-0.671875 -2.828125,-0.824219 -4.378906,-0.429688 -1.9375,0.484375 -3.8906253,2.089844 -6.0117193,4.9257825 -1.332031,1.785156 -1.714843,2.644531 -1.351562,3.035156 l 0.113281,0.125 h 0.363281 c 0.71875,0 1.308594,-0.265625 4.6679693,-2.113282 1.199219,-0.660156 2.183594,-1.199218 2.191406,-1.199218 0.00781,0 -0.023437,0.089844 -0.074218,0.195312 -0.472657,1.058594 -1.046876,2.785156 -1.335938,4.042969 -1.054688,4.574219 -0.351562,8.453125 2.101562,11.582031 0.28125,0.355469 0.292969,0.253906 -0.097656,0.722656 -2.046875,2.4609375 -3.027344,4.8984375 -2.734375,6.8046875 0.050781,0.339844 0.042969,0.335938 0.679688,0.335938 2.023437,0 4.15625,-1.316407 6.21875,-3.835938 0.222656,-0.269531 0.191406,-0.261719 0.425781,-0.113281 0.730469,0.46875 2.460938,1.390625 2.613281,1.390625 0.160157,0 1.765625,-0.753906 2.652344,-1.246094 0.167969,-0.09375 0.308594,-0.164062 0.308594,-0.160156 0.066406,0.105468 0.761719,0.855468 1.085937,1.171875 1.613282,1.570312 3.339844,2.402343 5.3593747,2.570312 0.324219,0.02734 0.355469,0.0078 0.425781,-0.316406 0.375,-1.742187 -0.382812,-4.058594 -2.1445307,-6.5585935 l -0.320312,-0.457031 0.15625,-0.183594 c 3.2460927,-3.824218 3.4335927,-9.08593704 0.558593,-15.816406 l -0.050781,-0.125 1.7382807,0.859375 c 3.585938,1.773437 4.371094,2.097656 5.085938,2.097656 0.945312,0 0.75,-0.863281 -0.558594,-2.507812 C 11.458356,-11.838353 8.3333563,-13.268041 4.8607003,-11.721166 l -0.363281,0.164063 0.019531,-0.09375 c 0.121094,-0.550781 0.183594,-1.800781 0.121094,-2.378907 -0.203125,-1.867187 -1.035157,-3.199218 -2.695313,-4.308593 -0.523437,-0.351563 -0.546875,-0.355469 -0.789062,-0.222657\" />\n",
              "<animateTransform id = \"one\" attributeName=\"transform\" \n",
              "                      type=\"scale\"\n",
              "                      from=\"1 1\" to=\"1 1\"\n",
              "                      begin=\"0s\" dur=\"0.01s\"\n",
              "                      repeatCount=\"1\"\n",
              "                      additive=\"sum\"\n",
              "                      fill=\"freeze\"\n",
              "                /><animateTransform attributeName=\"transform\"\n",
              "                    type=\"rotate\"\n",
              "                    from=\"0 0 0\" to =\"-90 0 0\"\n",
              "                    begin=\"one.end\" dur=\"0.25s\"\n",
              "                    repeatCount=\"1\"\n",
              "                    additive=\"sum\"\n",
              "                    fill=\"freeze\"\n",
              "                /></g>\n",
              "      </svg>\n",
              "    "
            ]
          },
          "metadata": {}
        }
      ]
    },
    {
      "cell_type": "markdown",
      "source": [
        "## Ask Bob to draw a Circle:\n",
        "\n",
        "**Hint**: as with a square, to draw a circle you need to move forward and turn at an angle a given number of times.\n",
        "\n",
        "**Hint**: use a `for loop`\n",
        "\n",
        "**Hint**: The length of the boundary of the circle (Circumference ) $C$ is given by: $C = 2\\pi r$, where\n",
        "\n",
        "- $\\pi$ is a mathematical constant approximately equal to 3.14159.\n",
        "- $r$ is a radius of the circle, the distance from the center of the circle to any point on its edge.\n",
        "\n"
      ],
      "metadata": {
        "id": "qkwfwNe86ejO"
      }
    },
    {
      "cell_type": "code",
      "source": [
        "clearscreen()\n",
        "initializeTurtle((WIDTH, HEIGHT))\n",
        "\n",
        "\n",
        "bob = Turtle()\n",
        "bob.shape('turtle')\n",
        "\n",
        "\n",
        "## your code ##\n"
      ],
      "metadata": {
        "id": "Q-uOCtSD7EL2"
      },
      "execution_count": null,
      "outputs": []
    },
    {
      "cell_type": "markdown",
      "source": [
        ".\n",
        "\n",
        ".\n",
        "\n",
        ".\n",
        "\n",
        ".\n",
        "\n",
        ".\n",
        "\n",
        "\n",
        "\n",
        "----"
      ],
      "metadata": {
        "id": "lrE-k8QweY7L"
      }
    },
    {
      "cell_type": "code",
      "source": [
        "# @title Solution (Don't click before trying yourself! I'm watching you 👀)\n",
        "clearscreen()\n",
        "initializeTurtle((WIDTH, HEIGHT))\n",
        "\n",
        "\n",
        "bob = Turtle()\n",
        "bob.shape('turtle')\n",
        "\n",
        "\n",
        "circle_radius = 100\n",
        "number_of_sides = 36  # arbitrary. The higher the number the smoother the circle\n",
        "side_length = 2 * 3.14 * circle_radius / number_of_sides\n",
        "angle = 360 / number_of_sides\n",
        "\n",
        "for _ in range(number_of_sides):\n",
        "    bob.forward(side_length)\n",
        "    bob.left(angle)"
      ],
      "metadata": {
        "colab": {
          "base_uri": "https://localhost:8080/",
          "height": 522
        },
        "cellView": "form",
        "id": "wiqm4bfPGEqW",
        "outputId": "029c726b-4bac-4d24-8770-49484141e04b"
      },
      "execution_count": 9,
      "outputs": [
        {
          "output_type": "display_data",
          "data": {
            "text/plain": [
              "<IPython.core.display.HTML object>"
            ],
            "text/html": [
              "\n",
              "      <svg width=\"500\" height=\"500\">  \n",
              "        <rect width=\"100%\" height=\"100%\" style=\"fill:white;stroke:;stroke-width:1\"/>\n",
              "        \n",
              "        \n",
              "        <line x1=\"250.0\" y1=\"250.0\" x2=\"267.444\" y2=\"250.0\" stroke-linecap=\"round\" style=\"stroke:black;stroke-width:1\" /><line x1=\"267.444\" y1=\"250.0\" x2=\"284.623\" y2=\"246.971\" stroke-linecap=\"round\" style=\"stroke:black;stroke-width:1\" /><line x1=\"284.623\" y1=\"246.971\" x2=\"301.015\" y2=\"241.005\" stroke-linecap=\"round\" style=\"stroke:black;stroke-width:1\" /><line x1=\"301.015\" y1=\"241.005\" x2=\"316.122\" y2=\"232.283\" stroke-linecap=\"round\" style=\"stroke:black;stroke-width:1\" /><line x1=\"316.122\" y1=\"232.283\" x2=\"329.485\" y2=\"221.07\" stroke-linecap=\"round\" style=\"stroke:black;stroke-width:1\" /><line x1=\"329.485\" y1=\"221.07\" x2=\"340.698\" y2=\"207.707\" stroke-linecap=\"round\" style=\"stroke:black;stroke-width:1\" /><line x1=\"340.698\" y1=\"207.707\" x2=\"349.42\" y2=\"192.6\" stroke-linecap=\"round\" style=\"stroke:black;stroke-width:1\" /><line x1=\"349.42\" y1=\"192.6\" x2=\"355.386\" y2=\"176.208\" stroke-linecap=\"round\" style=\"stroke:black;stroke-width:1\" /><line x1=\"355.386\" y1=\"176.208\" x2=\"358.415\" y2=\"159.029\" stroke-linecap=\"round\" style=\"stroke:black;stroke-width:1\" /><line x1=\"358.415\" y1=\"159.029\" x2=\"358.415\" y2=\"141.585\" stroke-linecap=\"round\" style=\"stroke:black;stroke-width:1\" /><line x1=\"358.415\" y1=\"141.585\" x2=\"355.386\" y2=\"124.406\" stroke-linecap=\"round\" style=\"stroke:black;stroke-width:1\" /><line x1=\"355.386\" y1=\"124.406\" x2=\"349.42\" y2=\"108.014\" stroke-linecap=\"round\" style=\"stroke:black;stroke-width:1\" /><line x1=\"349.42\" y1=\"108.014\" x2=\"340.698\" y2=\"92.907\" stroke-linecap=\"round\" style=\"stroke:black;stroke-width:1\" /><line x1=\"340.698\" y1=\"92.907\" x2=\"329.485\" y2=\"79.544\" stroke-linecap=\"round\" style=\"stroke:black;stroke-width:1\" /><line x1=\"329.485\" y1=\"79.544\" x2=\"316.122\" y2=\"68.331\" stroke-linecap=\"round\" style=\"stroke:black;stroke-width:1\" /><line x1=\"316.122\" y1=\"68.331\" x2=\"301.015\" y2=\"59.609\" stroke-linecap=\"round\" style=\"stroke:black;stroke-width:1\" /><line x1=\"301.015\" y1=\"59.609\" x2=\"284.623\" y2=\"53.643\" stroke-linecap=\"round\" style=\"stroke:black;stroke-width:1\" /><line x1=\"284.623\" y1=\"53.643\" x2=\"267.444\" y2=\"50.614\" stroke-linecap=\"round\" style=\"stroke:black;stroke-width:1\" /><line x1=\"267.444\" y1=\"50.614\" x2=\"250.0\" y2=\"50.614\" stroke-linecap=\"round\" style=\"stroke:black;stroke-width:1\" /><line x1=\"250.0\" y1=\"50.614\" x2=\"232.821\" y2=\"53.643\" stroke-linecap=\"round\" style=\"stroke:black;stroke-width:1\" /><line x1=\"232.821\" y1=\"53.643\" x2=\"216.429\" y2=\"59.609\" stroke-linecap=\"round\" style=\"stroke:black;stroke-width:1\" /><line x1=\"216.429\" y1=\"59.609\" x2=\"201.322\" y2=\"68.331\" stroke-linecap=\"round\" style=\"stroke:black;stroke-width:1\" /><line x1=\"201.322\" y1=\"68.331\" x2=\"187.959\" y2=\"79.544\" stroke-linecap=\"round\" style=\"stroke:black;stroke-width:1\" /><line x1=\"187.959\" y1=\"79.544\" x2=\"176.746\" y2=\"92.907\" stroke-linecap=\"round\" style=\"stroke:black;stroke-width:1\" /><line x1=\"176.746\" y1=\"92.907\" x2=\"168.024\" y2=\"108.014\" stroke-linecap=\"round\" style=\"stroke:black;stroke-width:1\" /><line x1=\"168.024\" y1=\"108.014\" x2=\"162.058\" y2=\"124.406\" stroke-linecap=\"round\" style=\"stroke:black;stroke-width:1\" /><line x1=\"162.058\" y1=\"124.406\" x2=\"159.029\" y2=\"141.585\" stroke-linecap=\"round\" style=\"stroke:black;stroke-width:1\" /><line x1=\"159.029\" y1=\"141.585\" x2=\"159.029\" y2=\"159.029\" stroke-linecap=\"round\" style=\"stroke:black;stroke-width:1\" /><line x1=\"159.029\" y1=\"159.029\" x2=\"162.058\" y2=\"176.208\" stroke-linecap=\"round\" style=\"stroke:black;stroke-width:1\" /><line x1=\"162.058\" y1=\"176.208\" x2=\"168.024\" y2=\"192.6\" stroke-linecap=\"round\" style=\"stroke:black;stroke-width:1\" /><line x1=\"168.024\" y1=\"192.6\" x2=\"176.746\" y2=\"207.707\" stroke-linecap=\"round\" style=\"stroke:black;stroke-width:1\" /><line x1=\"176.746\" y1=\"207.707\" x2=\"187.959\" y2=\"221.07\" stroke-linecap=\"round\" style=\"stroke:black;stroke-width:1\" /><line x1=\"187.959\" y1=\"221.07\" x2=\"201.322\" y2=\"232.283\" stroke-linecap=\"round\" style=\"stroke:black;stroke-width:1\" /><line x1=\"201.322\" y1=\"232.283\" x2=\"216.429\" y2=\"241.005\" stroke-linecap=\"round\" style=\"stroke:black;stroke-width:1\" /><line x1=\"216.429\" y1=\"241.005\" x2=\"232.821\" y2=\"246.971\" stroke-linecap=\"round\" style=\"stroke:black;stroke-width:1\" /><line x1=\"232.821\" y1=\"246.971\" x2=\"250.0\" y2=\"250.0\" stroke-linecap=\"round\" style=\"stroke:black;stroke-width:1\" />\n",
              "        \n",
              "        \n",
              "        <g id=\"turtle\" visibility=\"visible\" transform=\"rotate(100.0,250.0,250.0) translate(250.0, 250.0)\">\n",
              "<path style=\"stroke:black;fill-rule:evenodd;fill:black;fill-opacity:1;\" transform=\"skewX(0) scale(1,1)\" d=\"m 1.1536693,-18.56101 c -2.105469,1.167969 -3.203125,3.441407 -3.140625,6.5 l 0.011719,0.519532 -0.300782,-0.15625 c -1.308594,-0.671875 -2.828125,-0.824219 -4.378906,-0.429688 -1.9375,0.484375 -3.8906253,2.089844 -6.0117193,4.9257825 -1.332031,1.785156 -1.714843,2.644531 -1.351562,3.035156 l 0.113281,0.125 h 0.363281 c 0.71875,0 1.308594,-0.265625 4.6679693,-2.113282 1.199219,-0.660156 2.183594,-1.199218 2.191406,-1.199218 0.00781,0 -0.023437,0.089844 -0.074218,0.195312 -0.472657,1.058594 -1.046876,2.785156 -1.335938,4.042969 -1.054688,4.574219 -0.351562,8.453125 2.101562,11.582031 0.28125,0.355469 0.292969,0.253906 -0.097656,0.722656 -2.046875,2.4609375 -3.027344,4.8984375 -2.734375,6.8046875 0.050781,0.339844 0.042969,0.335938 0.679688,0.335938 2.023437,0 4.15625,-1.316407 6.21875,-3.835938 0.222656,-0.269531 0.191406,-0.261719 0.425781,-0.113281 0.730469,0.46875 2.460938,1.390625 2.613281,1.390625 0.160157,0 1.765625,-0.753906 2.652344,-1.246094 0.167969,-0.09375 0.308594,-0.164062 0.308594,-0.160156 0.066406,0.105468 0.761719,0.855468 1.085937,1.171875 1.613282,1.570312 3.339844,2.402343 5.3593747,2.570312 0.324219,0.02734 0.355469,0.0078 0.425781,-0.316406 0.375,-1.742187 -0.382812,-4.058594 -2.1445307,-6.5585935 l -0.320312,-0.457031 0.15625,-0.183594 c 3.2460927,-3.824218 3.4335927,-9.08593704 0.558593,-15.816406 l -0.050781,-0.125 1.7382807,0.859375 c 3.585938,1.773437 4.371094,2.097656 5.085938,2.097656 0.945312,0 0.75,-0.863281 -0.558594,-2.507812 C 11.458356,-11.838353 8.3333563,-13.268041 4.8607003,-11.721166 l -0.363281,0.164063 0.019531,-0.09375 c 0.121094,-0.550781 0.183594,-1.800781 0.121094,-2.378907 -0.203125,-1.867187 -1.035157,-3.199218 -2.695313,-4.308593 -0.523437,-0.351563 -0.546875,-0.355469 -0.789062,-0.222657\" />\n",
              "<animateTransform id = \"one\" attributeName=\"transform\" \n",
              "                      type=\"scale\"\n",
              "                      from=\"1 1\" to=\"1 1\"\n",
              "                      begin=\"0s\" dur=\"0.01s\"\n",
              "                      repeatCount=\"1\"\n",
              "                      additive=\"sum\"\n",
              "                      fill=\"freeze\"\n",
              "                /><animateTransform attributeName=\"transform\"\n",
              "                    type=\"rotate\"\n",
              "                    from=\"0 0 0\" to =\"-10.0 0 0\"\n",
              "                    begin=\"one.end\" dur=\"0.027777777777777776s\"\n",
              "                    repeatCount=\"1\"\n",
              "                    additive=\"sum\"\n",
              "                    fill=\"freeze\"\n",
              "                /></g>\n",
              "      </svg>\n",
              "    "
            ]
          },
          "metadata": {}
        }
      ]
    },
    {
      "cell_type": "markdown",
      "source": [
        "## Turlte and Colors"
      ],
      "metadata": {
        "id": "-LHqO_SzQv9e"
      }
    },
    {
      "cell_type": "code",
      "source": [
        "clearscreen()\n",
        "initializeTurtle((WIDTH, HEIGHT))\n",
        "\n",
        "\n",
        "bob = Turtle()\n",
        "bob.shape('turtle')\n",
        "\n",
        "bob.color('red', 'green') # first argument for pen color, second for fill color\n",
        "# bob.pencolor('blue')\n",
        "# bob.fillcolor('blue')\n",
        "\n",
        "bob.begin_fill()\n",
        "for i in range(4): # euqivalent to \"for i in (0, 1, 2, 3)\"\n",
        "    bob.forward(100)\n",
        "    bob.left(90)\n",
        "\n",
        "bob.end_fill()"
      ],
      "metadata": {
        "colab": {
          "base_uri": "https://localhost:8080/",
          "height": 522
        },
        "id": "2qBhb36cS0be",
        "outputId": "d26d703f-382f-46b1-f3a0-74eec00b82c8"
      },
      "execution_count": 18,
      "outputs": [
        {
          "output_type": "display_data",
          "data": {
            "text/plain": [
              "<IPython.core.display.HTML object>"
            ],
            "text/html": [
              "\n",
              "      <svg width=\"500\" height=\"500\">  \n",
              "        <rect width=\"100%\" height=\"100%\" style=\"fill:white;stroke:;stroke-width:1\"/>\n",
              "        \n",
              "        \n",
              "        <path fill-rule=\"evenodd\" fill-opacity=\"1\" d=\"M 250.0 250.0  L 350.0 250.0  L 350.0 150.0  L 250.0 150.0  L 250.0 250.0 \" stroke-linecap=\"round\" style=\"stroke:red;stroke-width:1\" fill=\"green\" />\n",
              "        \n",
              "        \n",
              "        <g id=\"turtle\" visibility=\"visible\" transform=\"rotate(90,250.0,250.0) translate(250.0, 250.0)\">\n",
              "<path style=\"stroke:red;fill-rule:evenodd;fill:green;fill-opacity:1;\" transform=\"skewX(0) scale(1,1)\" d=\"m 1.1536693,-18.56101 c -2.105469,1.167969 -3.203125,3.441407 -3.140625,6.5 l 0.011719,0.519532 -0.300782,-0.15625 c -1.308594,-0.671875 -2.828125,-0.824219 -4.378906,-0.429688 -1.9375,0.484375 -3.8906253,2.089844 -6.0117193,4.9257825 -1.332031,1.785156 -1.714843,2.644531 -1.351562,3.035156 l 0.113281,0.125 h 0.363281 c 0.71875,0 1.308594,-0.265625 4.6679693,-2.113282 1.199219,-0.660156 2.183594,-1.199218 2.191406,-1.199218 0.00781,0 -0.023437,0.089844 -0.074218,0.195312 -0.472657,1.058594 -1.046876,2.785156 -1.335938,4.042969 -1.054688,4.574219 -0.351562,8.453125 2.101562,11.582031 0.28125,0.355469 0.292969,0.253906 -0.097656,0.722656 -2.046875,2.4609375 -3.027344,4.8984375 -2.734375,6.8046875 0.050781,0.339844 0.042969,0.335938 0.679688,0.335938 2.023437,0 4.15625,-1.316407 6.21875,-3.835938 0.222656,-0.269531 0.191406,-0.261719 0.425781,-0.113281 0.730469,0.46875 2.460938,1.390625 2.613281,1.390625 0.160157,0 1.765625,-0.753906 2.652344,-1.246094 0.167969,-0.09375 0.308594,-0.164062 0.308594,-0.160156 0.066406,0.105468 0.761719,0.855468 1.085937,1.171875 1.613282,1.570312 3.339844,2.402343 5.3593747,2.570312 0.324219,0.02734 0.355469,0.0078 0.425781,-0.316406 0.375,-1.742187 -0.382812,-4.058594 -2.1445307,-6.5585935 l -0.320312,-0.457031 0.15625,-0.183594 c 3.2460927,-3.824218 3.4335927,-9.08593704 0.558593,-15.816406 l -0.050781,-0.125 1.7382807,0.859375 c 3.585938,1.773437 4.371094,2.097656 5.085938,2.097656 0.945312,0 0.75,-0.863281 -0.558594,-2.507812 C 11.458356,-11.838353 8.3333563,-13.268041 4.8607003,-11.721166 l -0.363281,0.164063 0.019531,-0.09375 c 0.121094,-0.550781 0.183594,-1.800781 0.121094,-2.378907 -0.203125,-1.867187 -1.035157,-3.199218 -2.695313,-4.308593 -0.523437,-0.351563 -0.546875,-0.355469 -0.789062,-0.222657\" />\n",
              "</g>\n",
              "      </svg>\n",
              "    "
            ]
          },
          "metadata": {}
        }
      ]
    },
    {
      "cell_type": "markdown",
      "source": [
        "## A Note on Functions\n",
        "\n",
        "A **function** is a self-contained block of code designed to do a specific task or related group of tasks.\n",
        "\n",
        "See:\n",
        "- [defining your own functions in Python](https://realpython.com/defining-your-own-python-function/)\n",
        "- [built-in funcitons and data types in Python](https://realpython.com/python-data-types/#built-in-functions)"
      ],
      "metadata": {
        "id": "0BQps6TzUOdg"
      }
    },
    {
      "cell_type": "code",
      "source": [
        "def draw_square(turtle, size) -> None:\n",
        "    \"\"\"\n",
        "    Uses a turtle object to draw a square\n",
        "\n",
        "    Parameters:\n",
        "    - turtle (Turtle): A Turtle graphics object\n",
        "    - size (int or float): The length of each side of the square\n",
        "    \"\"\"\n",
        "    for i in range(4):\n",
        "        turtle.forward(size)\n",
        "        turtle.left(90)\n",
        "\n",
        "clearscreen()\n",
        "initializeTurtle((WIDTH, HEIGHT))\n",
        "\n",
        "\n",
        "bob = Turtle()\n",
        "bob.speed(7)\n",
        "bob.shape('turtle')\n",
        "\n",
        "square_size = 200\n",
        "for _ in range(4):\n",
        "    draw_square(bob, square_size)\n",
        "    square_size += -50"
      ],
      "metadata": {
        "colab": {
          "base_uri": "https://localhost:8080/",
          "height": 522
        },
        "id": "3qv5jDkJW9Vn",
        "outputId": "9e2cac0e-883a-42e8-eacc-3da528b2bf68"
      },
      "execution_count": 12,
      "outputs": [
        {
          "output_type": "display_data",
          "data": {
            "text/plain": [
              "<IPython.core.display.HTML object>"
            ],
            "text/html": [
              "\n",
              "      <svg width=\"500\" height=\"500\">  \n",
              "        <rect width=\"100%\" height=\"100%\" style=\"fill:white;stroke:;stroke-width:1\"/>\n",
              "        \n",
              "        \n",
              "        <line x1=\"250.0\" y1=\"250.0\" x2=\"450.0\" y2=\"250.0\" stroke-linecap=\"round\" style=\"stroke:black;stroke-width:1\" /><line x1=\"450.0\" y1=\"250.0\" x2=\"450.0\" y2=\"50.0\" stroke-linecap=\"round\" style=\"stroke:black;stroke-width:1\" /><line x1=\"450.0\" y1=\"50.0\" x2=\"250.0\" y2=\"50.0\" stroke-linecap=\"round\" style=\"stroke:black;stroke-width:1\" /><line x1=\"250.0\" y1=\"50.0\" x2=\"250.0\" y2=\"250.0\" stroke-linecap=\"round\" style=\"stroke:black;stroke-width:1\" /><line x1=\"250.0\" y1=\"250.0\" x2=\"400.0\" y2=\"250.0\" stroke-linecap=\"round\" style=\"stroke:black;stroke-width:1\" /><line x1=\"400.0\" y1=\"250.0\" x2=\"400.0\" y2=\"100.0\" stroke-linecap=\"round\" style=\"stroke:black;stroke-width:1\" /><line x1=\"400.0\" y1=\"100.0\" x2=\"250.0\" y2=\"100.0\" stroke-linecap=\"round\" style=\"stroke:black;stroke-width:1\" /><line x1=\"250.0\" y1=\"100.0\" x2=\"250.0\" y2=\"250.0\" stroke-linecap=\"round\" style=\"stroke:black;stroke-width:1\" /><line x1=\"250.0\" y1=\"250.0\" x2=\"350.0\" y2=\"250.0\" stroke-linecap=\"round\" style=\"stroke:black;stroke-width:1\" /><line x1=\"350.0\" y1=\"250.0\" x2=\"350.0\" y2=\"150.0\" stroke-linecap=\"round\" style=\"stroke:black;stroke-width:1\" /><line x1=\"350.0\" y1=\"150.0\" x2=\"250.0\" y2=\"150.0\" stroke-linecap=\"round\" style=\"stroke:black;stroke-width:1\" /><line x1=\"250.0\" y1=\"150.0\" x2=\"250.0\" y2=\"250.0\" stroke-linecap=\"round\" style=\"stroke:black;stroke-width:1\" /><line x1=\"250.0\" y1=\"250.0\" x2=\"300.0\" y2=\"250.0\" stroke-linecap=\"round\" style=\"stroke:black;stroke-width:1\" /><line x1=\"300.0\" y1=\"250.0\" x2=\"300.0\" y2=\"200.0\" stroke-linecap=\"round\" style=\"stroke:black;stroke-width:1\" /><line x1=\"300.0\" y1=\"200.0\" x2=\"250.0\" y2=\"200.0\" stroke-linecap=\"round\" style=\"stroke:black;stroke-width:1\" /><line x1=\"250.0\" y1=\"200.0\" x2=\"250.0\" y2=\"250.0\" stroke-linecap=\"round\" style=\"stroke:black;stroke-width:1\" />\n",
              "        \n",
              "        \n",
              "        <g id=\"turtle\" visibility=\"visible\" transform=\"rotate(180,250.0,250.0) translate(250.0, 250.0)\">\n",
              "<path style=\"stroke:black;fill-rule:evenodd;fill:black;fill-opacity:1;\" transform=\"skewX(0) scale(1,1)\" d=\"m 1.1536693,-18.56101 c -2.105469,1.167969 -3.203125,3.441407 -3.140625,6.5 l 0.011719,0.519532 -0.300782,-0.15625 c -1.308594,-0.671875 -2.828125,-0.824219 -4.378906,-0.429688 -1.9375,0.484375 -3.8906253,2.089844 -6.0117193,4.9257825 -1.332031,1.785156 -1.714843,2.644531 -1.351562,3.035156 l 0.113281,0.125 h 0.363281 c 0.71875,0 1.308594,-0.265625 4.6679693,-2.113282 1.199219,-0.660156 2.183594,-1.199218 2.191406,-1.199218 0.00781,0 -0.023437,0.089844 -0.074218,0.195312 -0.472657,1.058594 -1.046876,2.785156 -1.335938,4.042969 -1.054688,4.574219 -0.351562,8.453125 2.101562,11.582031 0.28125,0.355469 0.292969,0.253906 -0.097656,0.722656 -2.046875,2.4609375 -3.027344,4.8984375 -2.734375,6.8046875 0.050781,0.339844 0.042969,0.335938 0.679688,0.335938 2.023437,0 4.15625,-1.316407 6.21875,-3.835938 0.222656,-0.269531 0.191406,-0.261719 0.425781,-0.113281 0.730469,0.46875 2.460938,1.390625 2.613281,1.390625 0.160157,0 1.765625,-0.753906 2.652344,-1.246094 0.167969,-0.09375 0.308594,-0.164062 0.308594,-0.160156 0.066406,0.105468 0.761719,0.855468 1.085937,1.171875 1.613282,1.570312 3.339844,2.402343 5.3593747,2.570312 0.324219,0.02734 0.355469,0.0078 0.425781,-0.316406 0.375,-1.742187 -0.382812,-4.058594 -2.1445307,-6.5585935 l -0.320312,-0.457031 0.15625,-0.183594 c 3.2460927,-3.824218 3.4335927,-9.08593704 0.558593,-15.816406 l -0.050781,-0.125 1.7382807,0.859375 c 3.585938,1.773437 4.371094,2.097656 5.085938,2.097656 0.945312,0 0.75,-0.863281 -0.558594,-2.507812 C 11.458356,-11.838353 8.3333563,-13.268041 4.8607003,-11.721166 l -0.363281,0.164063 0.019531,-0.09375 c 0.121094,-0.550781 0.183594,-1.800781 0.121094,-2.378907 -0.203125,-1.867187 -1.035157,-3.199218 -2.695313,-4.308593 -0.523437,-0.351563 -0.546875,-0.355469 -0.789062,-0.222657\" />\n",
              "<animateTransform id = \"one\" attributeName=\"transform\" \n",
              "                      type=\"scale\"\n",
              "                      from=\"1 1\" to=\"1 1\"\n",
              "                      begin=\"0s\" dur=\"0.01s\"\n",
              "                      repeatCount=\"1\"\n",
              "                      additive=\"sum\"\n",
              "                      fill=\"freeze\"\n",
              "                /><animateTransform attributeName=\"transform\"\n",
              "                    type=\"rotate\"\n",
              "                    from=\"0 0 0\" to =\"-90 0 0\"\n",
              "                    begin=\"one.end\" dur=\"0.15s\"\n",
              "                    repeatCount=\"1\"\n",
              "                    additive=\"sum\"\n",
              "                    fill=\"freeze\"\n",
              "                /></g>\n",
              "      </svg>\n",
              "    "
            ]
          },
          "metadata": {}
        }
      ]
    },
    {
      "cell_type": "markdown",
      "source": [
        "## Challenge 2: Circle of Circles\n",
        "\n",
        "Ask Bob to draw a circle of circles. For this task, you need to:\n",
        "- define a function to draw a circle\n",
        "- Check the [documentation](https://larryriddle.agnesscott.org/ColabTurtlePlus/documentation2.html) to find how to raise the \"pen\" to move turtle to new location without drawing\n",
        "- use a `for loop` to execute it multiple times"
      ],
      "metadata": {
        "id": "Winln6F7ZOKU"
      }
    },
    {
      "cell_type": "code",
      "source": [
        "clearscreen()\n",
        "initializeTurtle((WIDTH, HEIGHT))\n",
        "\n",
        "\n",
        "bob = Turtle()\n",
        "bob.shape('turtle')\n",
        "bob.speed(13) # max turtle speed\n",
        "\n",
        "# your code here #"
      ],
      "metadata": {
        "id": "QdVi7DHXa8q2"
      },
      "execution_count": null,
      "outputs": []
    },
    {
      "cell_type": "markdown",
      "source": [
        ".\n",
        "\n",
        ".\n",
        "\n",
        ".\n",
        "\n",
        ".\n",
        "\n",
        ".\n",
        "\n",
        "\n",
        "\n",
        "----"
      ],
      "metadata": {
        "id": "c8sVz-JYeDIK"
      }
    },
    {
      "cell_type": "code",
      "source": [
        "#@title Soultion (Don't even think about it... 👀)\n",
        "clearscreen()\n",
        "initializeTurtle((WIDTH, HEIGHT))\n",
        "\n",
        "\n",
        "bob = Turtle()\n",
        "bob.shape('turtle')\n",
        "bob.speed(13)\n",
        "\n",
        "number_of_circles = 18\n",
        "\n",
        "circle_radius = 50\n",
        "number_of_sides = 36  # arbitrary. The higher the number the smoother the circle\n",
        "side_length = 2 * 3.14 * circle_radius / number_of_sides\n",
        "angle = 360 / number_of_sides\n",
        "\n",
        "def draw_circle(turtle):\n",
        "\n",
        "    for _ in range(number_of_sides):\n",
        "        turtle.forward(side_length)\n",
        "        turtle.left(angle)\n",
        "\n",
        "for _ in range(number_of_circles):\n",
        "        draw_circle(bob)\n",
        "        bob.penup()\n",
        "        bob.forward(20)\n",
        "        bob.right(20)\n",
        "        bob.pendown()"
      ],
      "metadata": {
        "colab": {
          "base_uri": "https://localhost:8080/",
          "height": 522
        },
        "cellView": "form",
        "id": "-2BRNH4FXL-5",
        "outputId": "2b6cd3a0-b4e0-4972-8465-0be0a5113909"
      },
      "execution_count": 7,
      "outputs": [
        {
          "output_type": "display_data",
          "data": {
            "text/plain": [
              "<IPython.core.display.HTML object>"
            ],
            "text/html": [
              "\n",
              "      <svg width=\"500\" height=\"500\">  \n",
              "        <rect width=\"100%\" height=\"100%\" style=\"fill:white;stroke:;stroke-width:1\"/>\n",
              "        \n",
              "        \n",
              "        <line x1=\"250.0\" y1=\"250.0\" x2=\"258.722\" y2=\"250.0\" stroke-linecap=\"round\" style=\"stroke:black;stroke-width:1\" /><line x1=\"258.722\" y1=\"250.0\" x2=\"267.312\" y2=\"248.485\" stroke-linecap=\"round\" style=\"stroke:black;stroke-width:1\" /><line x1=\"267.312\" y1=\"248.485\" x2=\"275.508\" y2=\"245.502\" stroke-linecap=\"round\" style=\"stroke:black;stroke-width:1\" /><line x1=\"275.508\" y1=\"245.502\" x2=\"283.062\" y2=\"241.141\" stroke-linecap=\"round\" style=\"stroke:black;stroke-width:1\" /><line x1=\"283.062\" y1=\"241.141\" x2=\"289.744\" y2=\"235.534\" stroke-linecap=\"round\" style=\"stroke:black;stroke-width:1\" /><line x1=\"289.744\" y1=\"235.534\" x2=\"295.351\" y2=\"228.852\" stroke-linecap=\"round\" style=\"stroke:black;stroke-width:1\" /><line x1=\"295.351\" y1=\"228.852\" x2=\"299.712\" y2=\"221.298\" stroke-linecap=\"round\" style=\"stroke:black;stroke-width:1\" /><line x1=\"299.712\" y1=\"221.298\" x2=\"302.695\" y2=\"213.102\" stroke-linecap=\"round\" style=\"stroke:black;stroke-width:1\" /><line x1=\"302.695\" y1=\"213.102\" x2=\"304.21\" y2=\"204.512\" stroke-linecap=\"round\" style=\"stroke:black;stroke-width:1\" /><line x1=\"304.21\" y1=\"204.512\" x2=\"304.21\" y2=\"195.79\" stroke-linecap=\"round\" style=\"stroke:black;stroke-width:1\" /><line x1=\"304.21\" y1=\"195.79\" x2=\"302.695\" y2=\"187.2\" stroke-linecap=\"round\" style=\"stroke:black;stroke-width:1\" /><line x1=\"302.695\" y1=\"187.2\" x2=\"299.712\" y2=\"179.004\" stroke-linecap=\"round\" style=\"stroke:black;stroke-width:1\" /><line x1=\"299.712\" y1=\"179.004\" x2=\"295.351\" y2=\"171.45\" stroke-linecap=\"round\" style=\"stroke:black;stroke-width:1\" /><line x1=\"295.351\" y1=\"171.45\" x2=\"289.744\" y2=\"164.768\" stroke-linecap=\"round\" style=\"stroke:black;stroke-width:1\" /><line x1=\"289.744\" y1=\"164.768\" x2=\"283.062\" y2=\"159.161\" stroke-linecap=\"round\" style=\"stroke:black;stroke-width:1\" /><line x1=\"283.062\" y1=\"159.161\" x2=\"275.508\" y2=\"154.8\" stroke-linecap=\"round\" style=\"stroke:black;stroke-width:1\" /><line x1=\"275.508\" y1=\"154.8\" x2=\"267.312\" y2=\"151.817\" stroke-linecap=\"round\" style=\"stroke:black;stroke-width:1\" /><line x1=\"267.312\" y1=\"151.817\" x2=\"258.722\" y2=\"150.302\" stroke-linecap=\"round\" style=\"stroke:black;stroke-width:1\" /><line x1=\"258.722\" y1=\"150.302\" x2=\"250.0\" y2=\"150.302\" stroke-linecap=\"round\" style=\"stroke:black;stroke-width:1\" /><line x1=\"250.0\" y1=\"150.302\" x2=\"241.41\" y2=\"151.817\" stroke-linecap=\"round\" style=\"stroke:black;stroke-width:1\" /><line x1=\"241.41\" y1=\"151.817\" x2=\"233.214\" y2=\"154.8\" stroke-linecap=\"round\" style=\"stroke:black;stroke-width:1\" /><line x1=\"233.214\" y1=\"154.8\" x2=\"225.66\" y2=\"159.161\" stroke-linecap=\"round\" style=\"stroke:black;stroke-width:1\" /><line x1=\"225.66\" y1=\"159.161\" x2=\"218.978\" y2=\"164.768\" stroke-linecap=\"round\" style=\"stroke:black;stroke-width:1\" /><line x1=\"218.978\" y1=\"164.768\" x2=\"213.371\" y2=\"171.45\" stroke-linecap=\"round\" style=\"stroke:black;stroke-width:1\" /><line x1=\"213.371\" y1=\"171.45\" x2=\"209.01\" y2=\"179.004\" stroke-linecap=\"round\" style=\"stroke:black;stroke-width:1\" /><line x1=\"209.01\" y1=\"179.004\" x2=\"206.027\" y2=\"187.2\" stroke-linecap=\"round\" style=\"stroke:black;stroke-width:1\" /><line x1=\"206.027\" y1=\"187.2\" x2=\"204.512\" y2=\"195.79\" stroke-linecap=\"round\" style=\"stroke:black;stroke-width:1\" /><line x1=\"204.512\" y1=\"195.79\" x2=\"204.512\" y2=\"204.512\" stroke-linecap=\"round\" style=\"stroke:black;stroke-width:1\" /><line x1=\"204.512\" y1=\"204.512\" x2=\"206.027\" y2=\"213.102\" stroke-linecap=\"round\" style=\"stroke:black;stroke-width:1\" /><line x1=\"206.027\" y1=\"213.102\" x2=\"209.01\" y2=\"221.298\" stroke-linecap=\"round\" style=\"stroke:black;stroke-width:1\" /><line x1=\"209.01\" y1=\"221.298\" x2=\"213.371\" y2=\"228.852\" stroke-linecap=\"round\" style=\"stroke:black;stroke-width:1\" /><line x1=\"213.371\" y1=\"228.852\" x2=\"218.978\" y2=\"235.534\" stroke-linecap=\"round\" style=\"stroke:black;stroke-width:1\" /><line x1=\"218.978\" y1=\"235.534\" x2=\"225.66\" y2=\"241.141\" stroke-linecap=\"round\" style=\"stroke:black;stroke-width:1\" /><line x1=\"225.66\" y1=\"241.141\" x2=\"233.214\" y2=\"245.502\" stroke-linecap=\"round\" style=\"stroke:black;stroke-width:1\" /><line x1=\"233.214\" y1=\"245.502\" x2=\"241.41\" y2=\"248.485\" stroke-linecap=\"round\" style=\"stroke:black;stroke-width:1\" /><line x1=\"241.41\" y1=\"248.485\" x2=\"250.0\" y2=\"250.0\" stroke-linecap=\"round\" style=\"stroke:black;stroke-width:1\" /><line x1=\"270.0\" y1=\"250.0\" x2=\"278.196\" y2=\"252.983\" stroke-linecap=\"round\" style=\"stroke:black;stroke-width:1\" /><line x1=\"278.196\" y1=\"252.983\" x2=\"286.786\" y2=\"254.498\" stroke-linecap=\"round\" style=\"stroke:black;stroke-width:1\" /><line x1=\"286.786\" y1=\"254.498\" x2=\"295.508\" y2=\"254.498\" stroke-linecap=\"round\" style=\"stroke:black;stroke-width:1\" /><line x1=\"295.508\" y1=\"254.498\" x2=\"304.098\" y2=\"252.983\" stroke-linecap=\"round\" style=\"stroke:black;stroke-width:1\" /><line x1=\"304.098\" y1=\"252.983\" x2=\"312.294\" y2=\"250.0\" stroke-linecap=\"round\" style=\"stroke:black;stroke-width:1\" /><line x1=\"312.294\" y1=\"250.0\" x2=\"319.848\" y2=\"245.639\" stroke-linecap=\"round\" style=\"stroke:black;stroke-width:1\" /><line x1=\"319.848\" y1=\"245.639\" x2=\"326.53\" y2=\"240.032\" stroke-linecap=\"round\" style=\"stroke:black;stroke-width:1\" /><line x1=\"326.53\" y1=\"240.032\" x2=\"332.137\" y2=\"233.35\" stroke-linecap=\"round\" style=\"stroke:black;stroke-width:1\" /><line x1=\"332.137\" y1=\"233.35\" x2=\"336.498\" y2=\"225.796\" stroke-linecap=\"round\" style=\"stroke:black;stroke-width:1\" /><line x1=\"336.498\" y1=\"225.796\" x2=\"339.481\" y2=\"217.6\" stroke-linecap=\"round\" style=\"stroke:black;stroke-width:1\" /><line x1=\"339.481\" y1=\"217.6\" x2=\"340.996\" y2=\"209.01\" stroke-linecap=\"round\" style=\"stroke:black;stroke-width:1\" /><line x1=\"340.996\" y1=\"209.01\" x2=\"340.996\" y2=\"200.288\" stroke-linecap=\"round\" style=\"stroke:black;stroke-width:1\" /><line x1=\"340.996\" y1=\"200.288\" x2=\"339.481\" y2=\"191.698\" stroke-linecap=\"round\" style=\"stroke:black;stroke-width:1\" /><line x1=\"339.481\" y1=\"191.698\" x2=\"336.498\" y2=\"183.502\" stroke-linecap=\"round\" style=\"stroke:black;stroke-width:1\" /><line x1=\"336.498\" y1=\"183.502\" x2=\"332.137\" y2=\"175.948\" stroke-linecap=\"round\" style=\"stroke:black;stroke-width:1\" /><line x1=\"332.137\" y1=\"175.948\" x2=\"326.53\" y2=\"169.266\" stroke-linecap=\"round\" style=\"stroke:black;stroke-width:1\" /><line x1=\"326.53\" y1=\"169.266\" x2=\"319.848\" y2=\"163.659\" stroke-linecap=\"round\" style=\"stroke:black;stroke-width:1\" /><line x1=\"319.848\" y1=\"163.659\" x2=\"312.294\" y2=\"159.298\" stroke-linecap=\"round\" style=\"stroke:black;stroke-width:1\" /><line x1=\"312.294\" y1=\"159.298\" x2=\"304.098\" y2=\"156.315\" stroke-linecap=\"round\" style=\"stroke:black;stroke-width:1\" /><line x1=\"304.098\" y1=\"156.315\" x2=\"295.508\" y2=\"154.8\" stroke-linecap=\"round\" style=\"stroke:black;stroke-width:1\" /><line x1=\"295.508\" y1=\"154.8\" x2=\"286.786\" y2=\"154.8\" stroke-linecap=\"round\" style=\"stroke:black;stroke-width:1\" /><line x1=\"286.786\" y1=\"154.8\" x2=\"278.196\" y2=\"156.315\" stroke-linecap=\"round\" style=\"stroke:black;stroke-width:1\" /><line x1=\"278.196\" y1=\"156.315\" x2=\"270.0\" y2=\"159.298\" stroke-linecap=\"round\" style=\"stroke:black;stroke-width:1\" /><line x1=\"270.0\" y1=\"159.298\" x2=\"262.446\" y2=\"163.659\" stroke-linecap=\"round\" style=\"stroke:black;stroke-width:1\" /><line x1=\"262.446\" y1=\"163.659\" x2=\"255.764\" y2=\"169.266\" stroke-linecap=\"round\" style=\"stroke:black;stroke-width:1\" /><line x1=\"255.764\" y1=\"169.266\" x2=\"250.157\" y2=\"175.948\" stroke-linecap=\"round\" style=\"stroke:black;stroke-width:1\" /><line x1=\"250.157\" y1=\"175.948\" x2=\"245.796\" y2=\"183.502\" stroke-linecap=\"round\" style=\"stroke:black;stroke-width:1\" /><line x1=\"245.796\" y1=\"183.502\" x2=\"242.813\" y2=\"191.698\" stroke-linecap=\"round\" style=\"stroke:black;stroke-width:1\" /><line x1=\"242.813\" y1=\"191.698\" x2=\"241.298\" y2=\"200.288\" stroke-linecap=\"round\" style=\"stroke:black;stroke-width:1\" /><line x1=\"241.298\" y1=\"200.288\" x2=\"241.298\" y2=\"209.01\" stroke-linecap=\"round\" style=\"stroke:black;stroke-width:1\" /><line x1=\"241.298\" y1=\"209.01\" x2=\"242.813\" y2=\"217.6\" stroke-linecap=\"round\" style=\"stroke:black;stroke-width:1\" /><line x1=\"242.813\" y1=\"217.6\" x2=\"245.796\" y2=\"225.796\" stroke-linecap=\"round\" style=\"stroke:black;stroke-width:1\" /><line x1=\"245.796\" y1=\"225.796\" x2=\"250.157\" y2=\"233.35\" stroke-linecap=\"round\" style=\"stroke:black;stroke-width:1\" /><line x1=\"250.157\" y1=\"233.35\" x2=\"255.764\" y2=\"240.032\" stroke-linecap=\"round\" style=\"stroke:black;stroke-width:1\" /><line x1=\"255.764\" y1=\"240.032\" x2=\"262.446\" y2=\"245.639\" stroke-linecap=\"round\" style=\"stroke:black;stroke-width:1\" /><line x1=\"262.446\" y1=\"245.639\" x2=\"270.0\" y2=\"250.0\" stroke-linecap=\"round\" style=\"stroke:black;stroke-width:1\" /><line x1=\"288.794\" y1=\"256.84\" x2=\"295.476\" y2=\"262.447\" stroke-linecap=\"round\" style=\"stroke:black;stroke-width:1\" /><line x1=\"295.476\" y1=\"262.447\" x2=\"303.03\" y2=\"266.808\" stroke-linecap=\"round\" style=\"stroke:black;stroke-width:1\" /><line x1=\"303.03\" y1=\"266.808\" x2=\"311.226\" y2=\"269.791\" stroke-linecap=\"round\" style=\"stroke:black;stroke-width:1\" /><line x1=\"311.226\" y1=\"269.791\" x2=\"319.816\" y2=\"271.306\" stroke-linecap=\"round\" style=\"stroke:black;stroke-width:1\" /><line x1=\"319.816\" y1=\"271.306\" x2=\"328.538\" y2=\"271.306\" stroke-linecap=\"round\" style=\"stroke:black;stroke-width:1\" /><line x1=\"328.538\" y1=\"271.306\" x2=\"337.128\" y2=\"269.791\" stroke-linecap=\"round\" style=\"stroke:black;stroke-width:1\" /><line x1=\"337.128\" y1=\"269.791\" x2=\"345.324\" y2=\"266.808\" stroke-linecap=\"round\" style=\"stroke:black;stroke-width:1\" /><line x1=\"345.324\" y1=\"266.808\" x2=\"352.878\" y2=\"262.447\" stroke-linecap=\"round\" style=\"stroke:black;stroke-width:1\" /><line x1=\"352.878\" y1=\"262.447\" x2=\"359.56\" y2=\"256.84\" stroke-linecap=\"round\" style=\"stroke:black;stroke-width:1\" /><line x1=\"359.56\" y1=\"256.84\" x2=\"365.167\" y2=\"250.158\" stroke-linecap=\"round\" style=\"stroke:black;stroke-width:1\" /><line x1=\"365.167\" y1=\"250.158\" x2=\"369.528\" y2=\"242.604\" stroke-linecap=\"round\" style=\"stroke:black;stroke-width:1\" /><line x1=\"369.528\" y1=\"242.604\" x2=\"372.511\" y2=\"234.408\" stroke-linecap=\"round\" style=\"stroke:black;stroke-width:1\" /><line x1=\"372.511\" y1=\"234.408\" x2=\"374.026\" y2=\"225.818\" stroke-linecap=\"round\" style=\"stroke:black;stroke-width:1\" /><line x1=\"374.026\" y1=\"225.818\" x2=\"374.026\" y2=\"217.096\" stroke-linecap=\"round\" style=\"stroke:black;stroke-width:1\" /><line x1=\"374.026\" y1=\"217.096\" x2=\"372.511\" y2=\"208.506\" stroke-linecap=\"round\" style=\"stroke:black;stroke-width:1\" /><line x1=\"372.511\" y1=\"208.506\" x2=\"369.528\" y2=\"200.31\" stroke-linecap=\"round\" style=\"stroke:black;stroke-width:1\" /><line x1=\"369.528\" y1=\"200.31\" x2=\"365.167\" y2=\"192.756\" stroke-linecap=\"round\" style=\"stroke:black;stroke-width:1\" /><line x1=\"365.167\" y1=\"192.756\" x2=\"359.56\" y2=\"186.074\" stroke-linecap=\"round\" style=\"stroke:black;stroke-width:1\" /><line x1=\"359.56\" y1=\"186.074\" x2=\"352.878\" y2=\"180.467\" stroke-linecap=\"round\" style=\"stroke:black;stroke-width:1\" /><line x1=\"352.878\" y1=\"180.467\" x2=\"345.324\" y2=\"176.106\" stroke-linecap=\"round\" style=\"stroke:black;stroke-width:1\" /><line x1=\"345.324\" y1=\"176.106\" x2=\"337.128\" y2=\"173.123\" stroke-linecap=\"round\" style=\"stroke:black;stroke-width:1\" /><line x1=\"337.128\" y1=\"173.123\" x2=\"328.538\" y2=\"171.608\" stroke-linecap=\"round\" style=\"stroke:black;stroke-width:1\" /><line x1=\"328.538\" y1=\"171.608\" x2=\"319.816\" y2=\"171.608\" stroke-linecap=\"round\" style=\"stroke:black;stroke-width:1\" /><line x1=\"319.816\" y1=\"171.608\" x2=\"311.226\" y2=\"173.123\" stroke-linecap=\"round\" style=\"stroke:black;stroke-width:1\" /><line x1=\"311.226\" y1=\"173.123\" x2=\"303.03\" y2=\"176.106\" stroke-linecap=\"round\" style=\"stroke:black;stroke-width:1\" /><line x1=\"303.03\" y1=\"176.106\" x2=\"295.476\" y2=\"180.467\" stroke-linecap=\"round\" style=\"stroke:black;stroke-width:1\" /><line x1=\"295.476\" y1=\"180.467\" x2=\"288.794\" y2=\"186.074\" stroke-linecap=\"round\" style=\"stroke:black;stroke-width:1\" /><line x1=\"288.794\" y1=\"186.074\" x2=\"283.187\" y2=\"192.756\" stroke-linecap=\"round\" style=\"stroke:black;stroke-width:1\" /><line x1=\"283.187\" y1=\"192.756\" x2=\"278.826\" y2=\"200.31\" stroke-linecap=\"round\" style=\"stroke:black;stroke-width:1\" /><line x1=\"278.826\" y1=\"200.31\" x2=\"275.843\" y2=\"208.506\" stroke-linecap=\"round\" style=\"stroke:black;stroke-width:1\" /><line x1=\"275.843\" y1=\"208.506\" x2=\"274.328\" y2=\"217.096\" stroke-linecap=\"round\" style=\"stroke:black;stroke-width:1\" /><line x1=\"274.328\" y1=\"217.096\" x2=\"274.328\" y2=\"225.818\" stroke-linecap=\"round\" style=\"stroke:black;stroke-width:1\" /><line x1=\"274.328\" y1=\"225.818\" x2=\"275.843\" y2=\"234.408\" stroke-linecap=\"round\" style=\"stroke:black;stroke-width:1\" /><line x1=\"275.843\" y1=\"234.408\" x2=\"278.826\" y2=\"242.604\" stroke-linecap=\"round\" style=\"stroke:black;stroke-width:1\" /><line x1=\"278.826\" y1=\"242.604\" x2=\"283.187\" y2=\"250.158\" stroke-linecap=\"round\" style=\"stroke:black;stroke-width:1\" /><line x1=\"283.187\" y1=\"250.158\" x2=\"288.794\" y2=\"256.84\" stroke-linecap=\"round\" style=\"stroke:black;stroke-width:1\" /><line x1=\"304.115\" y1=\"269.696\" x2=\"308.476\" y2=\"277.25\" stroke-linecap=\"round\" style=\"stroke:black;stroke-width:1\" /><line x1=\"308.476\" y1=\"277.25\" x2=\"314.083\" y2=\"283.932\" stroke-linecap=\"round\" style=\"stroke:black;stroke-width:1\" /><line x1=\"314.083\" y1=\"283.932\" x2=\"320.765\" y2=\"289.539\" stroke-linecap=\"round\" style=\"stroke:black;stroke-width:1\" /><line x1=\"320.765\" y1=\"289.539\" x2=\"328.319\" y2=\"293.9\" stroke-linecap=\"round\" style=\"stroke:black;stroke-width:1\" /><line x1=\"328.319\" y1=\"293.9\" x2=\"336.515\" y2=\"296.883\" stroke-linecap=\"round\" style=\"stroke:black;stroke-width:1\" /><line x1=\"336.515\" y1=\"296.883\" x2=\"345.105\" y2=\"298.398\" stroke-linecap=\"round\" style=\"stroke:black;stroke-width:1\" /><line x1=\"345.105\" y1=\"298.398\" x2=\"353.827\" y2=\"298.398\" stroke-linecap=\"round\" style=\"stroke:black;stroke-width:1\" /><line x1=\"353.827\" y1=\"298.398\" x2=\"362.417\" y2=\"296.883\" stroke-linecap=\"round\" style=\"stroke:black;stroke-width:1\" /><line x1=\"362.417\" y1=\"296.883\" x2=\"370.613\" y2=\"293.9\" stroke-linecap=\"round\" style=\"stroke:black;stroke-width:1\" /><line x1=\"370.613\" y1=\"293.9\" x2=\"378.167\" y2=\"289.539\" stroke-linecap=\"round\" style=\"stroke:black;stroke-width:1\" /><line x1=\"378.167\" y1=\"289.539\" x2=\"384.849\" y2=\"283.932\" stroke-linecap=\"round\" style=\"stroke:black;stroke-width:1\" /><line x1=\"384.849\" y1=\"283.932\" x2=\"390.456\" y2=\"277.25\" stroke-linecap=\"round\" style=\"stroke:black;stroke-width:1\" /><line x1=\"390.456\" y1=\"277.25\" x2=\"394.817\" y2=\"269.696\" stroke-linecap=\"round\" style=\"stroke:black;stroke-width:1\" /><line x1=\"394.817\" y1=\"269.696\" x2=\"397.8\" y2=\"261.5\" stroke-linecap=\"round\" style=\"stroke:black;stroke-width:1\" /><line x1=\"397.8\" y1=\"261.5\" x2=\"399.315\" y2=\"252.91\" stroke-linecap=\"round\" style=\"stroke:black;stroke-width:1\" /><line x1=\"399.315\" y1=\"252.91\" x2=\"399.315\" y2=\"244.188\" stroke-linecap=\"round\" style=\"stroke:black;stroke-width:1\" /><line x1=\"399.315\" y1=\"244.188\" x2=\"397.8\" y2=\"235.598\" stroke-linecap=\"round\" style=\"stroke:black;stroke-width:1\" /><line x1=\"397.8\" y1=\"235.598\" x2=\"394.817\" y2=\"227.402\" stroke-linecap=\"round\" style=\"stroke:black;stroke-width:1\" /><line x1=\"394.817\" y1=\"227.402\" x2=\"390.456\" y2=\"219.848\" stroke-linecap=\"round\" style=\"stroke:black;stroke-width:1\" /><line x1=\"390.456\" y1=\"219.848\" x2=\"384.849\" y2=\"213.166\" stroke-linecap=\"round\" style=\"stroke:black;stroke-width:1\" /><line x1=\"384.849\" y1=\"213.166\" x2=\"378.167\" y2=\"207.559\" stroke-linecap=\"round\" style=\"stroke:black;stroke-width:1\" /><line x1=\"378.167\" y1=\"207.559\" x2=\"370.613\" y2=\"203.198\" stroke-linecap=\"round\" style=\"stroke:black;stroke-width:1\" /><line x1=\"370.613\" y1=\"203.198\" x2=\"362.417\" y2=\"200.215\" stroke-linecap=\"round\" style=\"stroke:black;stroke-width:1\" /><line x1=\"362.417\" y1=\"200.215\" x2=\"353.827\" y2=\"198.7\" stroke-linecap=\"round\" style=\"stroke:black;stroke-width:1\" /><line x1=\"353.827\" y1=\"198.7\" x2=\"345.105\" y2=\"198.7\" stroke-linecap=\"round\" style=\"stroke:black;stroke-width:1\" /><line x1=\"345.105\" y1=\"198.7\" x2=\"336.515\" y2=\"200.215\" stroke-linecap=\"round\" style=\"stroke:black;stroke-width:1\" /><line x1=\"336.515\" y1=\"200.215\" x2=\"328.319\" y2=\"203.198\" stroke-linecap=\"round\" style=\"stroke:black;stroke-width:1\" /><line x1=\"328.319\" y1=\"203.198\" x2=\"320.765\" y2=\"207.559\" stroke-linecap=\"round\" style=\"stroke:black;stroke-width:1\" /><line x1=\"320.765\" y1=\"207.559\" x2=\"314.083\" y2=\"213.166\" stroke-linecap=\"round\" style=\"stroke:black;stroke-width:1\" /><line x1=\"314.083\" y1=\"213.166\" x2=\"308.476\" y2=\"219.848\" stroke-linecap=\"round\" style=\"stroke:black;stroke-width:1\" /><line x1=\"308.476\" y1=\"219.848\" x2=\"304.115\" y2=\"227.402\" stroke-linecap=\"round\" style=\"stroke:black;stroke-width:1\" /><line x1=\"304.115\" y1=\"227.402\" x2=\"301.132\" y2=\"235.598\" stroke-linecap=\"round\" style=\"stroke:black;stroke-width:1\" /><line x1=\"301.132\" y1=\"235.598\" x2=\"299.617\" y2=\"244.188\" stroke-linecap=\"round\" style=\"stroke:black;stroke-width:1\" /><line x1=\"299.617\" y1=\"244.188\" x2=\"299.617\" y2=\"252.91\" stroke-linecap=\"round\" style=\"stroke:black;stroke-width:1\" /><line x1=\"299.617\" y1=\"252.91\" x2=\"301.132\" y2=\"261.5\" stroke-linecap=\"round\" style=\"stroke:black;stroke-width:1\" /><line x1=\"301.132\" y1=\"261.5\" x2=\"304.115\" y2=\"269.696\" stroke-linecap=\"round\" style=\"stroke:black;stroke-width:1\" /><line x1=\"314.115\" y1=\"287.017\" x2=\"315.63\" y2=\"295.607\" stroke-linecap=\"round\" style=\"stroke:black;stroke-width:1\" /><line x1=\"315.63\" y1=\"295.607\" x2=\"318.613\" y2=\"303.803\" stroke-linecap=\"round\" style=\"stroke:black;stroke-width:1\" /><line x1=\"318.613\" y1=\"303.803\" x2=\"322.974\" y2=\"311.357\" stroke-linecap=\"round\" style=\"stroke:black;stroke-width:1\" /><line x1=\"322.974\" y1=\"311.357\" x2=\"328.581\" y2=\"318.039\" stroke-linecap=\"round\" style=\"stroke:black;stroke-width:1\" /><line x1=\"328.581\" y1=\"318.039\" x2=\"335.263\" y2=\"323.646\" stroke-linecap=\"round\" style=\"stroke:black;stroke-width:1\" /><line x1=\"335.263\" y1=\"323.646\" x2=\"342.817\" y2=\"328.007\" stroke-linecap=\"round\" style=\"stroke:black;stroke-width:1\" /><line x1=\"342.817\" y1=\"328.007\" x2=\"351.013\" y2=\"330.99\" stroke-linecap=\"round\" style=\"stroke:black;stroke-width:1\" /><line x1=\"351.013\" y1=\"330.99\" x2=\"359.603\" y2=\"332.505\" stroke-linecap=\"round\" style=\"stroke:black;stroke-width:1\" /><line x1=\"359.603\" y1=\"332.505\" x2=\"368.325\" y2=\"332.505\" stroke-linecap=\"round\" style=\"stroke:black;stroke-width:1\" /><line x1=\"368.325\" y1=\"332.505\" x2=\"376.915\" y2=\"330.99\" stroke-linecap=\"round\" style=\"stroke:black;stroke-width:1\" /><line x1=\"376.915\" y1=\"330.99\" x2=\"385.111\" y2=\"328.007\" stroke-linecap=\"round\" style=\"stroke:black;stroke-width:1\" /><line x1=\"385.111\" y1=\"328.007\" x2=\"392.665\" y2=\"323.646\" stroke-linecap=\"round\" style=\"stroke:black;stroke-width:1\" /><line x1=\"392.665\" y1=\"323.646\" x2=\"399.347\" y2=\"318.039\" stroke-linecap=\"round\" style=\"stroke:black;stroke-width:1\" /><line x1=\"399.347\" y1=\"318.039\" x2=\"404.954\" y2=\"311.357\" stroke-linecap=\"round\" style=\"stroke:black;stroke-width:1\" /><line x1=\"404.954\" y1=\"311.357\" x2=\"409.315\" y2=\"303.803\" stroke-linecap=\"round\" style=\"stroke:black;stroke-width:1\" /><line x1=\"409.315\" y1=\"303.803\" x2=\"412.298\" y2=\"295.607\" stroke-linecap=\"round\" style=\"stroke:black;stroke-width:1\" /><line x1=\"412.298\" y1=\"295.607\" x2=\"413.813\" y2=\"287.017\" stroke-linecap=\"round\" style=\"stroke:black;stroke-width:1\" /><line x1=\"413.813\" y1=\"287.017\" x2=\"413.813\" y2=\"278.295\" stroke-linecap=\"round\" style=\"stroke:black;stroke-width:1\" /><line x1=\"413.813\" y1=\"278.295\" x2=\"412.298\" y2=\"269.705\" stroke-linecap=\"round\" style=\"stroke:black;stroke-width:1\" /><line x1=\"412.298\" y1=\"269.705\" x2=\"409.315\" y2=\"261.509\" stroke-linecap=\"round\" style=\"stroke:black;stroke-width:1\" /><line x1=\"409.315\" y1=\"261.509\" x2=\"404.954\" y2=\"253.955\" stroke-linecap=\"round\" style=\"stroke:black;stroke-width:1\" /><line x1=\"404.954\" y1=\"253.955\" x2=\"399.347\" y2=\"247.273\" stroke-linecap=\"round\" style=\"stroke:black;stroke-width:1\" /><line x1=\"399.347\" y1=\"247.273\" x2=\"392.665\" y2=\"241.666\" stroke-linecap=\"round\" style=\"stroke:black;stroke-width:1\" /><line x1=\"392.665\" y1=\"241.666\" x2=\"385.111\" y2=\"237.305\" stroke-linecap=\"round\" style=\"stroke:black;stroke-width:1\" /><line x1=\"385.111\" y1=\"237.305\" x2=\"376.915\" y2=\"234.322\" stroke-linecap=\"round\" style=\"stroke:black;stroke-width:1\" /><line x1=\"376.915\" y1=\"234.322\" x2=\"368.325\" y2=\"232.807\" stroke-linecap=\"round\" style=\"stroke:black;stroke-width:1\" /><line x1=\"368.325\" y1=\"232.807\" x2=\"359.603\" y2=\"232.807\" stroke-linecap=\"round\" style=\"stroke:black;stroke-width:1\" /><line x1=\"359.603\" y1=\"232.807\" x2=\"351.013\" y2=\"234.322\" stroke-linecap=\"round\" style=\"stroke:black;stroke-width:1\" /><line x1=\"351.013\" y1=\"234.322\" x2=\"342.817\" y2=\"237.305\" stroke-linecap=\"round\" style=\"stroke:black;stroke-width:1\" /><line x1=\"342.817\" y1=\"237.305\" x2=\"335.263\" y2=\"241.666\" stroke-linecap=\"round\" style=\"stroke:black;stroke-width:1\" /><line x1=\"335.263\" y1=\"241.666\" x2=\"328.581\" y2=\"247.273\" stroke-linecap=\"round\" style=\"stroke:black;stroke-width:1\" /><line x1=\"328.581\" y1=\"247.273\" x2=\"322.974\" y2=\"253.955\" stroke-linecap=\"round\" style=\"stroke:black;stroke-width:1\" /><line x1=\"322.974\" y1=\"253.955\" x2=\"318.613\" y2=\"261.509\" stroke-linecap=\"round\" style=\"stroke:black;stroke-width:1\" /><line x1=\"318.613\" y1=\"261.509\" x2=\"315.63\" y2=\"269.705\" stroke-linecap=\"round\" style=\"stroke:black;stroke-width:1\" /><line x1=\"315.63\" y1=\"269.705\" x2=\"314.115\" y2=\"278.295\" stroke-linecap=\"round\" style=\"stroke:black;stroke-width:1\" /><line x1=\"314.115\" y1=\"278.295\" x2=\"314.115\" y2=\"287.017\" stroke-linecap=\"round\" style=\"stroke:black;stroke-width:1\" /><line x1=\"317.588\" y1=\"306.713\" x2=\"316.073\" y2=\"315.303\" stroke-linecap=\"round\" style=\"stroke:black;stroke-width:1\" /><line x1=\"316.073\" y1=\"315.303\" x2=\"316.073\" y2=\"324.025\" stroke-linecap=\"round\" style=\"stroke:black;stroke-width:1\" /><line x1=\"316.073\" y1=\"324.025\" x2=\"317.588\" y2=\"332.615\" stroke-linecap=\"round\" style=\"stroke:black;stroke-width:1\" /><line x1=\"317.588\" y1=\"332.615\" x2=\"320.571\" y2=\"340.811\" stroke-linecap=\"round\" style=\"stroke:black;stroke-width:1\" /><line x1=\"320.571\" y1=\"340.811\" x2=\"324.932\" y2=\"348.365\" stroke-linecap=\"round\" style=\"stroke:black;stroke-width:1\" /><line x1=\"324.932\" y1=\"348.365\" x2=\"330.539\" y2=\"355.047\" stroke-linecap=\"round\" style=\"stroke:black;stroke-width:1\" /><line x1=\"330.539\" y1=\"355.047\" x2=\"337.221\" y2=\"360.654\" stroke-linecap=\"round\" style=\"stroke:black;stroke-width:1\" /><line x1=\"337.221\" y1=\"360.654\" x2=\"344.775\" y2=\"365.015\" stroke-linecap=\"round\" style=\"stroke:black;stroke-width:1\" /><line x1=\"344.775\" y1=\"365.015\" x2=\"352.971\" y2=\"367.998\" stroke-linecap=\"round\" style=\"stroke:black;stroke-width:1\" /><line x1=\"352.971\" y1=\"367.998\" x2=\"361.561\" y2=\"369.513\" stroke-linecap=\"round\" style=\"stroke:black;stroke-width:1\" /><line x1=\"361.561\" y1=\"369.513\" x2=\"370.283\" y2=\"369.513\" stroke-linecap=\"round\" style=\"stroke:black;stroke-width:1\" /><line x1=\"370.283\" y1=\"369.513\" x2=\"378.873\" y2=\"367.998\" stroke-linecap=\"round\" style=\"stroke:black;stroke-width:1\" /><line x1=\"378.873\" y1=\"367.998\" x2=\"387.069\" y2=\"365.015\" stroke-linecap=\"round\" style=\"stroke:black;stroke-width:1\" /><line x1=\"387.069\" y1=\"365.015\" x2=\"394.623\" y2=\"360.654\" stroke-linecap=\"round\" style=\"stroke:black;stroke-width:1\" /><line x1=\"394.623\" y1=\"360.654\" x2=\"401.305\" y2=\"355.047\" stroke-linecap=\"round\" style=\"stroke:black;stroke-width:1\" /><line x1=\"401.305\" y1=\"355.047\" x2=\"406.912\" y2=\"348.365\" stroke-linecap=\"round\" style=\"stroke:black;stroke-width:1\" /><line x1=\"406.912\" y1=\"348.365\" x2=\"411.273\" y2=\"340.811\" stroke-linecap=\"round\" style=\"stroke:black;stroke-width:1\" /><line x1=\"411.273\" y1=\"340.811\" x2=\"414.256\" y2=\"332.615\" stroke-linecap=\"round\" style=\"stroke:black;stroke-width:1\" /><line x1=\"414.256\" y1=\"332.615\" x2=\"415.771\" y2=\"324.025\" stroke-linecap=\"round\" style=\"stroke:black;stroke-width:1\" /><line x1=\"415.771\" y1=\"324.025\" x2=\"415.771\" y2=\"315.303\" stroke-linecap=\"round\" style=\"stroke:black;stroke-width:1\" /><line x1=\"415.771\" y1=\"315.303\" x2=\"414.256\" y2=\"306.713\" stroke-linecap=\"round\" style=\"stroke:black;stroke-width:1\" /><line x1=\"414.256\" y1=\"306.713\" x2=\"411.273\" y2=\"298.517\" stroke-linecap=\"round\" style=\"stroke:black;stroke-width:1\" /><line x1=\"411.273\" y1=\"298.517\" x2=\"406.912\" y2=\"290.963\" stroke-linecap=\"round\" style=\"stroke:black;stroke-width:1\" /><line x1=\"406.912\" y1=\"290.963\" x2=\"401.305\" y2=\"284.281\" stroke-linecap=\"round\" style=\"stroke:black;stroke-width:1\" /><line x1=\"401.305\" y1=\"284.281\" x2=\"394.623\" y2=\"278.674\" stroke-linecap=\"round\" style=\"stroke:black;stroke-width:1\" /><line x1=\"394.623\" y1=\"278.674\" x2=\"387.069\" y2=\"274.313\" stroke-linecap=\"round\" style=\"stroke:black;stroke-width:1\" /><line x1=\"387.069\" y1=\"274.313\" x2=\"378.873\" y2=\"271.33\" stroke-linecap=\"round\" style=\"stroke:black;stroke-width:1\" /><line x1=\"378.873\" y1=\"271.33\" x2=\"370.283\" y2=\"269.815\" stroke-linecap=\"round\" style=\"stroke:black;stroke-width:1\" /><line x1=\"370.283\" y1=\"269.815\" x2=\"361.561\" y2=\"269.815\" stroke-linecap=\"round\" style=\"stroke:black;stroke-width:1\" /><line x1=\"361.561\" y1=\"269.815\" x2=\"352.971\" y2=\"271.33\" stroke-linecap=\"round\" style=\"stroke:black;stroke-width:1\" /><line x1=\"352.971\" y1=\"271.33\" x2=\"344.775\" y2=\"274.313\" stroke-linecap=\"round\" style=\"stroke:black;stroke-width:1\" /><line x1=\"344.775\" y1=\"274.313\" x2=\"337.221\" y2=\"278.674\" stroke-linecap=\"round\" style=\"stroke:black;stroke-width:1\" /><line x1=\"337.221\" y1=\"278.674\" x2=\"330.539\" y2=\"284.281\" stroke-linecap=\"round\" style=\"stroke:black;stroke-width:1\" /><line x1=\"330.539\" y1=\"284.281\" x2=\"324.932\" y2=\"290.963\" stroke-linecap=\"round\" style=\"stroke:black;stroke-width:1\" /><line x1=\"324.932\" y1=\"290.963\" x2=\"320.571\" y2=\"298.517\" stroke-linecap=\"round\" style=\"stroke:black;stroke-width:1\" /><line x1=\"320.571\" y1=\"298.517\" x2=\"317.588\" y2=\"306.713\" stroke-linecap=\"round\" style=\"stroke:black;stroke-width:1\" /><line x1=\"314.115\" y1=\"326.409\" x2=\"309.754\" y2=\"333.963\" stroke-linecap=\"round\" style=\"stroke:black;stroke-width:1\" /><line x1=\"309.754\" y1=\"333.963\" x2=\"306.771\" y2=\"342.159\" stroke-linecap=\"round\" style=\"stroke:black;stroke-width:1\" /><line x1=\"306.771\" y1=\"342.159\" x2=\"305.256\" y2=\"350.749\" stroke-linecap=\"round\" style=\"stroke:black;stroke-width:1\" /><line x1=\"305.256\" y1=\"350.749\" x2=\"305.256\" y2=\"359.471\" stroke-linecap=\"round\" style=\"stroke:black;stroke-width:1\" /><line x1=\"305.256\" y1=\"359.471\" x2=\"306.771\" y2=\"368.061\" stroke-linecap=\"round\" style=\"stroke:black;stroke-width:1\" /><line x1=\"306.771\" y1=\"368.061\" x2=\"309.754\" y2=\"376.257\" stroke-linecap=\"round\" style=\"stroke:black;stroke-width:1\" /><line x1=\"309.754\" y1=\"376.257\" x2=\"314.115\" y2=\"383.811\" stroke-linecap=\"round\" style=\"stroke:black;stroke-width:1\" /><line x1=\"314.115\" y1=\"383.811\" x2=\"319.722\" y2=\"390.493\" stroke-linecap=\"round\" style=\"stroke:black;stroke-width:1\" /><line x1=\"319.722\" y1=\"390.493\" x2=\"326.404\" y2=\"396.1\" stroke-linecap=\"round\" style=\"stroke:black;stroke-width:1\" /><line x1=\"326.404\" y1=\"396.1\" x2=\"333.958\" y2=\"400.461\" stroke-linecap=\"round\" style=\"stroke:black;stroke-width:1\" /><line x1=\"333.958\" y1=\"400.461\" x2=\"342.154\" y2=\"403.444\" stroke-linecap=\"round\" style=\"stroke:black;stroke-width:1\" /><line x1=\"342.154\" y1=\"403.444\" x2=\"350.744\" y2=\"404.959\" stroke-linecap=\"round\" style=\"stroke:black;stroke-width:1\" /><line x1=\"350.744\" y1=\"404.959\" x2=\"359.466\" y2=\"404.959\" stroke-linecap=\"round\" style=\"stroke:black;stroke-width:1\" /><line x1=\"359.466\" y1=\"404.959\" x2=\"368.056\" y2=\"403.444\" stroke-linecap=\"round\" style=\"stroke:black;stroke-width:1\" /><line x1=\"368.056\" y1=\"403.444\" x2=\"376.252\" y2=\"400.461\" stroke-linecap=\"round\" style=\"stroke:black;stroke-width:1\" /><line x1=\"376.252\" y1=\"400.461\" x2=\"383.806\" y2=\"396.1\" stroke-linecap=\"round\" style=\"stroke:black;stroke-width:1\" /><line x1=\"383.806\" y1=\"396.1\" x2=\"390.488\" y2=\"390.493\" stroke-linecap=\"round\" style=\"stroke:black;stroke-width:1\" /><line x1=\"390.488\" y1=\"390.493\" x2=\"396.095\" y2=\"383.811\" stroke-linecap=\"round\" style=\"stroke:black;stroke-width:1\" /><line x1=\"396.095\" y1=\"383.811\" x2=\"400.456\" y2=\"376.257\" stroke-linecap=\"round\" style=\"stroke:black;stroke-width:1\" /><line x1=\"400.456\" y1=\"376.257\" x2=\"403.439\" y2=\"368.061\" stroke-linecap=\"round\" style=\"stroke:black;stroke-width:1\" /><line x1=\"403.439\" y1=\"368.061\" x2=\"404.954\" y2=\"359.471\" stroke-linecap=\"round\" style=\"stroke:black;stroke-width:1\" /><line x1=\"404.954\" y1=\"359.471\" x2=\"404.954\" y2=\"350.749\" stroke-linecap=\"round\" style=\"stroke:black;stroke-width:1\" /><line x1=\"404.954\" y1=\"350.749\" x2=\"403.439\" y2=\"342.159\" stroke-linecap=\"round\" style=\"stroke:black;stroke-width:1\" /><line x1=\"403.439\" y1=\"342.159\" x2=\"400.456\" y2=\"333.963\" stroke-linecap=\"round\" style=\"stroke:black;stroke-width:1\" /><line x1=\"400.456\" y1=\"333.963\" x2=\"396.095\" y2=\"326.409\" stroke-linecap=\"round\" style=\"stroke:black;stroke-width:1\" /><line x1=\"396.095\" y1=\"326.409\" x2=\"390.488\" y2=\"319.727\" stroke-linecap=\"round\" style=\"stroke:black;stroke-width:1\" /><line x1=\"390.488\" y1=\"319.727\" x2=\"383.806\" y2=\"314.12\" stroke-linecap=\"round\" style=\"stroke:black;stroke-width:1\" /><line x1=\"383.806\" y1=\"314.12\" x2=\"376.252\" y2=\"309.759\" stroke-linecap=\"round\" style=\"stroke:black;stroke-width:1\" /><line x1=\"376.252\" y1=\"309.759\" x2=\"368.056\" y2=\"306.776\" stroke-linecap=\"round\" style=\"stroke:black;stroke-width:1\" /><line x1=\"368.056\" y1=\"306.776\" x2=\"359.466\" y2=\"305.261\" stroke-linecap=\"round\" style=\"stroke:black;stroke-width:1\" /><line x1=\"359.466\" y1=\"305.261\" x2=\"350.744\" y2=\"305.261\" stroke-linecap=\"round\" style=\"stroke:black;stroke-width:1\" /><line x1=\"350.744\" y1=\"305.261\" x2=\"342.154\" y2=\"306.776\" stroke-linecap=\"round\" style=\"stroke:black;stroke-width:1\" /><line x1=\"342.154\" y1=\"306.776\" x2=\"333.958\" y2=\"309.759\" stroke-linecap=\"round\" style=\"stroke:black;stroke-width:1\" /><line x1=\"333.958\" y1=\"309.759\" x2=\"326.404\" y2=\"314.12\" stroke-linecap=\"round\" style=\"stroke:black;stroke-width:1\" /><line x1=\"326.404\" y1=\"314.12\" x2=\"319.722\" y2=\"319.727\" stroke-linecap=\"round\" style=\"stroke:black;stroke-width:1\" /><line x1=\"319.722\" y1=\"319.727\" x2=\"314.115\" y2=\"326.409\" stroke-linecap=\"round\" style=\"stroke:black;stroke-width:1\" /><line x1=\"304.115\" y1=\"343.73\" x2=\"297.433\" y2=\"349.337\" stroke-linecap=\"round\" style=\"stroke:black;stroke-width:1\" /><line x1=\"297.433\" y1=\"349.337\" x2=\"291.826\" y2=\"356.019\" stroke-linecap=\"round\" style=\"stroke:black;stroke-width:1\" /><line x1=\"291.826\" y1=\"356.019\" x2=\"287.465\" y2=\"363.573\" stroke-linecap=\"round\" style=\"stroke:black;stroke-width:1\" /><line x1=\"287.465\" y1=\"363.573\" x2=\"284.482\" y2=\"371.769\" stroke-linecap=\"round\" style=\"stroke:black;stroke-width:1\" /><line x1=\"284.482\" y1=\"371.769\" x2=\"282.967\" y2=\"380.359\" stroke-linecap=\"round\" style=\"stroke:black;stroke-width:1\" /><line x1=\"282.967\" y1=\"380.359\" x2=\"282.967\" y2=\"389.081\" stroke-linecap=\"round\" style=\"stroke:black;stroke-width:1\" /><line x1=\"282.967\" y1=\"389.081\" x2=\"284.482\" y2=\"397.671\" stroke-linecap=\"round\" style=\"stroke:black;stroke-width:1\" /><line x1=\"284.482\" y1=\"397.671\" x2=\"287.465\" y2=\"405.867\" stroke-linecap=\"round\" style=\"stroke:black;stroke-width:1\" /><line x1=\"287.465\" y1=\"405.867\" x2=\"291.826\" y2=\"413.421\" stroke-linecap=\"round\" style=\"stroke:black;stroke-width:1\" /><line x1=\"291.826\" y1=\"413.421\" x2=\"297.433\" y2=\"420.103\" stroke-linecap=\"round\" style=\"stroke:black;stroke-width:1\" /><line x1=\"297.433\" y1=\"420.103\" x2=\"304.115\" y2=\"425.71\" stroke-linecap=\"round\" style=\"stroke:black;stroke-width:1\" /><line x1=\"304.115\" y1=\"425.71\" x2=\"311.669\" y2=\"430.071\" stroke-linecap=\"round\" style=\"stroke:black;stroke-width:1\" /><line x1=\"311.669\" y1=\"430.071\" x2=\"319.865\" y2=\"433.054\" stroke-linecap=\"round\" style=\"stroke:black;stroke-width:1\" /><line x1=\"319.865\" y1=\"433.054\" x2=\"328.455\" y2=\"434.569\" stroke-linecap=\"round\" style=\"stroke:black;stroke-width:1\" /><line x1=\"328.455\" y1=\"434.569\" x2=\"337.177\" y2=\"434.569\" stroke-linecap=\"round\" style=\"stroke:black;stroke-width:1\" /><line x1=\"337.177\" y1=\"434.569\" x2=\"345.767\" y2=\"433.054\" stroke-linecap=\"round\" style=\"stroke:black;stroke-width:1\" /><line x1=\"345.767\" y1=\"433.054\" x2=\"353.963\" y2=\"430.071\" stroke-linecap=\"round\" style=\"stroke:black;stroke-width:1\" /><line x1=\"353.963\" y1=\"430.071\" x2=\"361.517\" y2=\"425.71\" stroke-linecap=\"round\" style=\"stroke:black;stroke-width:1\" /><line x1=\"361.517\" y1=\"425.71\" x2=\"368.199\" y2=\"420.103\" stroke-linecap=\"round\" style=\"stroke:black;stroke-width:1\" /><line x1=\"368.199\" y1=\"420.103\" x2=\"373.806\" y2=\"413.421\" stroke-linecap=\"round\" style=\"stroke:black;stroke-width:1\" /><line x1=\"373.806\" y1=\"413.421\" x2=\"378.167\" y2=\"405.867\" stroke-linecap=\"round\" style=\"stroke:black;stroke-width:1\" /><line x1=\"378.167\" y1=\"405.867\" x2=\"381.15\" y2=\"397.671\" stroke-linecap=\"round\" style=\"stroke:black;stroke-width:1\" /><line x1=\"381.15\" y1=\"397.671\" x2=\"382.665\" y2=\"389.081\" stroke-linecap=\"round\" style=\"stroke:black;stroke-width:1\" /><line x1=\"382.665\" y1=\"389.081\" x2=\"382.665\" y2=\"380.359\" stroke-linecap=\"round\" style=\"stroke:black;stroke-width:1\" /><line x1=\"382.665\" y1=\"380.359\" x2=\"381.15\" y2=\"371.769\" stroke-linecap=\"round\" style=\"stroke:black;stroke-width:1\" /><line x1=\"381.15\" y1=\"371.769\" x2=\"378.167\" y2=\"363.573\" stroke-linecap=\"round\" style=\"stroke:black;stroke-width:1\" /><line x1=\"378.167\" y1=\"363.573\" x2=\"373.806\" y2=\"356.019\" stroke-linecap=\"round\" style=\"stroke:black;stroke-width:1\" /><line x1=\"373.806\" y1=\"356.019\" x2=\"368.199\" y2=\"349.337\" stroke-linecap=\"round\" style=\"stroke:black;stroke-width:1\" /><line x1=\"368.199\" y1=\"349.337\" x2=\"361.517\" y2=\"343.73\" stroke-linecap=\"round\" style=\"stroke:black;stroke-width:1\" /><line x1=\"361.517\" y1=\"343.73\" x2=\"353.963\" y2=\"339.369\" stroke-linecap=\"round\" style=\"stroke:black;stroke-width:1\" /><line x1=\"353.963\" y1=\"339.369\" x2=\"345.767\" y2=\"336.386\" stroke-linecap=\"round\" style=\"stroke:black;stroke-width:1\" /><line x1=\"345.767\" y1=\"336.386\" x2=\"337.177\" y2=\"334.871\" stroke-linecap=\"round\" style=\"stroke:black;stroke-width:1\" /><line x1=\"337.177\" y1=\"334.871\" x2=\"328.455\" y2=\"334.871\" stroke-linecap=\"round\" style=\"stroke:black;stroke-width:1\" /><line x1=\"328.455\" y1=\"334.871\" x2=\"319.865\" y2=\"336.386\" stroke-linecap=\"round\" style=\"stroke:black;stroke-width:1\" /><line x1=\"319.865\" y1=\"336.386\" x2=\"311.669\" y2=\"339.369\" stroke-linecap=\"round\" style=\"stroke:black;stroke-width:1\" /><line x1=\"311.669\" y1=\"339.369\" x2=\"304.115\" y2=\"343.73\" stroke-linecap=\"round\" style=\"stroke:black;stroke-width:1\" /><line x1=\"288.794\" y1=\"356.586\" x2=\"280.598\" y2=\"359.569\" stroke-linecap=\"round\" style=\"stroke:black;stroke-width:1\" /><line x1=\"280.598\" y1=\"359.569\" x2=\"273.044\" y2=\"363.93\" stroke-linecap=\"round\" style=\"stroke:black;stroke-width:1\" /><line x1=\"273.044\" y1=\"363.93\" x2=\"266.362\" y2=\"369.537\" stroke-linecap=\"round\" style=\"stroke:black;stroke-width:1\" /><line x1=\"266.362\" y1=\"369.537\" x2=\"260.755\" y2=\"376.219\" stroke-linecap=\"round\" style=\"stroke:black;stroke-width:1\" /><line x1=\"260.755\" y1=\"376.219\" x2=\"256.394\" y2=\"383.773\" stroke-linecap=\"round\" style=\"stroke:black;stroke-width:1\" /><line x1=\"256.394\" y1=\"383.773\" x2=\"253.411\" y2=\"391.969\" stroke-linecap=\"round\" style=\"stroke:black;stroke-width:1\" /><line x1=\"253.411\" y1=\"391.969\" x2=\"251.896\" y2=\"400.559\" stroke-linecap=\"round\" style=\"stroke:black;stroke-width:1\" /><line x1=\"251.896\" y1=\"400.559\" x2=\"251.896\" y2=\"409.281\" stroke-linecap=\"round\" style=\"stroke:black;stroke-width:1\" /><line x1=\"251.896\" y1=\"409.281\" x2=\"253.411\" y2=\"417.871\" stroke-linecap=\"round\" style=\"stroke:black;stroke-width:1\" /><line x1=\"253.411\" y1=\"417.871\" x2=\"256.394\" y2=\"426.067\" stroke-linecap=\"round\" style=\"stroke:black;stroke-width:1\" /><line x1=\"256.394\" y1=\"426.067\" x2=\"260.755\" y2=\"433.621\" stroke-linecap=\"round\" style=\"stroke:black;stroke-width:1\" /><line x1=\"260.755\" y1=\"433.621\" x2=\"266.362\" y2=\"440.303\" stroke-linecap=\"round\" style=\"stroke:black;stroke-width:1\" /><line x1=\"266.362\" y1=\"440.303\" x2=\"273.044\" y2=\"445.91\" stroke-linecap=\"round\" style=\"stroke:black;stroke-width:1\" /><line x1=\"273.044\" y1=\"445.91\" x2=\"280.598\" y2=\"450.271\" stroke-linecap=\"round\" style=\"stroke:black;stroke-width:1\" /><line x1=\"280.598\" y1=\"450.271\" x2=\"288.794\" y2=\"453.254\" stroke-linecap=\"round\" style=\"stroke:black;stroke-width:1\" /><line x1=\"288.794\" y1=\"453.254\" x2=\"297.384\" y2=\"454.769\" stroke-linecap=\"round\" style=\"stroke:black;stroke-width:1\" /><line x1=\"297.384\" y1=\"454.769\" x2=\"306.106\" y2=\"454.769\" stroke-linecap=\"round\" style=\"stroke:black;stroke-width:1\" /><line x1=\"306.106\" y1=\"454.769\" x2=\"314.696\" y2=\"453.254\" stroke-linecap=\"round\" style=\"stroke:black;stroke-width:1\" /><line x1=\"314.696\" y1=\"453.254\" x2=\"322.892\" y2=\"450.271\" stroke-linecap=\"round\" style=\"stroke:black;stroke-width:1\" /><line x1=\"322.892\" y1=\"450.271\" x2=\"330.446\" y2=\"445.91\" stroke-linecap=\"round\" style=\"stroke:black;stroke-width:1\" /><line x1=\"330.446\" y1=\"445.91\" x2=\"337.128\" y2=\"440.303\" stroke-linecap=\"round\" style=\"stroke:black;stroke-width:1\" /><line x1=\"337.128\" y1=\"440.303\" x2=\"342.735\" y2=\"433.621\" stroke-linecap=\"round\" style=\"stroke:black;stroke-width:1\" /><line x1=\"342.735\" y1=\"433.621\" x2=\"347.096\" y2=\"426.067\" stroke-linecap=\"round\" style=\"stroke:black;stroke-width:1\" /><line x1=\"347.096\" y1=\"426.067\" x2=\"350.079\" y2=\"417.871\" stroke-linecap=\"round\" style=\"stroke:black;stroke-width:1\" /><line x1=\"350.079\" y1=\"417.871\" x2=\"351.594\" y2=\"409.281\" stroke-linecap=\"round\" style=\"stroke:black;stroke-width:1\" /><line x1=\"351.594\" y1=\"409.281\" x2=\"351.594\" y2=\"400.559\" stroke-linecap=\"round\" style=\"stroke:black;stroke-width:1\" /><line x1=\"351.594\" y1=\"400.559\" x2=\"350.079\" y2=\"391.969\" stroke-linecap=\"round\" style=\"stroke:black;stroke-width:1\" /><line x1=\"350.079\" y1=\"391.969\" x2=\"347.096\" y2=\"383.773\" stroke-linecap=\"round\" style=\"stroke:black;stroke-width:1\" /><line x1=\"347.096\" y1=\"383.773\" x2=\"342.735\" y2=\"376.219\" stroke-linecap=\"round\" style=\"stroke:black;stroke-width:1\" /><line x1=\"342.735\" y1=\"376.219\" x2=\"337.128\" y2=\"369.537\" stroke-linecap=\"round\" style=\"stroke:black;stroke-width:1\" /><line x1=\"337.128\" y1=\"369.537\" x2=\"330.446\" y2=\"363.93\" stroke-linecap=\"round\" style=\"stroke:black;stroke-width:1\" /><line x1=\"330.446\" y1=\"363.93\" x2=\"322.892\" y2=\"359.569\" stroke-linecap=\"round\" style=\"stroke:black;stroke-width:1\" /><line x1=\"322.892\" y1=\"359.569\" x2=\"314.696\" y2=\"356.586\" stroke-linecap=\"round\" style=\"stroke:black;stroke-width:1\" /><line x1=\"314.696\" y1=\"356.586\" x2=\"306.106\" y2=\"355.071\" stroke-linecap=\"round\" style=\"stroke:black;stroke-width:1\" /><line x1=\"306.106\" y1=\"355.071\" x2=\"297.384\" y2=\"355.071\" stroke-linecap=\"round\" style=\"stroke:black;stroke-width:1\" /><line x1=\"297.384\" y1=\"355.071\" x2=\"288.794\" y2=\"356.586\" stroke-linecap=\"round\" style=\"stroke:black;stroke-width:1\" /><line x1=\"270.0\" y1=\"363.426\" x2=\"261.278\" y2=\"363.426\" stroke-linecap=\"round\" style=\"stroke:black;stroke-width:1\" /><line x1=\"261.278\" y1=\"363.426\" x2=\"252.688\" y2=\"364.941\" stroke-linecap=\"round\" style=\"stroke:black;stroke-width:1\" /><line x1=\"252.688\" y1=\"364.941\" x2=\"244.492\" y2=\"367.924\" stroke-linecap=\"round\" style=\"stroke:black;stroke-width:1\" /><line x1=\"244.492\" y1=\"367.924\" x2=\"236.938\" y2=\"372.285\" stroke-linecap=\"round\" style=\"stroke:black;stroke-width:1\" /><line x1=\"236.938\" y1=\"372.285\" x2=\"230.256\" y2=\"377.892\" stroke-linecap=\"round\" style=\"stroke:black;stroke-width:1\" /><line x1=\"230.256\" y1=\"377.892\" x2=\"224.649\" y2=\"384.574\" stroke-linecap=\"round\" style=\"stroke:black;stroke-width:1\" /><line x1=\"224.649\" y1=\"384.574\" x2=\"220.288\" y2=\"392.128\" stroke-linecap=\"round\" style=\"stroke:black;stroke-width:1\" /><line x1=\"220.288\" y1=\"392.128\" x2=\"217.305\" y2=\"400.324\" stroke-linecap=\"round\" style=\"stroke:black;stroke-width:1\" /><line x1=\"217.305\" y1=\"400.324\" x2=\"215.79\" y2=\"408.914\" stroke-linecap=\"round\" style=\"stroke:black;stroke-width:1\" /><line x1=\"215.79\" y1=\"408.914\" x2=\"215.79\" y2=\"417.636\" stroke-linecap=\"round\" style=\"stroke:black;stroke-width:1\" /><line x1=\"215.79\" y1=\"417.636\" x2=\"217.305\" y2=\"426.226\" stroke-linecap=\"round\" style=\"stroke:black;stroke-width:1\" /><line x1=\"217.305\" y1=\"426.226\" x2=\"220.288\" y2=\"434.422\" stroke-linecap=\"round\" style=\"stroke:black;stroke-width:1\" /><line x1=\"220.288\" y1=\"434.422\" x2=\"224.649\" y2=\"441.976\" stroke-linecap=\"round\" style=\"stroke:black;stroke-width:1\" /><line x1=\"224.649\" y1=\"441.976\" x2=\"230.256\" y2=\"448.658\" stroke-linecap=\"round\" style=\"stroke:black;stroke-width:1\" /><line x1=\"230.256\" y1=\"448.658\" x2=\"236.938\" y2=\"454.265\" stroke-linecap=\"round\" style=\"stroke:black;stroke-width:1\" /><line x1=\"236.938\" y1=\"454.265\" x2=\"244.492\" y2=\"458.626\" stroke-linecap=\"round\" style=\"stroke:black;stroke-width:1\" /><line x1=\"244.492\" y1=\"458.626\" x2=\"252.688\" y2=\"461.609\" stroke-linecap=\"round\" style=\"stroke:black;stroke-width:1\" /><line x1=\"252.688\" y1=\"461.609\" x2=\"261.278\" y2=\"463.124\" stroke-linecap=\"round\" style=\"stroke:black;stroke-width:1\" /><line x1=\"261.278\" y1=\"463.124\" x2=\"270.0\" y2=\"463.124\" stroke-linecap=\"round\" style=\"stroke:black;stroke-width:1\" /><line x1=\"270.0\" y1=\"463.124\" x2=\"278.59\" y2=\"461.609\" stroke-linecap=\"round\" style=\"stroke:black;stroke-width:1\" /><line x1=\"278.59\" y1=\"461.609\" x2=\"286.786\" y2=\"458.626\" stroke-linecap=\"round\" style=\"stroke:black;stroke-width:1\" /><line x1=\"286.786\" y1=\"458.626\" x2=\"294.34\" y2=\"454.265\" stroke-linecap=\"round\" style=\"stroke:black;stroke-width:1\" /><line x1=\"294.34\" y1=\"454.265\" x2=\"301.022\" y2=\"448.658\" stroke-linecap=\"round\" style=\"stroke:black;stroke-width:1\" /><line x1=\"301.022\" y1=\"448.658\" x2=\"306.629\" y2=\"441.976\" stroke-linecap=\"round\" style=\"stroke:black;stroke-width:1\" /><line x1=\"306.629\" y1=\"441.976\" x2=\"310.99\" y2=\"434.422\" stroke-linecap=\"round\" style=\"stroke:black;stroke-width:1\" /><line x1=\"310.99\" y1=\"434.422\" x2=\"313.973\" y2=\"426.226\" stroke-linecap=\"round\" style=\"stroke:black;stroke-width:1\" /><line x1=\"313.973\" y1=\"426.226\" x2=\"315.488\" y2=\"417.636\" stroke-linecap=\"round\" style=\"stroke:black;stroke-width:1\" /><line x1=\"315.488\" y1=\"417.636\" x2=\"315.488\" y2=\"408.914\" stroke-linecap=\"round\" style=\"stroke:black;stroke-width:1\" /><line x1=\"315.488\" y1=\"408.914\" x2=\"313.973\" y2=\"400.324\" stroke-linecap=\"round\" style=\"stroke:black;stroke-width:1\" /><line x1=\"313.973\" y1=\"400.324\" x2=\"310.99\" y2=\"392.128\" stroke-linecap=\"round\" style=\"stroke:black;stroke-width:1\" /><line x1=\"310.99\" y1=\"392.128\" x2=\"306.629\" y2=\"384.574\" stroke-linecap=\"round\" style=\"stroke:black;stroke-width:1\" /><line x1=\"306.629\" y1=\"384.574\" x2=\"301.022\" y2=\"377.892\" stroke-linecap=\"round\" style=\"stroke:black;stroke-width:1\" /><line x1=\"301.022\" y1=\"377.892\" x2=\"294.34\" y2=\"372.285\" stroke-linecap=\"round\" style=\"stroke:black;stroke-width:1\" /><line x1=\"294.34\" y1=\"372.285\" x2=\"286.786\" y2=\"367.924\" stroke-linecap=\"round\" style=\"stroke:black;stroke-width:1\" /><line x1=\"286.786\" y1=\"367.924\" x2=\"278.59\" y2=\"364.941\" stroke-linecap=\"round\" style=\"stroke:black;stroke-width:1\" /><line x1=\"278.59\" y1=\"364.941\" x2=\"270.0\" y2=\"363.426\" stroke-linecap=\"round\" style=\"stroke:black;stroke-width:1\" /><line x1=\"250.0\" y1=\"363.426\" x2=\"241.804\" y2=\"360.443\" stroke-linecap=\"round\" style=\"stroke:black;stroke-width:1\" /><line x1=\"241.804\" y1=\"360.443\" x2=\"233.214\" y2=\"358.928\" stroke-linecap=\"round\" style=\"stroke:black;stroke-width:1\" /><line x1=\"233.214\" y1=\"358.928\" x2=\"224.492\" y2=\"358.928\" stroke-linecap=\"round\" style=\"stroke:black;stroke-width:1\" /><line x1=\"224.492\" y1=\"358.928\" x2=\"215.902\" y2=\"360.443\" stroke-linecap=\"round\" style=\"stroke:black;stroke-width:1\" /><line x1=\"215.902\" y1=\"360.443\" x2=\"207.706\" y2=\"363.426\" stroke-linecap=\"round\" style=\"stroke:black;stroke-width:1\" /><line x1=\"207.706\" y1=\"363.426\" x2=\"200.152\" y2=\"367.787\" stroke-linecap=\"round\" style=\"stroke:black;stroke-width:1\" /><line x1=\"200.152\" y1=\"367.787\" x2=\"193.47\" y2=\"373.394\" stroke-linecap=\"round\" style=\"stroke:black;stroke-width:1\" /><line x1=\"193.47\" y1=\"373.394\" x2=\"187.863\" y2=\"380.076\" stroke-linecap=\"round\" style=\"stroke:black;stroke-width:1\" /><line x1=\"187.863\" y1=\"380.076\" x2=\"183.502\" y2=\"387.63\" stroke-linecap=\"round\" style=\"stroke:black;stroke-width:1\" /><line x1=\"183.502\" y1=\"387.63\" x2=\"180.519\" y2=\"395.826\" stroke-linecap=\"round\" style=\"stroke:black;stroke-width:1\" /><line x1=\"180.519\" y1=\"395.826\" x2=\"179.004\" y2=\"404.416\" stroke-linecap=\"round\" style=\"stroke:black;stroke-width:1\" /><line x1=\"179.004\" y1=\"404.416\" x2=\"179.004\" y2=\"413.138\" stroke-linecap=\"round\" style=\"stroke:black;stroke-width:1\" /><line x1=\"179.004\" y1=\"413.138\" x2=\"180.519\" y2=\"421.728\" stroke-linecap=\"round\" style=\"stroke:black;stroke-width:1\" /><line x1=\"180.519\" y1=\"421.728\" x2=\"183.502\" y2=\"429.924\" stroke-linecap=\"round\" style=\"stroke:black;stroke-width:1\" /><line x1=\"183.502\" y1=\"429.924\" x2=\"187.863\" y2=\"437.478\" stroke-linecap=\"round\" style=\"stroke:black;stroke-width:1\" /><line x1=\"187.863\" y1=\"437.478\" x2=\"193.47\" y2=\"444.16\" stroke-linecap=\"round\" style=\"stroke:black;stroke-width:1\" /><line x1=\"193.47\" y1=\"444.16\" x2=\"200.152\" y2=\"449.767\" stroke-linecap=\"round\" style=\"stroke:black;stroke-width:1\" /><line x1=\"200.152\" y1=\"449.767\" x2=\"207.706\" y2=\"454.128\" stroke-linecap=\"round\" style=\"stroke:black;stroke-width:1\" /><line x1=\"207.706\" y1=\"454.128\" x2=\"215.902\" y2=\"457.111\" stroke-linecap=\"round\" style=\"stroke:black;stroke-width:1\" /><line x1=\"215.902\" y1=\"457.111\" x2=\"224.492\" y2=\"458.626\" stroke-linecap=\"round\" style=\"stroke:black;stroke-width:1\" /><line x1=\"224.492\" y1=\"458.626\" x2=\"233.214\" y2=\"458.626\" stroke-linecap=\"round\" style=\"stroke:black;stroke-width:1\" /><line x1=\"233.214\" y1=\"458.626\" x2=\"241.804\" y2=\"457.111\" stroke-linecap=\"round\" style=\"stroke:black;stroke-width:1\" /><line x1=\"241.804\" y1=\"457.111\" x2=\"250.0\" y2=\"454.128\" stroke-linecap=\"round\" style=\"stroke:black;stroke-width:1\" /><line x1=\"250.0\" y1=\"454.128\" x2=\"257.554\" y2=\"449.767\" stroke-linecap=\"round\" style=\"stroke:black;stroke-width:1\" /><line x1=\"257.554\" y1=\"449.767\" x2=\"264.236\" y2=\"444.16\" stroke-linecap=\"round\" style=\"stroke:black;stroke-width:1\" /><line x1=\"264.236\" y1=\"444.16\" x2=\"269.843\" y2=\"437.478\" stroke-linecap=\"round\" style=\"stroke:black;stroke-width:1\" /><line x1=\"269.843\" y1=\"437.478\" x2=\"274.204\" y2=\"429.924\" stroke-linecap=\"round\" style=\"stroke:black;stroke-width:1\" /><line x1=\"274.204\" y1=\"429.924\" x2=\"277.187\" y2=\"421.728\" stroke-linecap=\"round\" style=\"stroke:black;stroke-width:1\" /><line x1=\"277.187\" y1=\"421.728\" x2=\"278.702\" y2=\"413.138\" stroke-linecap=\"round\" style=\"stroke:black;stroke-width:1\" /><line x1=\"278.702\" y1=\"413.138\" x2=\"278.702\" y2=\"404.416\" stroke-linecap=\"round\" style=\"stroke:black;stroke-width:1\" /><line x1=\"278.702\" y1=\"404.416\" x2=\"277.187\" y2=\"395.826\" stroke-linecap=\"round\" style=\"stroke:black;stroke-width:1\" /><line x1=\"277.187\" y1=\"395.826\" x2=\"274.204\" y2=\"387.63\" stroke-linecap=\"round\" style=\"stroke:black;stroke-width:1\" /><line x1=\"274.204\" y1=\"387.63\" x2=\"269.843\" y2=\"380.076\" stroke-linecap=\"round\" style=\"stroke:black;stroke-width:1\" /><line x1=\"269.843\" y1=\"380.076\" x2=\"264.236\" y2=\"373.394\" stroke-linecap=\"round\" style=\"stroke:black;stroke-width:1\" /><line x1=\"264.236\" y1=\"373.394\" x2=\"257.554\" y2=\"367.787\" stroke-linecap=\"round\" style=\"stroke:black;stroke-width:1\" /><line x1=\"257.554\" y1=\"367.787\" x2=\"250.0\" y2=\"363.426\" stroke-linecap=\"round\" style=\"stroke:black;stroke-width:1\" /><line x1=\"231.206\" y1=\"356.586\" x2=\"224.524\" y2=\"350.979\" stroke-linecap=\"round\" style=\"stroke:black;stroke-width:1\" /><line x1=\"224.524\" y1=\"350.979\" x2=\"216.97\" y2=\"346.618\" stroke-linecap=\"round\" style=\"stroke:black;stroke-width:1\" /><line x1=\"216.97\" y1=\"346.618\" x2=\"208.774\" y2=\"343.635\" stroke-linecap=\"round\" style=\"stroke:black;stroke-width:1\" /><line x1=\"208.774\" y1=\"343.635\" x2=\"200.184\" y2=\"342.12\" stroke-linecap=\"round\" style=\"stroke:black;stroke-width:1\" /><line x1=\"200.184\" y1=\"342.12\" x2=\"191.462\" y2=\"342.12\" stroke-linecap=\"round\" style=\"stroke:black;stroke-width:1\" /><line x1=\"191.462\" y1=\"342.12\" x2=\"182.872\" y2=\"343.635\" stroke-linecap=\"round\" style=\"stroke:black;stroke-width:1\" /><line x1=\"182.872\" y1=\"343.635\" x2=\"174.676\" y2=\"346.618\" stroke-linecap=\"round\" style=\"stroke:black;stroke-width:1\" /><line x1=\"174.676\" y1=\"346.618\" x2=\"167.122\" y2=\"350.979\" stroke-linecap=\"round\" style=\"stroke:black;stroke-width:1\" /><line x1=\"167.122\" y1=\"350.979\" x2=\"160.44\" y2=\"356.586\" stroke-linecap=\"round\" style=\"stroke:black;stroke-width:1\" /><line x1=\"160.44\" y1=\"356.586\" x2=\"154.833\" y2=\"363.268\" stroke-linecap=\"round\" style=\"stroke:black;stroke-width:1\" /><line x1=\"154.833\" y1=\"363.268\" x2=\"150.472\" y2=\"370.822\" stroke-linecap=\"round\" style=\"stroke:black;stroke-width:1\" /><line x1=\"150.472\" y1=\"370.822\" x2=\"147.489\" y2=\"379.018\" stroke-linecap=\"round\" style=\"stroke:black;stroke-width:1\" /><line x1=\"147.489\" y1=\"379.018\" x2=\"145.974\" y2=\"387.608\" stroke-linecap=\"round\" style=\"stroke:black;stroke-width:1\" /><line x1=\"145.974\" y1=\"387.608\" x2=\"145.974\" y2=\"396.33\" stroke-linecap=\"round\" style=\"stroke:black;stroke-width:1\" /><line x1=\"145.974\" y1=\"396.33\" x2=\"147.489\" y2=\"404.92\" stroke-linecap=\"round\" style=\"stroke:black;stroke-width:1\" /><line x1=\"147.489\" y1=\"404.92\" x2=\"150.472\" y2=\"413.116\" stroke-linecap=\"round\" style=\"stroke:black;stroke-width:1\" /><line x1=\"150.472\" y1=\"413.116\" x2=\"154.833\" y2=\"420.67\" stroke-linecap=\"round\" style=\"stroke:black;stroke-width:1\" /><line x1=\"154.833\" y1=\"420.67\" x2=\"160.44\" y2=\"427.352\" stroke-linecap=\"round\" style=\"stroke:black;stroke-width:1\" /><line x1=\"160.44\" y1=\"427.352\" x2=\"167.122\" y2=\"432.959\" stroke-linecap=\"round\" style=\"stroke:black;stroke-width:1\" /><line x1=\"167.122\" y1=\"432.959\" x2=\"174.676\" y2=\"437.32\" stroke-linecap=\"round\" style=\"stroke:black;stroke-width:1\" /><line x1=\"174.676\" y1=\"437.32\" x2=\"182.872\" y2=\"440.303\" stroke-linecap=\"round\" style=\"stroke:black;stroke-width:1\" /><line x1=\"182.872\" y1=\"440.303\" x2=\"191.462\" y2=\"441.818\" stroke-linecap=\"round\" style=\"stroke:black;stroke-width:1\" /><line x1=\"191.462\" y1=\"441.818\" x2=\"200.184\" y2=\"441.818\" stroke-linecap=\"round\" style=\"stroke:black;stroke-width:1\" /><line x1=\"200.184\" y1=\"441.818\" x2=\"208.774\" y2=\"440.303\" stroke-linecap=\"round\" style=\"stroke:black;stroke-width:1\" /><line x1=\"208.774\" y1=\"440.303\" x2=\"216.97\" y2=\"437.32\" stroke-linecap=\"round\" style=\"stroke:black;stroke-width:1\" /><line x1=\"216.97\" y1=\"437.32\" x2=\"224.524\" y2=\"432.959\" stroke-linecap=\"round\" style=\"stroke:black;stroke-width:1\" /><line x1=\"224.524\" y1=\"432.959\" x2=\"231.206\" y2=\"427.352\" stroke-linecap=\"round\" style=\"stroke:black;stroke-width:1\" /><line x1=\"231.206\" y1=\"427.352\" x2=\"236.813\" y2=\"420.67\" stroke-linecap=\"round\" style=\"stroke:black;stroke-width:1\" /><line x1=\"236.813\" y1=\"420.67\" x2=\"241.174\" y2=\"413.116\" stroke-linecap=\"round\" style=\"stroke:black;stroke-width:1\" /><line x1=\"241.174\" y1=\"413.116\" x2=\"244.157\" y2=\"404.92\" stroke-linecap=\"round\" style=\"stroke:black;stroke-width:1\" /><line x1=\"244.157\" y1=\"404.92\" x2=\"245.672\" y2=\"396.33\" stroke-linecap=\"round\" style=\"stroke:black;stroke-width:1\" /><line x1=\"245.672\" y1=\"396.33\" x2=\"245.672\" y2=\"387.608\" stroke-linecap=\"round\" style=\"stroke:black;stroke-width:1\" /><line x1=\"245.672\" y1=\"387.608\" x2=\"244.157\" y2=\"379.018\" stroke-linecap=\"round\" style=\"stroke:black;stroke-width:1\" /><line x1=\"244.157\" y1=\"379.018\" x2=\"241.174\" y2=\"370.822\" stroke-linecap=\"round\" style=\"stroke:black;stroke-width:1\" /><line x1=\"241.174\" y1=\"370.822\" x2=\"236.813\" y2=\"363.268\" stroke-linecap=\"round\" style=\"stroke:black;stroke-width:1\" /><line x1=\"236.813\" y1=\"363.268\" x2=\"231.206\" y2=\"356.586\" stroke-linecap=\"round\" style=\"stroke:black;stroke-width:1\" /><line x1=\"215.885\" y1=\"343.73\" x2=\"211.524\" y2=\"336.176\" stroke-linecap=\"round\" style=\"stroke:black;stroke-width:1\" /><line x1=\"211.524\" y1=\"336.176\" x2=\"205.917\" y2=\"329.494\" stroke-linecap=\"round\" style=\"stroke:black;stroke-width:1\" /><line x1=\"205.917\" y1=\"329.494\" x2=\"199.235\" y2=\"323.887\" stroke-linecap=\"round\" style=\"stroke:black;stroke-width:1\" /><line x1=\"199.235\" y1=\"323.887\" x2=\"191.681\" y2=\"319.526\" stroke-linecap=\"round\" style=\"stroke:black;stroke-width:1\" /><line x1=\"191.681\" y1=\"319.526\" x2=\"183.485\" y2=\"316.543\" stroke-linecap=\"round\" style=\"stroke:black;stroke-width:1\" /><line x1=\"183.485\" y1=\"316.543\" x2=\"174.895\" y2=\"315.028\" stroke-linecap=\"round\" style=\"stroke:black;stroke-width:1\" /><line x1=\"174.895\" y1=\"315.028\" x2=\"166.173\" y2=\"315.028\" stroke-linecap=\"round\" style=\"stroke:black;stroke-width:1\" /><line x1=\"166.173\" y1=\"315.028\" x2=\"157.583\" y2=\"316.543\" stroke-linecap=\"round\" style=\"stroke:black;stroke-width:1\" /><line x1=\"157.583\" y1=\"316.543\" x2=\"149.387\" y2=\"319.526\" stroke-linecap=\"round\" style=\"stroke:black;stroke-width:1\" /><line x1=\"149.387\" y1=\"319.526\" x2=\"141.833\" y2=\"323.887\" stroke-linecap=\"round\" style=\"stroke:black;stroke-width:1\" /><line x1=\"141.833\" y1=\"323.887\" x2=\"135.151\" y2=\"329.494\" stroke-linecap=\"round\" style=\"stroke:black;stroke-width:1\" /><line x1=\"135.151\" y1=\"329.494\" x2=\"129.544\" y2=\"336.176\" stroke-linecap=\"round\" style=\"stroke:black;stroke-width:1\" /><line x1=\"129.544\" y1=\"336.176\" x2=\"125.183\" y2=\"343.73\" stroke-linecap=\"round\" style=\"stroke:black;stroke-width:1\" /><line x1=\"125.183\" y1=\"343.73\" x2=\"122.2\" y2=\"351.926\" stroke-linecap=\"round\" style=\"stroke:black;stroke-width:1\" /><line x1=\"122.2\" y1=\"351.926\" x2=\"120.685\" y2=\"360.516\" stroke-linecap=\"round\" style=\"stroke:black;stroke-width:1\" /><line x1=\"120.685\" y1=\"360.516\" x2=\"120.685\" y2=\"369.238\" stroke-linecap=\"round\" style=\"stroke:black;stroke-width:1\" /><line x1=\"120.685\" y1=\"369.238\" x2=\"122.2\" y2=\"377.828\" stroke-linecap=\"round\" style=\"stroke:black;stroke-width:1\" /><line x1=\"122.2\" y1=\"377.828\" x2=\"125.183\" y2=\"386.024\" stroke-linecap=\"round\" style=\"stroke:black;stroke-width:1\" /><line x1=\"125.183\" y1=\"386.024\" x2=\"129.544\" y2=\"393.578\" stroke-linecap=\"round\" style=\"stroke:black;stroke-width:1\" /><line x1=\"129.544\" y1=\"393.578\" x2=\"135.151\" y2=\"400.26\" stroke-linecap=\"round\" style=\"stroke:black;stroke-width:1\" /><line x1=\"135.151\" y1=\"400.26\" x2=\"141.833\" y2=\"405.867\" stroke-linecap=\"round\" style=\"stroke:black;stroke-width:1\" /><line x1=\"141.833\" y1=\"405.867\" x2=\"149.387\" y2=\"410.228\" stroke-linecap=\"round\" style=\"stroke:black;stroke-width:1\" /><line x1=\"149.387\" y1=\"410.228\" x2=\"157.583\" y2=\"413.211\" stroke-linecap=\"round\" style=\"stroke:black;stroke-width:1\" /><line x1=\"157.583\" y1=\"413.211\" x2=\"166.173\" y2=\"414.726\" stroke-linecap=\"round\" style=\"stroke:black;stroke-width:1\" /><line x1=\"166.173\" y1=\"414.726\" x2=\"174.895\" y2=\"414.726\" stroke-linecap=\"round\" style=\"stroke:black;stroke-width:1\" /><line x1=\"174.895\" y1=\"414.726\" x2=\"183.485\" y2=\"413.211\" stroke-linecap=\"round\" style=\"stroke:black;stroke-width:1\" /><line x1=\"183.485\" y1=\"413.211\" x2=\"191.681\" y2=\"410.228\" stroke-linecap=\"round\" style=\"stroke:black;stroke-width:1\" /><line x1=\"191.681\" y1=\"410.228\" x2=\"199.235\" y2=\"405.867\" stroke-linecap=\"round\" style=\"stroke:black;stroke-width:1\" /><line x1=\"199.235\" y1=\"405.867\" x2=\"205.917\" y2=\"400.26\" stroke-linecap=\"round\" style=\"stroke:black;stroke-width:1\" /><line x1=\"205.917\" y1=\"400.26\" x2=\"211.524\" y2=\"393.578\" stroke-linecap=\"round\" style=\"stroke:black;stroke-width:1\" /><line x1=\"211.524\" y1=\"393.578\" x2=\"215.885\" y2=\"386.024\" stroke-linecap=\"round\" style=\"stroke:black;stroke-width:1\" /><line x1=\"215.885\" y1=\"386.024\" x2=\"218.868\" y2=\"377.828\" stroke-linecap=\"round\" style=\"stroke:black;stroke-width:1\" /><line x1=\"218.868\" y1=\"377.828\" x2=\"220.383\" y2=\"369.238\" stroke-linecap=\"round\" style=\"stroke:black;stroke-width:1\" /><line x1=\"220.383\" y1=\"369.238\" x2=\"220.383\" y2=\"360.516\" stroke-linecap=\"round\" style=\"stroke:black;stroke-width:1\" /><line x1=\"220.383\" y1=\"360.516\" x2=\"218.868\" y2=\"351.926\" stroke-linecap=\"round\" style=\"stroke:black;stroke-width:1\" /><line x1=\"218.868\" y1=\"351.926\" x2=\"215.885\" y2=\"343.73\" stroke-linecap=\"round\" style=\"stroke:black;stroke-width:1\" /><line x1=\"205.885\" y1=\"326.409\" x2=\"204.37\" y2=\"317.819\" stroke-linecap=\"round\" style=\"stroke:black;stroke-width:1\" /><line x1=\"204.37\" y1=\"317.819\" x2=\"201.387\" y2=\"309.623\" stroke-linecap=\"round\" style=\"stroke:black;stroke-width:1\" /><line x1=\"201.387\" y1=\"309.623\" x2=\"197.026\" y2=\"302.069\" stroke-linecap=\"round\" style=\"stroke:black;stroke-width:1\" /><line x1=\"197.026\" y1=\"302.069\" x2=\"191.419\" y2=\"295.387\" stroke-linecap=\"round\" style=\"stroke:black;stroke-width:1\" /><line x1=\"191.419\" y1=\"295.387\" x2=\"184.737\" y2=\"289.78\" stroke-linecap=\"round\" style=\"stroke:black;stroke-width:1\" /><line x1=\"184.737\" y1=\"289.78\" x2=\"177.183\" y2=\"285.419\" stroke-linecap=\"round\" style=\"stroke:black;stroke-width:1\" /><line x1=\"177.183\" y1=\"285.419\" x2=\"168.987\" y2=\"282.436\" stroke-linecap=\"round\" style=\"stroke:black;stroke-width:1\" /><line x1=\"168.987\" y1=\"282.436\" x2=\"160.397\" y2=\"280.921\" stroke-linecap=\"round\" style=\"stroke:black;stroke-width:1\" /><line x1=\"160.397\" y1=\"280.921\" x2=\"151.675\" y2=\"280.921\" stroke-linecap=\"round\" style=\"stroke:black;stroke-width:1\" /><line x1=\"151.675\" y1=\"280.921\" x2=\"143.085\" y2=\"282.436\" stroke-linecap=\"round\" style=\"stroke:black;stroke-width:1\" /><line x1=\"143.085\" y1=\"282.436\" x2=\"134.889\" y2=\"285.419\" stroke-linecap=\"round\" style=\"stroke:black;stroke-width:1\" /><line x1=\"134.889\" y1=\"285.419\" x2=\"127.335\" y2=\"289.78\" stroke-linecap=\"round\" style=\"stroke:black;stroke-width:1\" /><line x1=\"127.335\" y1=\"289.78\" x2=\"120.653\" y2=\"295.387\" stroke-linecap=\"round\" style=\"stroke:black;stroke-width:1\" /><line x1=\"120.653\" y1=\"295.387\" x2=\"115.046\" y2=\"302.069\" stroke-linecap=\"round\" style=\"stroke:black;stroke-width:1\" /><line x1=\"115.046\" y1=\"302.069\" x2=\"110.685\" y2=\"309.623\" stroke-linecap=\"round\" style=\"stroke:black;stroke-width:1\" /><line x1=\"110.685\" y1=\"309.623\" x2=\"107.702\" y2=\"317.819\" stroke-linecap=\"round\" style=\"stroke:black;stroke-width:1\" /><line x1=\"107.702\" y1=\"317.819\" x2=\"106.187\" y2=\"326.409\" stroke-linecap=\"round\" style=\"stroke:black;stroke-width:1\" /><line x1=\"106.187\" y1=\"326.409\" x2=\"106.187\" y2=\"335.131\" stroke-linecap=\"round\" style=\"stroke:black;stroke-width:1\" /><line x1=\"106.187\" y1=\"335.131\" x2=\"107.702\" y2=\"343.721\" stroke-linecap=\"round\" style=\"stroke:black;stroke-width:1\" /><line x1=\"107.702\" y1=\"343.721\" x2=\"110.685\" y2=\"351.917\" stroke-linecap=\"round\" style=\"stroke:black;stroke-width:1\" /><line x1=\"110.685\" y1=\"351.917\" x2=\"115.046\" y2=\"359.471\" stroke-linecap=\"round\" style=\"stroke:black;stroke-width:1\" /><line x1=\"115.046\" y1=\"359.471\" x2=\"120.653\" y2=\"366.153\" stroke-linecap=\"round\" style=\"stroke:black;stroke-width:1\" /><line x1=\"120.653\" y1=\"366.153\" x2=\"127.335\" y2=\"371.76\" stroke-linecap=\"round\" style=\"stroke:black;stroke-width:1\" /><line x1=\"127.335\" y1=\"371.76\" x2=\"134.889\" y2=\"376.121\" stroke-linecap=\"round\" style=\"stroke:black;stroke-width:1\" /><line x1=\"134.889\" y1=\"376.121\" x2=\"143.085\" y2=\"379.104\" stroke-linecap=\"round\" style=\"stroke:black;stroke-width:1\" /><line x1=\"143.085\" y1=\"379.104\" x2=\"151.675\" y2=\"380.619\" stroke-linecap=\"round\" style=\"stroke:black;stroke-width:1\" /><line x1=\"151.675\" y1=\"380.619\" x2=\"160.397\" y2=\"380.619\" stroke-linecap=\"round\" style=\"stroke:black;stroke-width:1\" /><line x1=\"160.397\" y1=\"380.619\" x2=\"168.987\" y2=\"379.104\" stroke-linecap=\"round\" style=\"stroke:black;stroke-width:1\" /><line x1=\"168.987\" y1=\"379.104\" x2=\"177.183\" y2=\"376.121\" stroke-linecap=\"round\" style=\"stroke:black;stroke-width:1\" /><line x1=\"177.183\" y1=\"376.121\" x2=\"184.737\" y2=\"371.76\" stroke-linecap=\"round\" style=\"stroke:black;stroke-width:1\" /><line x1=\"184.737\" y1=\"371.76\" x2=\"191.419\" y2=\"366.153\" stroke-linecap=\"round\" style=\"stroke:black;stroke-width:1\" /><line x1=\"191.419\" y1=\"366.153\" x2=\"197.026\" y2=\"359.471\" stroke-linecap=\"round\" style=\"stroke:black;stroke-width:1\" /><line x1=\"197.026\" y1=\"359.471\" x2=\"201.387\" y2=\"351.917\" stroke-linecap=\"round\" style=\"stroke:black;stroke-width:1\" /><line x1=\"201.387\" y1=\"351.917\" x2=\"204.37\" y2=\"343.721\" stroke-linecap=\"round\" style=\"stroke:black;stroke-width:1\" /><line x1=\"204.37\" y1=\"343.721\" x2=\"205.885\" y2=\"335.131\" stroke-linecap=\"round\" style=\"stroke:black;stroke-width:1\" /><line x1=\"205.885\" y1=\"335.131\" x2=\"205.885\" y2=\"326.409\" stroke-linecap=\"round\" style=\"stroke:black;stroke-width:1\" /><line x1=\"202.412\" y1=\"306.713\" x2=\"203.927\" y2=\"298.123\" stroke-linecap=\"round\" style=\"stroke:black;stroke-width:1\" /><line x1=\"203.927\" y1=\"298.123\" x2=\"203.927\" y2=\"289.401\" stroke-linecap=\"round\" style=\"stroke:black;stroke-width:1\" /><line x1=\"203.927\" y1=\"289.401\" x2=\"202.412\" y2=\"280.811\" stroke-linecap=\"round\" style=\"stroke:black;stroke-width:1\" /><line x1=\"202.412\" y1=\"280.811\" x2=\"199.429\" y2=\"272.615\" stroke-linecap=\"round\" style=\"stroke:black;stroke-width:1\" /><line x1=\"199.429\" y1=\"272.615\" x2=\"195.068\" y2=\"265.061\" stroke-linecap=\"round\" style=\"stroke:black;stroke-width:1\" /><line x1=\"195.068\" y1=\"265.061\" x2=\"189.461\" y2=\"258.379\" stroke-linecap=\"round\" style=\"stroke:black;stroke-width:1\" /><line x1=\"189.461\" y1=\"258.379\" x2=\"182.779\" y2=\"252.772\" stroke-linecap=\"round\" style=\"stroke:black;stroke-width:1\" /><line x1=\"182.779\" y1=\"252.772\" x2=\"175.225\" y2=\"248.411\" stroke-linecap=\"round\" style=\"stroke:black;stroke-width:1\" /><line x1=\"175.225\" y1=\"248.411\" x2=\"167.029\" y2=\"245.428\" stroke-linecap=\"round\" style=\"stroke:black;stroke-width:1\" /><line x1=\"167.029\" y1=\"245.428\" x2=\"158.439\" y2=\"243.913\" stroke-linecap=\"round\" style=\"stroke:black;stroke-width:1\" /><line x1=\"158.439\" y1=\"243.913\" x2=\"149.717\" y2=\"243.913\" stroke-linecap=\"round\" style=\"stroke:black;stroke-width:1\" /><line x1=\"149.717\" y1=\"243.913\" x2=\"141.127\" y2=\"245.428\" stroke-linecap=\"round\" style=\"stroke:black;stroke-width:1\" /><line x1=\"141.127\" y1=\"245.428\" x2=\"132.931\" y2=\"248.411\" stroke-linecap=\"round\" style=\"stroke:black;stroke-width:1\" /><line x1=\"132.931\" y1=\"248.411\" x2=\"125.377\" y2=\"252.772\" stroke-linecap=\"round\" style=\"stroke:black;stroke-width:1\" /><line x1=\"125.377\" y1=\"252.772\" x2=\"118.695\" y2=\"258.379\" stroke-linecap=\"round\" style=\"stroke:black;stroke-width:1\" /><line x1=\"118.695\" y1=\"258.379\" x2=\"113.088\" y2=\"265.061\" stroke-linecap=\"round\" style=\"stroke:black;stroke-width:1\" /><line x1=\"113.088\" y1=\"265.061\" x2=\"108.727\" y2=\"272.615\" stroke-linecap=\"round\" style=\"stroke:black;stroke-width:1\" /><line x1=\"108.727\" y1=\"272.615\" x2=\"105.744\" y2=\"280.811\" stroke-linecap=\"round\" style=\"stroke:black;stroke-width:1\" /><line x1=\"105.744\" y1=\"280.811\" x2=\"104.229\" y2=\"289.401\" stroke-linecap=\"round\" style=\"stroke:black;stroke-width:1\" /><line x1=\"104.229\" y1=\"289.401\" x2=\"104.229\" y2=\"298.123\" stroke-linecap=\"round\" style=\"stroke:black;stroke-width:1\" /><line x1=\"104.229\" y1=\"298.123\" x2=\"105.744\" y2=\"306.713\" stroke-linecap=\"round\" style=\"stroke:black;stroke-width:1\" /><line x1=\"105.744\" y1=\"306.713\" x2=\"108.727\" y2=\"314.909\" stroke-linecap=\"round\" style=\"stroke:black;stroke-width:1\" /><line x1=\"108.727\" y1=\"314.909\" x2=\"113.088\" y2=\"322.463\" stroke-linecap=\"round\" style=\"stroke:black;stroke-width:1\" /><line x1=\"113.088\" y1=\"322.463\" x2=\"118.695\" y2=\"329.145\" stroke-linecap=\"round\" style=\"stroke:black;stroke-width:1\" /><line x1=\"118.695\" y1=\"329.145\" x2=\"125.377\" y2=\"334.752\" stroke-linecap=\"round\" style=\"stroke:black;stroke-width:1\" /><line x1=\"125.377\" y1=\"334.752\" x2=\"132.931\" y2=\"339.113\" stroke-linecap=\"round\" style=\"stroke:black;stroke-width:1\" /><line x1=\"132.931\" y1=\"339.113\" x2=\"141.127\" y2=\"342.096\" stroke-linecap=\"round\" style=\"stroke:black;stroke-width:1\" /><line x1=\"141.127\" y1=\"342.096\" x2=\"149.717\" y2=\"343.611\" stroke-linecap=\"round\" style=\"stroke:black;stroke-width:1\" /><line x1=\"149.717\" y1=\"343.611\" x2=\"158.439\" y2=\"343.611\" stroke-linecap=\"round\" style=\"stroke:black;stroke-width:1\" /><line x1=\"158.439\" y1=\"343.611\" x2=\"167.029\" y2=\"342.096\" stroke-linecap=\"round\" style=\"stroke:black;stroke-width:1\" /><line x1=\"167.029\" y1=\"342.096\" x2=\"175.225\" y2=\"339.113\" stroke-linecap=\"round\" style=\"stroke:black;stroke-width:1\" /><line x1=\"175.225\" y1=\"339.113\" x2=\"182.779\" y2=\"334.752\" stroke-linecap=\"round\" style=\"stroke:black;stroke-width:1\" /><line x1=\"182.779\" y1=\"334.752\" x2=\"189.461\" y2=\"329.145\" stroke-linecap=\"round\" style=\"stroke:black;stroke-width:1\" /><line x1=\"189.461\" y1=\"329.145\" x2=\"195.068\" y2=\"322.463\" stroke-linecap=\"round\" style=\"stroke:black;stroke-width:1\" /><line x1=\"195.068\" y1=\"322.463\" x2=\"199.429\" y2=\"314.909\" stroke-linecap=\"round\" style=\"stroke:black;stroke-width:1\" /><line x1=\"199.429\" y1=\"314.909\" x2=\"202.412\" y2=\"306.713\" stroke-linecap=\"round\" style=\"stroke:black;stroke-width:1\" /><line x1=\"205.885\" y1=\"287.017\" x2=\"210.246\" y2=\"279.463\" stroke-linecap=\"round\" style=\"stroke:black;stroke-width:1\" /><line x1=\"210.246\" y1=\"279.463\" x2=\"213.229\" y2=\"271.267\" stroke-linecap=\"round\" style=\"stroke:black;stroke-width:1\" /><line x1=\"213.229\" y1=\"271.267\" x2=\"214.744\" y2=\"262.677\" stroke-linecap=\"round\" style=\"stroke:black;stroke-width:1\" /><line x1=\"214.744\" y1=\"262.677\" x2=\"214.744\" y2=\"253.955\" stroke-linecap=\"round\" style=\"stroke:black;stroke-width:1\" /><line x1=\"214.744\" y1=\"253.955\" x2=\"213.229\" y2=\"245.365\" stroke-linecap=\"round\" style=\"stroke:black;stroke-width:1\" /><line x1=\"213.229\" y1=\"245.365\" x2=\"210.246\" y2=\"237.169\" stroke-linecap=\"round\" style=\"stroke:black;stroke-width:1\" /><line x1=\"210.246\" y1=\"237.169\" x2=\"205.885\" y2=\"229.615\" stroke-linecap=\"round\" style=\"stroke:black;stroke-width:1\" /><line x1=\"205.885\" y1=\"229.615\" x2=\"200.278\" y2=\"222.933\" stroke-linecap=\"round\" style=\"stroke:black;stroke-width:1\" /><line x1=\"200.278\" y1=\"222.933\" x2=\"193.596\" y2=\"217.326\" stroke-linecap=\"round\" style=\"stroke:black;stroke-width:1\" /><line x1=\"193.596\" y1=\"217.326\" x2=\"186.042\" y2=\"212.965\" stroke-linecap=\"round\" style=\"stroke:black;stroke-width:1\" /><line x1=\"186.042\" y1=\"212.965\" x2=\"177.846\" y2=\"209.982\" stroke-linecap=\"round\" style=\"stroke:black;stroke-width:1\" /><line x1=\"177.846\" y1=\"209.982\" x2=\"169.256\" y2=\"208.467\" stroke-linecap=\"round\" style=\"stroke:black;stroke-width:1\" /><line x1=\"169.256\" y1=\"208.467\" x2=\"160.534\" y2=\"208.467\" stroke-linecap=\"round\" style=\"stroke:black;stroke-width:1\" /><line x1=\"160.534\" y1=\"208.467\" x2=\"151.944\" y2=\"209.982\" stroke-linecap=\"round\" style=\"stroke:black;stroke-width:1\" /><line x1=\"151.944\" y1=\"209.982\" x2=\"143.748\" y2=\"212.965\" stroke-linecap=\"round\" style=\"stroke:black;stroke-width:1\" /><line x1=\"143.748\" y1=\"212.965\" x2=\"136.194\" y2=\"217.326\" stroke-linecap=\"round\" style=\"stroke:black;stroke-width:1\" /><line x1=\"136.194\" y1=\"217.326\" x2=\"129.512\" y2=\"222.933\" stroke-linecap=\"round\" style=\"stroke:black;stroke-width:1\" /><line x1=\"129.512\" y1=\"222.933\" x2=\"123.905\" y2=\"229.615\" stroke-linecap=\"round\" style=\"stroke:black;stroke-width:1\" /><line x1=\"123.905\" y1=\"229.615\" x2=\"119.544\" y2=\"237.169\" stroke-linecap=\"round\" style=\"stroke:black;stroke-width:1\" /><line x1=\"119.544\" y1=\"237.169\" x2=\"116.561\" y2=\"245.365\" stroke-linecap=\"round\" style=\"stroke:black;stroke-width:1\" /><line x1=\"116.561\" y1=\"245.365\" x2=\"115.046\" y2=\"253.955\" stroke-linecap=\"round\" style=\"stroke:black;stroke-width:1\" /><line x1=\"115.046\" y1=\"253.955\" x2=\"115.046\" y2=\"262.677\" stroke-linecap=\"round\" style=\"stroke:black;stroke-width:1\" /><line x1=\"115.046\" y1=\"262.677\" x2=\"116.561\" y2=\"271.267\" stroke-linecap=\"round\" style=\"stroke:black;stroke-width:1\" /><line x1=\"116.561\" y1=\"271.267\" x2=\"119.544\" y2=\"279.463\" stroke-linecap=\"round\" style=\"stroke:black;stroke-width:1\" /><line x1=\"119.544\" y1=\"279.463\" x2=\"123.905\" y2=\"287.017\" stroke-linecap=\"round\" style=\"stroke:black;stroke-width:1\" /><line x1=\"123.905\" y1=\"287.017\" x2=\"129.512\" y2=\"293.699\" stroke-linecap=\"round\" style=\"stroke:black;stroke-width:1\" /><line x1=\"129.512\" y1=\"293.699\" x2=\"136.194\" y2=\"299.306\" stroke-linecap=\"round\" style=\"stroke:black;stroke-width:1\" /><line x1=\"136.194\" y1=\"299.306\" x2=\"143.748\" y2=\"303.667\" stroke-linecap=\"round\" style=\"stroke:black;stroke-width:1\" /><line x1=\"143.748\" y1=\"303.667\" x2=\"151.944\" y2=\"306.65\" stroke-linecap=\"round\" style=\"stroke:black;stroke-width:1\" /><line x1=\"151.944\" y1=\"306.65\" x2=\"160.534\" y2=\"308.165\" stroke-linecap=\"round\" style=\"stroke:black;stroke-width:1\" /><line x1=\"160.534\" y1=\"308.165\" x2=\"169.256\" y2=\"308.165\" stroke-linecap=\"round\" style=\"stroke:black;stroke-width:1\" /><line x1=\"169.256\" y1=\"308.165\" x2=\"177.846\" y2=\"306.65\" stroke-linecap=\"round\" style=\"stroke:black;stroke-width:1\" /><line x1=\"177.846\" y1=\"306.65\" x2=\"186.042\" y2=\"303.667\" stroke-linecap=\"round\" style=\"stroke:black;stroke-width:1\" /><line x1=\"186.042\" y1=\"303.667\" x2=\"193.596\" y2=\"299.306\" stroke-linecap=\"round\" style=\"stroke:black;stroke-width:1\" /><line x1=\"193.596\" y1=\"299.306\" x2=\"200.278\" y2=\"293.699\" stroke-linecap=\"round\" style=\"stroke:black;stroke-width:1\" /><line x1=\"200.278\" y1=\"293.699\" x2=\"205.885\" y2=\"287.017\" stroke-linecap=\"round\" style=\"stroke:black;stroke-width:1\" /><line x1=\"215.885\" y1=\"269.696\" x2=\"222.567\" y2=\"264.089\" stroke-linecap=\"round\" style=\"stroke:black;stroke-width:1\" /><line x1=\"222.567\" y1=\"264.089\" x2=\"228.174\" y2=\"257.407\" stroke-linecap=\"round\" style=\"stroke:black;stroke-width:1\" /><line x1=\"228.174\" y1=\"257.407\" x2=\"232.535\" y2=\"249.853\" stroke-linecap=\"round\" style=\"stroke:black;stroke-width:1\" /><line x1=\"232.535\" y1=\"249.853\" x2=\"235.518\" y2=\"241.657\" stroke-linecap=\"round\" style=\"stroke:black;stroke-width:1\" /><line x1=\"235.518\" y1=\"241.657\" x2=\"237.033\" y2=\"233.067\" stroke-linecap=\"round\" style=\"stroke:black;stroke-width:1\" /><line x1=\"237.033\" y1=\"233.067\" x2=\"237.033\" y2=\"224.345\" stroke-linecap=\"round\" style=\"stroke:black;stroke-width:1\" /><line x1=\"237.033\" y1=\"224.345\" x2=\"235.518\" y2=\"215.755\" stroke-linecap=\"round\" style=\"stroke:black;stroke-width:1\" /><line x1=\"235.518\" y1=\"215.755\" x2=\"232.535\" y2=\"207.559\" stroke-linecap=\"round\" style=\"stroke:black;stroke-width:1\" /><line x1=\"232.535\" y1=\"207.559\" x2=\"228.174\" y2=\"200.005\" stroke-linecap=\"round\" style=\"stroke:black;stroke-width:1\" /><line x1=\"228.174\" y1=\"200.005\" x2=\"222.567\" y2=\"193.323\" stroke-linecap=\"round\" style=\"stroke:black;stroke-width:1\" /><line x1=\"222.567\" y1=\"193.323\" x2=\"215.885\" y2=\"187.716\" stroke-linecap=\"round\" style=\"stroke:black;stroke-width:1\" /><line x1=\"215.885\" y1=\"187.716\" x2=\"208.331\" y2=\"183.355\" stroke-linecap=\"round\" style=\"stroke:black;stroke-width:1\" /><line x1=\"208.331\" y1=\"183.355\" x2=\"200.135\" y2=\"180.372\" stroke-linecap=\"round\" style=\"stroke:black;stroke-width:1\" /><line x1=\"200.135\" y1=\"180.372\" x2=\"191.545\" y2=\"178.857\" stroke-linecap=\"round\" style=\"stroke:black;stroke-width:1\" /><line x1=\"191.545\" y1=\"178.857\" x2=\"182.823\" y2=\"178.857\" stroke-linecap=\"round\" style=\"stroke:black;stroke-width:1\" /><line x1=\"182.823\" y1=\"178.857\" x2=\"174.233\" y2=\"180.372\" stroke-linecap=\"round\" style=\"stroke:black;stroke-width:1\" /><line x1=\"174.233\" y1=\"180.372\" x2=\"166.037\" y2=\"183.355\" stroke-linecap=\"round\" style=\"stroke:black;stroke-width:1\" /><line x1=\"166.037\" y1=\"183.355\" x2=\"158.483\" y2=\"187.716\" stroke-linecap=\"round\" style=\"stroke:black;stroke-width:1\" /><line x1=\"158.483\" y1=\"187.716\" x2=\"151.801\" y2=\"193.323\" stroke-linecap=\"round\" style=\"stroke:black;stroke-width:1\" /><line x1=\"151.801\" y1=\"193.323\" x2=\"146.194\" y2=\"200.005\" stroke-linecap=\"round\" style=\"stroke:black;stroke-width:1\" /><line x1=\"146.194\" y1=\"200.005\" x2=\"141.833\" y2=\"207.559\" stroke-linecap=\"round\" style=\"stroke:black;stroke-width:1\" /><line x1=\"141.833\" y1=\"207.559\" x2=\"138.85\" y2=\"215.755\" stroke-linecap=\"round\" style=\"stroke:black;stroke-width:1\" /><line x1=\"138.85\" y1=\"215.755\" x2=\"137.335\" y2=\"224.345\" stroke-linecap=\"round\" style=\"stroke:black;stroke-width:1\" /><line x1=\"137.335\" y1=\"224.345\" x2=\"137.335\" y2=\"233.067\" stroke-linecap=\"round\" style=\"stroke:black;stroke-width:1\" /><line x1=\"137.335\" y1=\"233.067\" x2=\"138.85\" y2=\"241.657\" stroke-linecap=\"round\" style=\"stroke:black;stroke-width:1\" /><line x1=\"138.85\" y1=\"241.657\" x2=\"141.833\" y2=\"249.853\" stroke-linecap=\"round\" style=\"stroke:black;stroke-width:1\" /><line x1=\"141.833\" y1=\"249.853\" x2=\"146.194\" y2=\"257.407\" stroke-linecap=\"round\" style=\"stroke:black;stroke-width:1\" /><line x1=\"146.194\" y1=\"257.407\" x2=\"151.801\" y2=\"264.089\" stroke-linecap=\"round\" style=\"stroke:black;stroke-width:1\" /><line x1=\"151.801\" y1=\"264.089\" x2=\"158.483\" y2=\"269.696\" stroke-linecap=\"round\" style=\"stroke:black;stroke-width:1\" /><line x1=\"158.483\" y1=\"269.696\" x2=\"166.037\" y2=\"274.057\" stroke-linecap=\"round\" style=\"stroke:black;stroke-width:1\" /><line x1=\"166.037\" y1=\"274.057\" x2=\"174.233\" y2=\"277.04\" stroke-linecap=\"round\" style=\"stroke:black;stroke-width:1\" /><line x1=\"174.233\" y1=\"277.04\" x2=\"182.823\" y2=\"278.555\" stroke-linecap=\"round\" style=\"stroke:black;stroke-width:1\" /><line x1=\"182.823\" y1=\"278.555\" x2=\"191.545\" y2=\"278.555\" stroke-linecap=\"round\" style=\"stroke:black;stroke-width:1\" /><line x1=\"191.545\" y1=\"278.555\" x2=\"200.135\" y2=\"277.04\" stroke-linecap=\"round\" style=\"stroke:black;stroke-width:1\" /><line x1=\"200.135\" y1=\"277.04\" x2=\"208.331\" y2=\"274.057\" stroke-linecap=\"round\" style=\"stroke:black;stroke-width:1\" /><line x1=\"208.331\" y1=\"274.057\" x2=\"215.885\" y2=\"269.696\" stroke-linecap=\"round\" style=\"stroke:black;stroke-width:1\" /><line x1=\"231.206\" y1=\"256.84\" x2=\"239.402\" y2=\"253.857\" stroke-linecap=\"round\" style=\"stroke:black;stroke-width:1\" /><line x1=\"239.402\" y1=\"253.857\" x2=\"246.956\" y2=\"249.496\" stroke-linecap=\"round\" style=\"stroke:black;stroke-width:1\" /><line x1=\"246.956\" y1=\"249.496\" x2=\"253.638\" y2=\"243.889\" stroke-linecap=\"round\" style=\"stroke:black;stroke-width:1\" /><line x1=\"253.638\" y1=\"243.889\" x2=\"259.245\" y2=\"237.207\" stroke-linecap=\"round\" style=\"stroke:black;stroke-width:1\" /><line x1=\"259.245\" y1=\"237.207\" x2=\"263.606\" y2=\"229.653\" stroke-linecap=\"round\" style=\"stroke:black;stroke-width:1\" /><line x1=\"263.606\" y1=\"229.653\" x2=\"266.589\" y2=\"221.457\" stroke-linecap=\"round\" style=\"stroke:black;stroke-width:1\" /><line x1=\"266.589\" y1=\"221.457\" x2=\"268.104\" y2=\"212.867\" stroke-linecap=\"round\" style=\"stroke:black;stroke-width:1\" /><line x1=\"268.104\" y1=\"212.867\" x2=\"268.104\" y2=\"204.145\" stroke-linecap=\"round\" style=\"stroke:black;stroke-width:1\" /><line x1=\"268.104\" y1=\"204.145\" x2=\"266.589\" y2=\"195.555\" stroke-linecap=\"round\" style=\"stroke:black;stroke-width:1\" /><line x1=\"266.589\" y1=\"195.555\" x2=\"263.606\" y2=\"187.359\" stroke-linecap=\"round\" style=\"stroke:black;stroke-width:1\" /><line x1=\"263.606\" y1=\"187.359\" x2=\"259.245\" y2=\"179.805\" stroke-linecap=\"round\" style=\"stroke:black;stroke-width:1\" /><line x1=\"259.245\" y1=\"179.805\" x2=\"253.638\" y2=\"173.123\" stroke-linecap=\"round\" style=\"stroke:black;stroke-width:1\" /><line x1=\"253.638\" y1=\"173.123\" x2=\"246.956\" y2=\"167.516\" stroke-linecap=\"round\" style=\"stroke:black;stroke-width:1\" /><line x1=\"246.956\" y1=\"167.516\" x2=\"239.402\" y2=\"163.155\" stroke-linecap=\"round\" style=\"stroke:black;stroke-width:1\" /><line x1=\"239.402\" y1=\"163.155\" x2=\"231.206\" y2=\"160.172\" stroke-linecap=\"round\" style=\"stroke:black;stroke-width:1\" /><line x1=\"231.206\" y1=\"160.172\" x2=\"222.616\" y2=\"158.657\" stroke-linecap=\"round\" style=\"stroke:black;stroke-width:1\" /><line x1=\"222.616\" y1=\"158.657\" x2=\"213.894\" y2=\"158.657\" stroke-linecap=\"round\" style=\"stroke:black;stroke-width:1\" /><line x1=\"213.894\" y1=\"158.657\" x2=\"205.304\" y2=\"160.172\" stroke-linecap=\"round\" style=\"stroke:black;stroke-width:1\" /><line x1=\"205.304\" y1=\"160.172\" x2=\"197.108\" y2=\"163.155\" stroke-linecap=\"round\" style=\"stroke:black;stroke-width:1\" /><line x1=\"197.108\" y1=\"163.155\" x2=\"189.554\" y2=\"167.516\" stroke-linecap=\"round\" style=\"stroke:black;stroke-width:1\" /><line x1=\"189.554\" y1=\"167.516\" x2=\"182.872\" y2=\"173.123\" stroke-linecap=\"round\" style=\"stroke:black;stroke-width:1\" /><line x1=\"182.872\" y1=\"173.123\" x2=\"177.265\" y2=\"179.805\" stroke-linecap=\"round\" style=\"stroke:black;stroke-width:1\" /><line x1=\"177.265\" y1=\"179.805\" x2=\"172.904\" y2=\"187.359\" stroke-linecap=\"round\" style=\"stroke:black;stroke-width:1\" /><line x1=\"172.904\" y1=\"187.359\" x2=\"169.921\" y2=\"195.555\" stroke-linecap=\"round\" style=\"stroke:black;stroke-width:1\" /><line x1=\"169.921\" y1=\"195.555\" x2=\"168.406\" y2=\"204.145\" stroke-linecap=\"round\" style=\"stroke:black;stroke-width:1\" /><line x1=\"168.406\" y1=\"204.145\" x2=\"168.406\" y2=\"212.867\" stroke-linecap=\"round\" style=\"stroke:black;stroke-width:1\" /><line x1=\"168.406\" y1=\"212.867\" x2=\"169.921\" y2=\"221.457\" stroke-linecap=\"round\" style=\"stroke:black;stroke-width:1\" /><line x1=\"169.921\" y1=\"221.457\" x2=\"172.904\" y2=\"229.653\" stroke-linecap=\"round\" style=\"stroke:black;stroke-width:1\" /><line x1=\"172.904\" y1=\"229.653\" x2=\"177.265\" y2=\"237.207\" stroke-linecap=\"round\" style=\"stroke:black;stroke-width:1\" /><line x1=\"177.265\" y1=\"237.207\" x2=\"182.872\" y2=\"243.889\" stroke-linecap=\"round\" style=\"stroke:black;stroke-width:1\" /><line x1=\"182.872\" y1=\"243.889\" x2=\"189.554\" y2=\"249.496\" stroke-linecap=\"round\" style=\"stroke:black;stroke-width:1\" /><line x1=\"189.554\" y1=\"249.496\" x2=\"197.108\" y2=\"253.857\" stroke-linecap=\"round\" style=\"stroke:black;stroke-width:1\" /><line x1=\"197.108\" y1=\"253.857\" x2=\"205.304\" y2=\"256.84\" stroke-linecap=\"round\" style=\"stroke:black;stroke-width:1\" /><line x1=\"205.304\" y1=\"256.84\" x2=\"213.894\" y2=\"258.355\" stroke-linecap=\"round\" style=\"stroke:black;stroke-width:1\" /><line x1=\"213.894\" y1=\"258.355\" x2=\"222.616\" y2=\"258.355\" stroke-linecap=\"round\" style=\"stroke:black;stroke-width:1\" /><line x1=\"222.616\" y1=\"258.355\" x2=\"231.206\" y2=\"256.84\" stroke-linecap=\"round\" style=\"stroke:black;stroke-width:1\" />\n",
              "        \n",
              "        \n",
              "        <g id=\"turtle\" visibility=\"visible\" transform=\"rotate(430.0,250.0,250.0) translate(250.0, 250.0)\">\n",
              "<path style=\"stroke:black;fill-rule:evenodd;fill:black;fill-opacity:1;\" transform=\"skewX(0) scale(1,1)\" d=\"m 1.1536693,-18.56101 c -2.105469,1.167969 -3.203125,3.441407 -3.140625,6.5 l 0.011719,0.519532 -0.300782,-0.15625 c -1.308594,-0.671875 -2.828125,-0.824219 -4.378906,-0.429688 -1.9375,0.484375 -3.8906253,2.089844 -6.0117193,4.9257825 -1.332031,1.785156 -1.714843,2.644531 -1.351562,3.035156 l 0.113281,0.125 h 0.363281 c 0.71875,0 1.308594,-0.265625 4.6679693,-2.113282 1.199219,-0.660156 2.183594,-1.199218 2.191406,-1.199218 0.00781,0 -0.023437,0.089844 -0.074218,0.195312 -0.472657,1.058594 -1.046876,2.785156 -1.335938,4.042969 -1.054688,4.574219 -0.351562,8.453125 2.101562,11.582031 0.28125,0.355469 0.292969,0.253906 -0.097656,0.722656 -2.046875,2.4609375 -3.027344,4.8984375 -2.734375,6.8046875 0.050781,0.339844 0.042969,0.335938 0.679688,0.335938 2.023437,0 4.15625,-1.316407 6.21875,-3.835938 0.222656,-0.269531 0.191406,-0.261719 0.425781,-0.113281 0.730469,0.46875 2.460938,1.390625 2.613281,1.390625 0.160157,0 1.765625,-0.753906 2.652344,-1.246094 0.167969,-0.09375 0.308594,-0.164062 0.308594,-0.160156 0.066406,0.105468 0.761719,0.855468 1.085937,1.171875 1.613282,1.570312 3.339844,2.402343 5.3593747,2.570312 0.324219,0.02734 0.355469,0.0078 0.425781,-0.316406 0.375,-1.742187 -0.382812,-4.058594 -2.1445307,-6.5585935 l -0.320312,-0.457031 0.15625,-0.183594 c 3.2460927,-3.824218 3.4335927,-9.08593704 0.558593,-15.816406 l -0.050781,-0.125 1.7382807,0.859375 c 3.585938,1.773437 4.371094,2.097656 5.085938,2.097656 0.945312,0 0.75,-0.863281 -0.558594,-2.507812 C 11.458356,-11.838353 8.3333563,-13.268041 4.8607003,-11.721166 l -0.363281,0.164063 0.019531,-0.09375 c 0.121094,-0.550781 0.183594,-1.800781 0.121094,-2.378907 -0.203125,-1.867187 -1.035157,-3.199218 -2.695313,-4.308593 -0.523437,-0.351563 -0.546875,-0.355469 -0.789062,-0.222657\" />\n",
              "<animateTransform id = \"one\" attributeName=\"transform\" \n",
              "                      type=\"scale\"\n",
              "                      from=\"1 1\" to=\"1 1\"\n",
              "                      begin=\"0s\" dur=\"0.01s\"\n",
              "                      repeatCount=\"1\"\n",
              "                      additive=\"sum\"\n",
              "                      fill=\"freeze\"\n",
              "                /><animateTransform attributeName=\"transform\"\n",
              "                    type=\"rotate\"\n",
              "                    from=\"0 0 0\" to =\"20 0 0\"\n",
              "                    begin=\"one.end\" dur=\"0.0011111111111111111s\"\n",
              "                    repeatCount=\"1\"\n",
              "                    additive=\"sum\"\n",
              "                    fill=\"freeze\"\n",
              "                /></g>\n",
              "      </svg>\n",
              "    "
            ]
          },
          "metadata": {}
        }
      ]
    },
    {
      "cell_type": "markdown",
      "source": [
        "## A Note on Data Structures\n",
        "\n",
        "**Data structures** are the fundamental constructs around which you build your programs. Each data structure provides a particular way of organising data so it can be accessed efficiently, depending on your use case.\n",
        "\n",
        "Below I list the most common data structures which are dictionaries, lists, sets, and tuples.\n",
        "\n",
        "- Dictionaries: store an arbitrary number of objects, each identified by a unique **key**. Dictionaries are *mutable* collections of key-value pairs, perfect for fast lookup by key.\n",
        "\n",
        "- Lists: *mutable* *ordered* collections of items of mixed types, ideal for storing sequences of values. In this tutorial we will be using them.\n",
        "\n",
        "- Sets: *unordered* collections of *unique* elements, useful for mathematical set operations like union and intersection.\n",
        "\n",
        "- Tuples: *immutable* ordered collections, suitable for fixed data sequences and returning multiple values from functions.\n",
        "\n",
        "For more, see [Common python Data Structures](https://realpython.com/python-data-structures/)."
      ],
      "metadata": {
        "id": "ShJ0HH1azLwT"
      }
    },
    {
      "cell_type": "code",
      "source": [
        "# creating a list\n",
        "my_list = [1, \"Hello\", 3.14, \"World\"]\n",
        "print(my_list)"
      ],
      "metadata": {
        "colab": {
          "base_uri": "https://localhost:8080/"
        },
        "id": "5hZrSSRP2l7d",
        "outputId": "82f48ce4-abd4-427d-d2e3-2c3dde69be96"
      },
      "execution_count": null,
      "outputs": [
        {
          "output_type": "stream",
          "name": "stdout",
          "text": [
            "[1, 'Hello', 3.14, 'World']\n"
          ]
        }
      ]
    },
    {
      "cell_type": "code",
      "source": [
        "# indexing\n",
        "first_item = my_list[0] # remember Python indexing starts from 0!\n",
        "print(first_item)\n",
        "\n",
        "last_item = my_list[-1] # -1 gives you the last item; -2 is second to last and so on\n",
        "print(last_item)"
      ],
      "metadata": {
        "colab": {
          "base_uri": "https://localhost:8080/"
        },
        "id": "YbemISti22E8",
        "outputId": "23e91ac1-5a64-45f8-c94c-c515ce8419af"
      },
      "execution_count": null,
      "outputs": [
        {
          "output_type": "stream",
          "name": "stdout",
          "text": [
            "1\n",
            "3.14\n"
          ]
        }
      ]
    },
    {
      "cell_type": "code",
      "source": [
        "# modifying list items\n",
        "my_list[1] = \"World\"\n",
        "print(my_list)"
      ],
      "metadata": {
        "colab": {
          "base_uri": "https://localhost:8080/"
        },
        "id": "xKgIEkMK3DkA",
        "outputId": "b95af4ea-7dc1-4580-de8d-45058d211e14"
      },
      "execution_count": null,
      "outputs": [
        {
          "output_type": "stream",
          "name": "stdout",
          "text": [
            "[1, 'World', 3.14]\n"
          ]
        }
      ]
    },
    {
      "cell_type": "code",
      "source": [
        "# slicing\n",
        "first_two_items = my_list[0:2] # gets the first two items\n",
        "print(first_two_items)\n",
        "\n",
        "print(my_list[:2]) # gets everyting up to the third item (not included)\n",
        "\n",
        "print(my_list[1:]) # gets everything starting from the second item\n",
        "\n",
        "print(my_list[::2]) # gets every second item"
      ],
      "metadata": {
        "colab": {
          "base_uri": "https://localhost:8080/"
        },
        "id": "KTjv519G3V3U",
        "outputId": "d66082f2-b4c0-44f3-d170-7a41853be5c1"
      },
      "execution_count": null,
      "outputs": [
        {
          "output_type": "stream",
          "name": "stdout",
          "text": [
            "[1, 'Hello']\n",
            "[1, 'Hello']\n",
            "['Hello', 3.14, 'World']\n",
            "[1, 3.14]\n"
          ]
        }
      ]
    },
    {
      "cell_type": "markdown",
      "source": [
        "## Challenge 3: Draw five stars ⭐ next to each other\n",
        "\n",
        "Your task is to draw five identical stars filled with different colors and set them at an equal spacing from each other.\n",
        "\n",
        "For this one, you need to:\n",
        "1. create a variable storing a list of colors\n",
        "2. write a function that makes a turtle draw a ⭐\n",
        "3. look at the documentation for ColabTurtlePlus to find out how to set the inital position for a Turtle\n",
        "4. write a loop that puts the turtle at the inital position, draws a ⭐ of a corresponding color, moves the turtle to the side and repeats"
      ],
      "metadata": {
        "id": "JC1C5fgLxAqO"
      }
    },
    {
      "cell_type": "code",
      "source": [
        "clearscreen()\n",
        "initializeTurtle((WIDTH, HEIGHT))\n",
        "\n",
        "\n",
        "bob = Turtle()\n",
        "bob.shape('turtle')\n",
        "\n",
        "\n",
        "# your code #"
      ],
      "metadata": {
        "id": "8VKVntyt2Vam"
      },
      "execution_count": null,
      "outputs": []
    },
    {
      "cell_type": "markdown",
      "source": [
        ".\n",
        "\n",
        ".\n",
        "\n",
        ".\n",
        "\n",
        ".\n",
        "\n",
        ".\n",
        "\n",
        "\n",
        "\n",
        "----"
      ],
      "metadata": {
        "id": "x1GwRznijVnX"
      }
    },
    {
      "cell_type": "code",
      "source": [
        "#@title Solution\n",
        "clearscreen()\n",
        "initializeTurtle((WIDTH, HEIGHT))\n",
        "\n",
        "colors = ['yellow', 'blue', 'green', 'yellow', 'red']\n",
        "\n",
        "bob = Turtle()\n",
        "bob.shape('turtle')\n",
        "\n",
        "def draw_star_color(color: str):\n",
        "    '''\n",
        "    draw a five point star\n",
        "    '''\n",
        "    bob.fillcolor(color)\n",
        "    bob.begin_fill()\n",
        "    for _ in range(5):\n",
        "        bob.forward(50)\n",
        "        bob.right(144)\n",
        "    bob.end_fill()\n",
        "\n",
        "\n",
        "\n",
        "for i in range(5):\n",
        "    draw_star_color(colors[i])\n",
        "    bob.penup()\n",
        "    bob.forward(70) # inital movement + 20\n",
        "    bob.pendown()\n"
      ],
      "metadata": {
        "colab": {
          "base_uri": "https://localhost:8080/",
          "height": 522
        },
        "cellView": "form",
        "id": "wfVLj1Rj_DZf",
        "outputId": "0ba696c0-23e6-408d-9085-50b581569c6b"
      },
      "execution_count": 22,
      "outputs": [
        {
          "output_type": "display_data",
          "data": {
            "text/plain": [
              "<IPython.core.display.HTML object>"
            ],
            "text/html": [
              "\n",
              "      <svg width=\"500\" height=\"500\">  \n",
              "        <rect width=\"100%\" height=\"100%\" style=\"fill:white;stroke:;stroke-width:1\"/>\n",
              "        \n",
              "        \n",
              "        <path fill-rule=\"evenodd\" fill-opacity=\"1\" d=\"M 250.0 250.0  L 300.0 250.0  L 259.549 279.389  L 275.0 231.836  L 290.451 279.389  L 250.0 250.0 \" stroke-linecap=\"round\" style=\"stroke:black;stroke-width:1\" fill=\"yellow\" /><path fill-rule=\"evenodd\" fill-opacity=\"1\" d=\"M 320.0 250.0  L 370.0 250.0  L 329.549 279.389  L 345.0 231.836  L 360.451 279.389  L 320.0 250.0 \" stroke-linecap=\"round\" style=\"stroke:black;stroke-width:1\" fill=\"blue\" /><path fill-rule=\"evenodd\" fill-opacity=\"1\" d=\"M 390.0 250.0  L 440.0 250.0  L 399.549 279.389  L 415.0 231.836  L 430.451 279.389  L 390.0 250.0 \" stroke-linecap=\"round\" style=\"stroke:black;stroke-width:1\" fill=\"green\" /><path fill-rule=\"evenodd\" fill-opacity=\"1\" d=\"M 460.0 250.0  L 510.0 250.0  L 469.549 279.389  L 485.0 231.836  L 500.451 279.389  L 460.0 250.0 \" stroke-linecap=\"round\" style=\"stroke:black;stroke-width:1\" fill=\"yellow\" /><path fill-rule=\"evenodd\" fill-opacity=\"1\" d=\"M 530.0 250.0  L 580.0 250.0  L 539.549 279.389  L 555.0 231.836  L 570.451 279.389  L 530.0 250.0 \" stroke-linecap=\"round\" style=\"stroke:black;stroke-width:1\" fill=\"red\" />\n",
              "        \n",
              "        \n",
              "        <g id=\"turtle\" visibility=\"visible\" transform=\"rotate(90,600.0,250.0) translate(600.0, 250.0)\">\n",
              "<path style=\"stroke:black;fill-rule:evenodd;fill:red;fill-opacity:1;\" transform=\"skewX(0) scale(1,1)\" d=\"m 1.1536693,-18.56101 c -2.105469,1.167969 -3.203125,3.441407 -3.140625,6.5 l 0.011719,0.519532 -0.300782,-0.15625 c -1.308594,-0.671875 -2.828125,-0.824219 -4.378906,-0.429688 -1.9375,0.484375 -3.8906253,2.089844 -6.0117193,4.9257825 -1.332031,1.785156 -1.714843,2.644531 -1.351562,3.035156 l 0.113281,0.125 h 0.363281 c 0.71875,0 1.308594,-0.265625 4.6679693,-2.113282 1.199219,-0.660156 2.183594,-1.199218 2.191406,-1.199218 0.00781,0 -0.023437,0.089844 -0.074218,0.195312 -0.472657,1.058594 -1.046876,2.785156 -1.335938,4.042969 -1.054688,4.574219 -0.351562,8.453125 2.101562,11.582031 0.28125,0.355469 0.292969,0.253906 -0.097656,0.722656 -2.046875,2.4609375 -3.027344,4.8984375 -2.734375,6.8046875 0.050781,0.339844 0.042969,0.335938 0.679688,0.335938 2.023437,0 4.15625,-1.316407 6.21875,-3.835938 0.222656,-0.269531 0.191406,-0.261719 0.425781,-0.113281 0.730469,0.46875 2.460938,1.390625 2.613281,1.390625 0.160157,0 1.765625,-0.753906 2.652344,-1.246094 0.167969,-0.09375 0.308594,-0.164062 0.308594,-0.160156 0.066406,0.105468 0.761719,0.855468 1.085937,1.171875 1.613282,1.570312 3.339844,2.402343 5.3593747,2.570312 0.324219,0.02734 0.355469,0.0078 0.425781,-0.316406 0.375,-1.742187 -0.382812,-4.058594 -2.1445307,-6.5585935 l -0.320312,-0.457031 0.15625,-0.183594 c 3.2460927,-3.824218 3.4335927,-9.08593704 0.558593,-15.816406 l -0.050781,-0.125 1.7382807,0.859375 c 3.585938,1.773437 4.371094,2.097656 5.085938,2.097656 0.945312,0 0.75,-0.863281 -0.558594,-2.507812 C 11.458356,-11.838353 8.3333563,-13.268041 4.8607003,-11.721166 l -0.363281,0.164063 0.019531,-0.09375 c 0.121094,-0.550781 0.183594,-1.800781 0.121094,-2.378907 -0.203125,-1.867187 -1.035157,-3.199218 -2.695313,-4.308593 -0.523437,-0.351563 -0.546875,-0.355469 -0.789062,-0.222657\" />\n",
              "</g>\n",
              "      </svg>\n",
              "    "
            ]
          },
          "metadata": {}
        }
      ]
    },
    {
      "cell_type": "markdown",
      "source": [
        "This solution looks odd. Ideally, we want to shift the turtle's initial position to the left to make the stars appear in the center of our canvas.\n",
        "\n",
        "For that, remember that the starting position by default is at `(0,0)` coordinates in our `(x,y)` canvas coordinate system.\n",
        "\n",
        "To shift the turtle's default starting position, we can use the `goto(x,y)` command. If we know the desired coordinates, we can just incert this command before the `for loop` to achieve the desired effect. The trick is to calculate the desired x (since it is a horizontal movement, y remains at `0`).\n",
        "\n",
        "\n"
      ],
      "metadata": {
        "id": "Z91x8GxjC1Lr"
      }
    },
    {
      "cell_type": "code",
      "source": [
        "#@title Solution (Improved)\n",
        "clearscreen()\n",
        "initializeTurtle((WIDTH, HEIGHT))\n",
        "\n",
        "colors = ['yellow', 'blue', 'green', 'yellow', 'red']\n",
        "\n",
        "bob = Turtle()\n",
        "bob.shape('turtle')\n",
        "\n",
        "\n",
        "star_size = 50\n",
        "forward_step = 20\n",
        "initial_space = (star_size + forward_step) * 2 + (star_size // 2)\n",
        "\n",
        "def draw_star_color(color: str):\n",
        "    '''\n",
        "    draw a five point star\n",
        "    '''\n",
        "    bob.fillcolor(color)\n",
        "    bob.begin_fill()\n",
        "    for _ in range(5):\n",
        "        bob.forward(star_size)\n",
        "        bob.right(144)\n",
        "    bob.end_fill()\n",
        "\n",
        "bob.penup()\n",
        "bob.goto(-initial_space, 0) # (star_size + forward_step) * 2 + (star_size // 2)\n",
        "\n",
        "\n",
        "for i in range(5):\n",
        "    bob.pendown()\n",
        "    draw_star_color(colors[i])\n",
        "    bob.penup()\n",
        "    bob.forward(star_size+forward_step) # inital movement + 20\n",
        "\n",
        "bob.hideturtle()"
      ],
      "metadata": {
        "colab": {
          "base_uri": "https://localhost:8080/",
          "height": 522
        },
        "cellView": "form",
        "id": "wiYz8vKkEq8q",
        "outputId": "33fc2b43-59eb-45f1-a7ef-bf542748222d"
      },
      "execution_count": 28,
      "outputs": [
        {
          "output_type": "display_data",
          "data": {
            "text/plain": [
              "<IPython.core.display.HTML object>"
            ],
            "text/html": [
              "\n",
              "      <svg width=\"500\" height=\"500\">  \n",
              "        <rect width=\"100%\" height=\"100%\" style=\"fill:white;stroke:;stroke-width:1\"/>\n",
              "        \n",
              "        \n",
              "        <path fill-rule=\"evenodd\" fill-opacity=\"1\" d=\"M 85.0 250.0  L 135.0 250.0  L 94.549 279.389  L 110.0 231.836  L 125.451 279.389  L 85.0 250.0 \" stroke-linecap=\"round\" style=\"stroke:black;stroke-width:1\" fill=\"yellow\" /><path fill-rule=\"evenodd\" fill-opacity=\"1\" d=\"M 155.0 250.0  L 205.0 250.0  L 164.549 279.389  L 180.0 231.836  L 195.451 279.389  L 155.0 250.0 \" stroke-linecap=\"round\" style=\"stroke:black;stroke-width:1\" fill=\"blue\" /><path fill-rule=\"evenodd\" fill-opacity=\"1\" d=\"M 225.0 250.0  L 275.0 250.0  L 234.549 279.389  L 250.0 231.836  L 265.451 279.389  L 225.0 250.0 \" stroke-linecap=\"round\" style=\"stroke:black;stroke-width:1\" fill=\"green\" /><path fill-rule=\"evenodd\" fill-opacity=\"1\" d=\"M 295.0 250.0  L 345.0 250.0  L 304.549 279.389  L 320.0 231.836  L 335.451 279.389  L 295.0 250.0 \" stroke-linecap=\"round\" style=\"stroke:black;stroke-width:1\" fill=\"yellow\" /><path fill-rule=\"evenodd\" fill-opacity=\"1\" d=\"M 365.0 250.0  L 415.0 250.0  L 374.549 279.389  L 390.0 231.836  L 405.451 279.389  L 365.0 250.0 \" stroke-linecap=\"round\" style=\"stroke:black;stroke-width:1\" fill=\"red\" />\n",
              "        \n",
              "        \n",
              "        <g id=\"turtle\" visibility=\"hidden\" transform=\"rotate(90,435.0,250.0) translate(435.0, 250.0)\">\n",
              "<path style=\"stroke:black;fill-rule:evenodd;fill:red;fill-opacity:1;\" transform=\"skewX(0) scale(1,1)\" d=\"m 1.1536693,-18.56101 c -2.105469,1.167969 -3.203125,3.441407 -3.140625,6.5 l 0.011719,0.519532 -0.300782,-0.15625 c -1.308594,-0.671875 -2.828125,-0.824219 -4.378906,-0.429688 -1.9375,0.484375 -3.8906253,2.089844 -6.0117193,4.9257825 -1.332031,1.785156 -1.714843,2.644531 -1.351562,3.035156 l 0.113281,0.125 h 0.363281 c 0.71875,0 1.308594,-0.265625 4.6679693,-2.113282 1.199219,-0.660156 2.183594,-1.199218 2.191406,-1.199218 0.00781,0 -0.023437,0.089844 -0.074218,0.195312 -0.472657,1.058594 -1.046876,2.785156 -1.335938,4.042969 -1.054688,4.574219 -0.351562,8.453125 2.101562,11.582031 0.28125,0.355469 0.292969,0.253906 -0.097656,0.722656 -2.046875,2.4609375 -3.027344,4.8984375 -2.734375,6.8046875 0.050781,0.339844 0.042969,0.335938 0.679688,0.335938 2.023437,0 4.15625,-1.316407 6.21875,-3.835938 0.222656,-0.269531 0.191406,-0.261719 0.425781,-0.113281 0.730469,0.46875 2.460938,1.390625 2.613281,1.390625 0.160157,0 1.765625,-0.753906 2.652344,-1.246094 0.167969,-0.09375 0.308594,-0.164062 0.308594,-0.160156 0.066406,0.105468 0.761719,0.855468 1.085937,1.171875 1.613282,1.570312 3.339844,2.402343 5.3593747,2.570312 0.324219,0.02734 0.355469,0.0078 0.425781,-0.316406 0.375,-1.742187 -0.382812,-4.058594 -2.1445307,-6.5585935 l -0.320312,-0.457031 0.15625,-0.183594 c 3.2460927,-3.824218 3.4335927,-9.08593704 0.558593,-15.816406 l -0.050781,-0.125 1.7382807,0.859375 c 3.585938,1.773437 4.371094,2.097656 5.085938,2.097656 0.945312,0 0.75,-0.863281 -0.558594,-2.507812 C 11.458356,-11.838353 8.3333563,-13.268041 4.8607003,-11.721166 l -0.363281,0.164063 0.019531,-0.09375 c 0.121094,-0.550781 0.183594,-1.800781 0.121094,-2.378907 -0.203125,-1.867187 -1.035157,-3.199218 -2.695313,-4.308593 -0.523437,-0.351563 -0.546875,-0.355469 -0.789062,-0.222657\" />\n",
              "</g>\n",
              "      </svg>\n",
              "    "
            ]
          },
          "metadata": {}
        }
      ]
    },
    {
      "cell_type": "markdown",
      "source": [
        "## Challenge 4: Create Racers for the 🐢 Race!\n",
        "\n",
        "Good job! Now we have almost everything we need to code up a function we will use to code up the turtle racing!\n",
        "\n",
        "Our Goal is to make a funciton that does this:\n",
        "\n",
        "<img src=\"https://cdn.githubraw.com/antndlcrx/oss_2024/main/images/turtles_start.png?raw=true:,  width=70\" alt=\"My Image\" width=700>\n",
        "\n",
        "Let us break it down into smaller steps:\n",
        "- make a loop iterating over a list of colors which will\n",
        "- create a turtle\n",
        "- assign them a color\n",
        "- place them at a desired starting position without drawing, equally spaced away from subsequent turtle\n",
        "- tern them left\n",
        "- prepare the turtle to draw\n",
        "- OPTIONAL: change turtle shape and speed\n",
        "- append the turtle to the turtles list\n",
        "\n",
        "\n",
        "\n"
      ],
      "metadata": {
        "id": "p9EHgVmFG8wF"
      }
    },
    {
      "cell_type": "markdown",
      "source": [
        "One thing we would need but have not covered is `.append()` method for `list` objects. It does what it says, namely appends an object to an existing list."
      ],
      "metadata": {
        "id": "XGSb92nKI2Jf"
      }
    },
    {
      "cell_type": "code",
      "source": [
        "empty_list = []\n",
        "x = 1 + 2\n",
        "empty_list.append(x)\n",
        "print(empty_list)"
      ],
      "metadata": {
        "colab": {
          "base_uri": "https://localhost:8080/"
        },
        "id": "65yh1-hgITdJ",
        "outputId": "e934becc-097d-41db-8adb-b60d3190db0d"
      },
      "execution_count": 32,
      "outputs": [
        {
          "output_type": "stream",
          "name": "stdout",
          "text": [
            "[3]\n"
          ]
        }
      ]
    },
    {
      "cell_type": "code",
      "source": [
        "empty_list = []\n",
        "x = 1\n",
        "for _ in range(3):\n",
        "    x += 2\n",
        "    empty_list.append(x)\n",
        "print(empty_list)"
      ],
      "metadata": {
        "colab": {
          "base_uri": "https://localhost:8080/"
        },
        "id": "BVMCqAoXJTQM",
        "outputId": "2037806c-bb5c-4ebb-dee6-c1d493756f0d"
      },
      "execution_count": 33,
      "outputs": [
        {
          "output_type": "stream",
          "name": "stdout",
          "text": [
            "[3, 5, 7]\n"
          ]
        }
      ]
    },
    {
      "cell_type": "markdown",
      "source": [
        "Next, we will use the `len()` built-in function to determine the lenght of a list (the function works with other objects as well)."
      ],
      "metadata": {
        "id": "CF7qiaV5PCN2"
      }
    },
    {
      "cell_type": "code",
      "source": [
        "len(empty_list)"
      ],
      "metadata": {
        "colab": {
          "base_uri": "https://localhost:8080/"
        },
        "id": "Oi7VzBbSPOnO",
        "outputId": "5a560170-2cea-404d-ea7d-9c2ea97ce4de"
      },
      "execution_count": 46,
      "outputs": [
        {
          "output_type": "execute_result",
          "data": {
            "text/plain": [
              "3"
            ]
          },
          "metadata": {},
          "execution_count": 46
        }
      ]
    },
    {
      "cell_type": "markdown",
      "source": [
        "We will use that to store turtles we create in a designated list. That way all 🐢 are stored in one place and are ordered, so we can perform operations on them in a controlled structured way (say, assign a particular color to a particular 🐢).\n",
        "\n",
        "Before we do that, lets get aquainted with the `enumerate()` built-in Python function.\n",
        "\n",
        "Using `enumerate()` provides a clean and readable way to access both the index and the value of each item in a list (or any iterable) directly within a loop, without having to manually manage the index.\n",
        "\n",
        "This is especially useful in scenarios where you need to use the index for operations like accessing elements from another list that corresponds to the current list (which is our case for mathcing colors with turtles), comparing positions, or when you're working with iterables where the index isn't inherently available (like sets or generators).\n"
      ],
      "metadata": {
        "id": "5UhQrp1jJhjx"
      }
    },
    {
      "cell_type": "code",
      "source": [
        "example_list = ['a', 'b', 'c']\n",
        "\n",
        "for index, item in enumerate(example_list): # the syntax we will use\n",
        "    print(f\"Index {index}: {item}\")"
      ],
      "metadata": {
        "colab": {
          "base_uri": "https://localhost:8080/"
        },
        "id": "ZFrHGB6IKCeU",
        "outputId": "ef595c15-7d8e-4fb9-c940-decf0dfdbb0b"
      },
      "execution_count": 35,
      "outputs": [
        {
          "output_type": "stream",
          "name": "stdout",
          "text": [
            "Index 0: a\n",
            "Index 1: b\n",
            "Index 2: c\n"
          ]
        }
      ]
    },
    {
      "cell_type": "code",
      "source": [
        "def create_turtles(colors: list):\n",
        "    racers = [] # empty list you will populate with turtles\n",
        "    spacingx =  # sets out the desired horizontal distance between turtles\n",
        "    # your code #\n",
        "    return racers"
      ],
      "metadata": {
        "id": "YAQbECvKHEVW"
      },
      "execution_count": 44,
      "outputs": []
    },
    {
      "cell_type": "code",
      "source": [
        "clearscreen()\n",
        "initializeTurtle((WIDTH, HEIGHT))\n",
        "\n",
        "colors = [] # your colors list ['color1', 'color2' ...]\n",
        "create_turtles(colors)"
      ],
      "metadata": {
        "colab": {
          "base_uri": "https://localhost:8080/"
        },
        "id": "Vzu09xxvODeV",
        "outputId": "2cfe2065-8a63-418b-8037-986fdf73e151"
      },
      "execution_count": 45,
      "outputs": [
        {
          "output_type": "execute_result",
          "data": {
            "text/plain": [
              "[]"
            ]
          },
          "metadata": {},
          "execution_count": 45
        }
      ]
    },
    {
      "cell_type": "markdown",
      "source": [
        ".\n",
        "\n",
        ".\n",
        "\n",
        ".\n",
        "\n",
        ".\n",
        "\n",
        ".\n",
        "\n",
        "\n",
        "\n",
        "----"
      ],
      "metadata": {
        "id": "qicdt9-6ja34"
      }
    },
    {
      "cell_type": "code",
      "source": [
        "#@title Solution\n",
        "clearscreen()\n",
        "initializeTurtle((WIDTH, HEIGHT))\n",
        "\n",
        "colors = ['red', 'blue', 'green']\n",
        "\n",
        "def create_turtles(colors: list):\n",
        "    racers = []\n",
        "    spacingx = WIDTH // (len(colors)+1)\n",
        "    for i, color in enumerate(colors):\n",
        "        racer = Turtle()\n",
        "        racer.color(color)\n",
        "        racer.shape('turtle2')\n",
        "        racer.left(90)\n",
        "        racer.penup()\n",
        "        racer.goto(-WIDTH//2 + (i+1)*spacingx,\n",
        "                   -HEIGHT//2+20)\n",
        "        racer.pendown()\n",
        "        racers.append(racer)\n",
        "    return racers\n",
        "\n",
        "\n",
        "create_turtles(colors)"
      ],
      "metadata": {
        "colab": {
          "base_uri": "https://localhost:8080/",
          "height": 574
        },
        "cellView": "form",
        "id": "Pmy1o4zwNk9Y",
        "outputId": "2d79958d-0b3a-4400-c5b6-91a5029bbec2"
      },
      "execution_count": 146,
      "outputs": [
        {
          "output_type": "display_data",
          "data": {
            "text/plain": [
              "<IPython.core.display.HTML object>"
            ],
            "text/html": [
              "\n",
              "      <svg width=\"500\" height=\"500\">  \n",
              "        <rect width=\"100%\" height=\"100%\" style=\"fill:white;stroke:;stroke-width:1\"/>\n",
              "        \n",
              "        \n",
              "        \n",
              "        \n",
              "        \n",
              "        <g id=\"turtle2\" visibility=\"visible\" transform=\"rotate(180,125.0,480.0) translate(125.0, 480.0)\">\n",
              "<polygon points=\"0,16 2,14 1,10 4,7 7,9 9,8 6,5 7,1 5,-3 8,-6 6,-8 4,-5 0,-7 -4,-5 -6,-8 -8,-6 -5,-3 -7,1 -6,5 -9,8 -7,9 -4,7 -1,10 -2,14\" transform=\"skewX(0) scale(1,1)\" style=\"stroke:red;stroke-width:1;fill:red\" />\n",
              "</g><g id=\"turtle2\" visibility=\"visible\" transform=\"rotate(180,250.0,480.0) translate(250.0, 480.0)\">\n",
              "<polygon points=\"0,16 2,14 1,10 4,7 7,9 9,8 6,5 7,1 5,-3 8,-6 6,-8 4,-5 0,-7 -4,-5 -6,-8 -8,-6 -5,-3 -7,1 -6,5 -9,8 -7,9 -4,7 -1,10 -2,14\" transform=\"skewX(0) scale(1,1)\" style=\"stroke:blue;stroke-width:1;fill:blue\" />\n",
              "</g><g id=\"turtle2\" visibility=\"visible\" transform=\"rotate(180.0,374.99999997267105,480.00000001010886) translate(374.99999997267105, 480.00000001010886)\">\n",
              "<polygon points=\"0,16 2,14 1,10 4,7 7,9 9,8 6,5 7,1 5,-3 8,-6 6,-8 4,-5 0,-7 -4,-5 -6,-8 -8,-6 -5,-3 -7,1 -6,5 -9,8 -7,9 -4,7 -1,10 -2,14\" transform=\"skewX(0) scale(1,1)\" style=\"stroke:green;stroke-width:1;fill:green\" />\n",
              "</g>\n",
              "      </svg>\n",
              "    "
            ]
          },
          "metadata": {}
        },
        {
          "output_type": "execute_result",
          "data": {
            "text/plain": [
              "[<ColabTurtlePlus.Turtle.Turtle at 0x7ae641fa5000>,\n",
              " <ColabTurtlePlus.Turtle.Turtle at 0x7ae641fa5300>,\n",
              " <ColabTurtlePlus.Turtle.Turtle at 0x7ae641c0efb0>]"
            ]
          },
          "metadata": {},
          "execution_count": 146
        }
      ]
    },
    {
      "cell_type": "markdown",
      "source": [
        "YAAAAAAAY!"
      ],
      "metadata": {
        "id": "n_k2YvBMTYgf"
      }
    },
    {
      "cell_type": "markdown",
      "source": [
        "## Challenge 5: Turtle Race\n",
        "\n",
        "Now we will write the code to make the turtles race with each other.\n",
        "\n",
        "More precisely, we need to:\n",
        "- figure out a way of simulating a rather sporadic turtle movement in which each turtle can pace up and or slow down\n",
        "- Then, we need to check if either of the turtles has crossed the finish line, which in our application will be the Y upper boundary,\n",
        "- and finally, return the signifier of the winning turtle (can be their index or, better color).\n",
        "\n",
        "This time, we will use the `while loop` and conditional statements `if else`."
      ],
      "metadata": {
        "id": "OtSPGIn8Tv4j"
      }
    },
    {
      "cell_type": "markdown",
      "source": [
        "## A Note on Conditional Statements\n",
        "\n",
        "Python conditional statements, commonly known as \"if statements,\" allow you to execute different blocks of code based on certain conditions.\n",
        "\n",
        "These conditions are evaluated to True or False, determining which code block gets executed. Conditional statements are foundational in making decisions and controlling the flow of a Python program.\n",
        "\n"
      ],
      "metadata": {
        "id": "4vZnD4ZnWSmz"
      }
    },
    {
      "cell_type": "code",
      "source": [
        "age = 18\n",
        "if age >= 18:\n",
        "    print(\"You are an adult.\")"
      ],
      "metadata": {
        "colab": {
          "base_uri": "https://localhost:8080/"
        },
        "id": "UXCzSqSAWx_f",
        "outputId": "b404b015-ad3a-4a7e-ea99-6bf4b2e215f6"
      },
      "execution_count": 53,
      "outputs": [
        {
          "output_type": "stream",
          "name": "stdout",
          "text": [
            "You are an adult.\n"
          ]
        }
      ]
    },
    {
      "cell_type": "code",
      "source": [
        "age = 16\n",
        "if age >= 18:\n",
        "    print(\"You are an adult.\")\n",
        "else:\n",
        "    print(\"You are a minor.\")"
      ],
      "metadata": {
        "colab": {
          "base_uri": "https://localhost:8080/"
        },
        "id": "uAP7jz84Wzyj",
        "outputId": "551a85d9-b545-4aca-a6f5-028e156640af"
      },
      "execution_count": 54,
      "outputs": [
        {
          "output_type": "stream",
          "name": "stdout",
          "text": [
            "You are a minor.\n"
          ]
        }
      ]
    },
    {
      "cell_type": "code",
      "source": [
        "score = 75\n",
        "if score >= 70:\n",
        "    print(\"Grade: Distinction\")\n",
        "elif score >= 60:\n",
        "    print(\"Grade: Merit\")\n",
        "elif score >= 50:\n",
        "    print(\"Grade: Pass\")\n",
        "else:\n",
        "    print(\"Failed\")"
      ],
      "metadata": {
        "colab": {
          "base_uri": "https://localhost:8080/"
        },
        "id": "h8jBRp2JW30Y",
        "outputId": "23635d5d-b6db-4465-f5a4-413a75af91d6"
      },
      "execution_count": 55,
      "outputs": [
        {
          "output_type": "stream",
          "name": "stdout",
          "text": [
            "Grade: Distinction\n"
          ]
        }
      ]
    },
    {
      "cell_type": "markdown",
      "source": [
        "## Another Note on While Loops\n",
        "\n",
        "Below is the exmple of the `while loop` in action. This here is a function we will use to allow users determine the number of racing turtles, rather then setting this number in stone.\n",
        "\n",
        "A `while loop` in Python is used to repeatedly execute a block of statements as long as a given condition is true. It's a control flow statement that allows code to be executed repeatedly based on the value of a boolean condition.\n",
        "\n",
        "The `while True:` loop *creates an infinite loop*. These loops run continuously until they are interrupted by a break statement or an external event (like a user closing the program). This pattern is useful when you want to keep a program running until a specific condition is met, which is exactly our case here.\n",
        "\n",
        "**Interruptions**\n",
        "There are a few ways to interrupt or exit a while loop:\n",
        "\n",
        "- `break` Statement: Immediately exits the loop, resuming execution at the first statement after the loop.\n",
        "- `return` Statement: If the loop is inside a function, a return statement can be used to exit the loop and the function, optionally returning a value.\n",
        "- `continue` Statement: Skips the rest of the code inside the loop for the current iteration and goes back to the condition check. If the condition is still true, the loop continues with the next iteration.\n",
        "- `Exceptions`: An error or an exception raised inside the loop can also cause it to exit. This is often handled with try and except blocks."
      ],
      "metadata": {
        "id": "_u2WHIn8XC8E"
      }
    },
    {
      "cell_type": "code",
      "source": [
        "def get_number_of_turtles():\n",
        "    '''\n",
        "    function determining number of turtles\n",
        "    gets in user typed input\n",
        "    converts it to int\n",
        "    checks if it is valid\n",
        "    returns the number of turtles\n",
        "    '''\n",
        "    turtles = 0  # initialise number of turtles with 0\n",
        "    while True:\n",
        "        turtles = input('Enter the number of racing turtles (2-10): ') # user inputs are always converted to str\n",
        "        if turtles.isdigit(): # .isdigit() is a str method that checks if the string in question signifies a digit\n",
        "            turtles = int(turtles) # converts the digit str into and int object\n",
        "        else:\n",
        "            print('Please input a numeric value!')\n",
        "            continue\n",
        "\n",
        "        if 2 <= turtles <=10:\n",
        "            return turtles\n",
        "        else:\n",
        "            print(f'{turtles} not in range [2-10]. Try again!')"
      ],
      "metadata": {
        "id": "R0bOYWTkVubR"
      },
      "execution_count": 63,
      "outputs": []
    },
    {
      "cell_type": "code",
      "source": [
        "get_number_of_turtles()"
      ],
      "metadata": {
        "colab": {
          "base_uri": "https://localhost:8080/"
        },
        "id": "eGiKss42YZYO",
        "outputId": "e4a6d38d-afd8-4cce-8a58-31cd53c3cf98"
      },
      "execution_count": 65,
      "outputs": [
        {
          "name": "stdout",
          "output_type": "stream",
          "text": [
            "Enter the number of racing turtles (2-10): 22\n",
            "22 not in range [2-10]. Try again!\n",
            "Enter the number of racing turtles (2-10): 2\n"
          ]
        },
        {
          "output_type": "execute_result",
          "data": {
            "text/plain": [
              "2"
            ]
          },
          "metadata": {},
          "execution_count": 65
        }
      ]
    },
    {
      "cell_type": "markdown",
      "source": [
        "## Implementing Turtle Race Function\n",
        "\n",
        "With the aquired knowledge, let us code up the race function.\n",
        "\n",
        "- using our `create_turtles` function, create initial turtles\n",
        "- create a while loop that moves turtles untill one of them reaches the upper bound of the screen\n",
        "- within the while loop, make a for loop iterating through every turtle\n",
        "- find a way to move turtles by a random (but bounded) amount of pixels upwards*\n",
        "- get the position coordinates (x,y) of each turtle at each step and store them in the designated variables\n",
        "- check if these coordiantes are equal to or exceed the upper boundary to determine a turtle winner\n",
        "- once one turtle reaches the boundary (our condition), return the turtle's color\n",
        "\n",
        "\n",
        "*Hint: use `randrage()` function from the `random` module.\n",
        "For more on `random`, see [documentation](https://docs.python.org/3/library/random.html)."
      ],
      "metadata": {
        "id": "kIADjdQAZtcl"
      }
    },
    {
      "cell_type": "code",
      "source": [
        "import random\n",
        "random.randrange(1,10) # choose a random item from a range (start, stop)"
      ],
      "metadata": {
        "colab": {
          "base_uri": "https://localhost:8080/"
        },
        "id": "pOJFioN6b_CL",
        "outputId": "3b84ef7d-e834-4355-8dc2-4e4dfc5cfa6e"
      },
      "execution_count": 136,
      "outputs": [
        {
          "output_type": "execute_result",
          "data": {
            "text/plain": [
              "9"
            ]
          },
          "metadata": {},
          "execution_count": 136
        }
      ]
    },
    {
      "cell_type": "code",
      "source": [
        "def race(colors: list):\n",
        "    '''\n",
        "    function that moves each turtle a random amount of distance,\n",
        "    checks their coordinates to determine if they crossed the upper boundary,\n",
        "    and returns the turtles color\n",
        "    '''\n",
        "    racers = create_turtles(colors)\n",
        "    # your code #"
      ],
      "metadata": {
        "id": "JvwStHmCTZ18"
      },
      "execution_count": null,
      "outputs": []
    },
    {
      "cell_type": "markdown",
      "source": [
        ".\n",
        "\n",
        ".\n",
        "\n",
        ".\n",
        "\n",
        ".\n",
        "\n",
        ".\n",
        "\n",
        "\n",
        "\n",
        "----"
      ],
      "metadata": {
        "id": "_K9-b7yqjmi8"
      }
    },
    {
      "cell_type": "code",
      "source": [
        "#@title Solution\n",
        "\n",
        "def race(colors: list):\n",
        "    '''\n",
        "    function that moves each turtle a random amount of distance,\n",
        "    checks their coordinates to determine if they crossed the upper boundary,\n",
        "    and returns the turtles color\n",
        "    '''\n",
        "    racers = create_turtles(colors)\n",
        "    positions = []\n",
        "    while True:\n",
        "        for racer in racers:\n",
        "            racer.speed(10) # this is animation drawing speed, not the moving speed!\n",
        "            move_by = random.randrange(1,20)\n",
        "            racer.forward(move_by)\n",
        "            x,y = racer.position()\n",
        "            if y >= HEIGHT // 2 - 10:\n",
        "                return racer.color()[0]"
      ],
      "metadata": {
        "cellView": "form",
        "id": "tdY3PehKckQ9"
      },
      "execution_count": 143,
      "outputs": []
    },
    {
      "cell_type": "code",
      "source": [
        "clearscreen()\n",
        "initializeTurtle((WIDTH, HEIGHT))\n",
        "\n",
        "\n",
        "race(colors)"
      ],
      "metadata": {
        "colab": {
          "base_uri": "https://localhost:8080/",
          "height": 540
        },
        "id": "qOznSPbOe8Z4",
        "outputId": "5ce1f1f8-ce97-4e9f-c722-feff17337c8c"
      },
      "execution_count": 147,
      "outputs": [
        {
          "output_type": "display_data",
          "data": {
            "text/plain": [
              "<IPython.core.display.HTML object>"
            ],
            "text/html": [
              "\n",
              "      <svg width=\"500\" height=\"500\">  \n",
              "        <rect width=\"100%\" height=\"100%\" style=\"fill:white;stroke:;stroke-width:1\"/>\n",
              "        \n",
              "        \n",
              "        <line x1=\"125.0\" y1=\"480.0\" x2=\"125.0\" y2=\"466.0\" stroke-linecap=\"round\" style=\"stroke:red;stroke-width:1\" /><line x1=\"125.0\" y1=\"466.0\" x2=\"125.0\" y2=\"465.0\" stroke-linecap=\"round\" style=\"stroke:red;stroke-width:1\" /><line x1=\"125.0\" y1=\"465.0\" x2=\"125.0\" y2=\"460.0\" stroke-linecap=\"round\" style=\"stroke:red;stroke-width:1\" /><line x1=\"125.0\" y1=\"460.0\" x2=\"125.0\" y2=\"442.0\" stroke-linecap=\"round\" style=\"stroke:red;stroke-width:1\" /><line x1=\"125.0\" y1=\"442.0\" x2=\"125.0\" y2=\"431.0\" stroke-linecap=\"round\" style=\"stroke:red;stroke-width:1\" /><line x1=\"125.0\" y1=\"431.0\" x2=\"125.0\" y2=\"419.0\" stroke-linecap=\"round\" style=\"stroke:red;stroke-width:1\" /><line x1=\"125.0\" y1=\"419.0\" x2=\"125.0\" y2=\"408.0\" stroke-linecap=\"round\" style=\"stroke:red;stroke-width:1\" /><line x1=\"125.0\" y1=\"408.0\" x2=\"125.0\" y2=\"400.0\" stroke-linecap=\"round\" style=\"stroke:red;stroke-width:1\" /><line x1=\"125.0\" y1=\"400.0\" x2=\"125.0\" y2=\"390.0\" stroke-linecap=\"round\" style=\"stroke:red;stroke-width:1\" /><line x1=\"125.0\" y1=\"390.0\" x2=\"125.0\" y2=\"376.0\" stroke-linecap=\"round\" style=\"stroke:red;stroke-width:1\" /><line x1=\"125.0\" y1=\"376.0\" x2=\"125.0\" y2=\"374.0\" stroke-linecap=\"round\" style=\"stroke:red;stroke-width:1\" /><line x1=\"125.0\" y1=\"374.0\" x2=\"125.0\" y2=\"356.0\" stroke-linecap=\"round\" style=\"stroke:red;stroke-width:1\" /><line x1=\"125.0\" y1=\"356.0\" x2=\"125.0\" y2=\"342.0\" stroke-linecap=\"round\" style=\"stroke:red;stroke-width:1\" /><line x1=\"125.0\" y1=\"342.0\" x2=\"125.0\" y2=\"323.0\" stroke-linecap=\"round\" style=\"stroke:red;stroke-width:1\" /><line x1=\"125.0\" y1=\"323.0\" x2=\"125.0\" y2=\"318.0\" stroke-linecap=\"round\" style=\"stroke:red;stroke-width:1\" /><line x1=\"125.0\" y1=\"318.0\" x2=\"125.0\" y2=\"316.0\" stroke-linecap=\"round\" style=\"stroke:red;stroke-width:1\" /><line x1=\"125.0\" y1=\"316.0\" x2=\"125.0\" y2=\"300.0\" stroke-linecap=\"round\" style=\"stroke:red;stroke-width:1\" /><line x1=\"125.0\" y1=\"300.0\" x2=\"125.0\" y2=\"283.0\" stroke-linecap=\"round\" style=\"stroke:red;stroke-width:1\" /><line x1=\"125.0\" y1=\"283.0\" x2=\"125.0\" y2=\"278.0\" stroke-linecap=\"round\" style=\"stroke:red;stroke-width:1\" /><line x1=\"125.0\" y1=\"278.0\" x2=\"125.0\" y2=\"277.0\" stroke-linecap=\"round\" style=\"stroke:red;stroke-width:1\" /><line x1=\"125.0\" y1=\"277.0\" x2=\"125.0\" y2=\"263.0\" stroke-linecap=\"round\" style=\"stroke:red;stroke-width:1\" /><line x1=\"125.0\" y1=\"263.0\" x2=\"125.0\" y2=\"262.0\" stroke-linecap=\"round\" style=\"stroke:red;stroke-width:1\" /><line x1=\"125.0\" y1=\"262.0\" x2=\"125.0\" y2=\"257.0\" stroke-linecap=\"round\" style=\"stroke:red;stroke-width:1\" /><line x1=\"125.0\" y1=\"257.0\" x2=\"125.0\" y2=\"241.0\" stroke-linecap=\"round\" style=\"stroke:red;stroke-width:1\" /><line x1=\"125.0\" y1=\"241.0\" x2=\"125.0\" y2=\"234.0\" stroke-linecap=\"round\" style=\"stroke:red;stroke-width:1\" /><line x1=\"125.0\" y1=\"234.0\" x2=\"125.0\" y2=\"233.0\" stroke-linecap=\"round\" style=\"stroke:red;stroke-width:1\" /><line x1=\"125.0\" y1=\"233.0\" x2=\"125.0\" y2=\"229.0\" stroke-linecap=\"round\" style=\"stroke:red;stroke-width:1\" /><line x1=\"125.0\" y1=\"229.0\" x2=\"125.0\" y2=\"212.0\" stroke-linecap=\"round\" style=\"stroke:red;stroke-width:1\" /><line x1=\"125.0\" y1=\"212.0\" x2=\"125.0\" y2=\"195.0\" stroke-linecap=\"round\" style=\"stroke:red;stroke-width:1\" /><line x1=\"125.0\" y1=\"195.0\" x2=\"125.0\" y2=\"181.0\" stroke-linecap=\"round\" style=\"stroke:red;stroke-width:1\" /><line x1=\"125.0\" y1=\"181.0\" x2=\"125.0\" y2=\"174.0\" stroke-linecap=\"round\" style=\"stroke:red;stroke-width:1\" /><line x1=\"125.0\" y1=\"174.0\" x2=\"125.0\" y2=\"159.0\" stroke-linecap=\"round\" style=\"stroke:red;stroke-width:1\" /><line x1=\"125.0\" y1=\"159.0\" x2=\"125.0\" y2=\"149.0\" stroke-linecap=\"round\" style=\"stroke:red;stroke-width:1\" /><line x1=\"125.0\" y1=\"149.0\" x2=\"125.0\" y2=\"141.0\" stroke-linecap=\"round\" style=\"stroke:red;stroke-width:1\" /><line x1=\"125.0\" y1=\"141.0\" x2=\"125.0\" y2=\"129.0\" stroke-linecap=\"round\" style=\"stroke:red;stroke-width:1\" /><line x1=\"125.0\" y1=\"129.0\" x2=\"125.0\" y2=\"127.0\" stroke-linecap=\"round\" style=\"stroke:red;stroke-width:1\" /><line x1=\"125.0\" y1=\"127.0\" x2=\"125.0\" y2=\"124.0\" stroke-linecap=\"round\" style=\"stroke:red;stroke-width:1\" /><line x1=\"125.0\" y1=\"124.0\" x2=\"125.0\" y2=\"119.0\" stroke-linecap=\"round\" style=\"stroke:red;stroke-width:1\" /><line x1=\"125.0\" y1=\"119.0\" x2=\"125.0\" y2=\"103.0\" stroke-linecap=\"round\" style=\"stroke:red;stroke-width:1\" /><line x1=\"125.0\" y1=\"103.0\" x2=\"125.0\" y2=\"94.0\" stroke-linecap=\"round\" style=\"stroke:red;stroke-width:1\" /><line x1=\"125.0\" y1=\"94.0\" x2=\"125.0\" y2=\"86.0\" stroke-linecap=\"round\" style=\"stroke:red;stroke-width:1\" /><line x1=\"125.0\" y1=\"86.0\" x2=\"125.0\" y2=\"68.0\" stroke-linecap=\"round\" style=\"stroke:red;stroke-width:1\" /><line x1=\"125.0\" y1=\"68.0\" x2=\"125.0\" y2=\"59.0\" stroke-linecap=\"round\" style=\"stroke:red;stroke-width:1\" /><line x1=\"125.0\" y1=\"59.0\" x2=\"125.0\" y2=\"50.0\" stroke-linecap=\"round\" style=\"stroke:red;stroke-width:1\" /><line x1=\"125.0\" y1=\"50.0\" x2=\"125.0\" y2=\"31.0\" stroke-linecap=\"round\" style=\"stroke:red;stroke-width:1\" /><line x1=\"125.0\" y1=\"31.0\" x2=\"125.0\" y2=\"20.0\" stroke-linecap=\"round\" style=\"stroke:red;stroke-width:1\" /><line x1=\"125.0\" y1=\"20.0\" x2=\"125.0\" y2=\"14.0\" stroke-linecap=\"round\" style=\"stroke:red;stroke-width:1\" /><line x1=\"125.0\" y1=\"14.0\" x2=\"125.0\" y2=\"4.0\" stroke-linecap=\"round\" style=\"stroke:red;stroke-width:1\" /><line x1=\"125.0\" y1=\"4.0\" x2=\"125.0\" y2=\"2.0\" stroke-linecap=\"round\" style=\"stroke:red;stroke-width:1\" /><line x1=\"250.0\" y1=\"480.0\" x2=\"250.0\" y2=\"475.0\" stroke-linecap=\"round\" style=\"stroke:blue;stroke-width:1\" /><line x1=\"250.0\" y1=\"475.0\" x2=\"250.0\" y2=\"474.0\" stroke-linecap=\"round\" style=\"stroke:blue;stroke-width:1\" /><line x1=\"250.0\" y1=\"474.0\" x2=\"250.0\" y2=\"465.0\" stroke-linecap=\"round\" style=\"stroke:blue;stroke-width:1\" /><line x1=\"250.0\" y1=\"465.0\" x2=\"250.0\" y2=\"459.0\" stroke-linecap=\"round\" style=\"stroke:blue;stroke-width:1\" /><line x1=\"250.0\" y1=\"459.0\" x2=\"250.0\" y2=\"449.0\" stroke-linecap=\"round\" style=\"stroke:blue;stroke-width:1\" /><line x1=\"250.0\" y1=\"449.0\" x2=\"250.0\" y2=\"444.0\" stroke-linecap=\"round\" style=\"stroke:blue;stroke-width:1\" /><line x1=\"250.0\" y1=\"444.0\" x2=\"250.0\" y2=\"430.0\" stroke-linecap=\"round\" style=\"stroke:blue;stroke-width:1\" /><line x1=\"250.0\" y1=\"430.0\" x2=\"250.0\" y2=\"426.0\" stroke-linecap=\"round\" style=\"stroke:blue;stroke-width:1\" /><line x1=\"250.0\" y1=\"426.0\" x2=\"250.0\" y2=\"415.0\" stroke-linecap=\"round\" style=\"stroke:blue;stroke-width:1\" /><line x1=\"250.0\" y1=\"415.0\" x2=\"250.0\" y2=\"398.0\" stroke-linecap=\"round\" style=\"stroke:blue;stroke-width:1\" /><line x1=\"250.0\" y1=\"398.0\" x2=\"250.0\" y2=\"397.0\" stroke-linecap=\"round\" style=\"stroke:blue;stroke-width:1\" /><line x1=\"250.0\" y1=\"397.0\" x2=\"250.0\" y2=\"379.0\" stroke-linecap=\"round\" style=\"stroke:blue;stroke-width:1\" /><line x1=\"250.0\" y1=\"379.0\" x2=\"250.0\" y2=\"361.0\" stroke-linecap=\"round\" style=\"stroke:blue;stroke-width:1\" /><line x1=\"250.0\" y1=\"361.0\" x2=\"250.0\" y2=\"359.0\" stroke-linecap=\"round\" style=\"stroke:blue;stroke-width:1\" /><line x1=\"250.0\" y1=\"359.0\" x2=\"250.0\" y2=\"350.0\" stroke-linecap=\"round\" style=\"stroke:blue;stroke-width:1\" /><line x1=\"250.0\" y1=\"350.0\" x2=\"250.0\" y2=\"339.0\" stroke-linecap=\"round\" style=\"stroke:blue;stroke-width:1\" /><line x1=\"250.0\" y1=\"339.0\" x2=\"250.0\" y2=\"323.0\" stroke-linecap=\"round\" style=\"stroke:blue;stroke-width:1\" /><line x1=\"250.0\" y1=\"323.0\" x2=\"250.0\" y2=\"305.0\" stroke-linecap=\"round\" style=\"stroke:blue;stroke-width:1\" /><line x1=\"250.0\" y1=\"305.0\" x2=\"250.0\" y2=\"286.0\" stroke-linecap=\"round\" style=\"stroke:blue;stroke-width:1\" /><line x1=\"250.0\" y1=\"286.0\" x2=\"250.0\" y2=\"274.0\" stroke-linecap=\"round\" style=\"stroke:blue;stroke-width:1\" /><line x1=\"250.0\" y1=\"274.0\" x2=\"250.0\" y2=\"268.0\" stroke-linecap=\"round\" style=\"stroke:blue;stroke-width:1\" /><line x1=\"250.0\" y1=\"268.0\" x2=\"250.0\" y2=\"265.0\" stroke-linecap=\"round\" style=\"stroke:blue;stroke-width:1\" /><line x1=\"250.0\" y1=\"265.0\" x2=\"250.0\" y2=\"253.0\" stroke-linecap=\"round\" style=\"stroke:blue;stroke-width:1\" /><line x1=\"250.0\" y1=\"253.0\" x2=\"250.0\" y2=\"241.0\" stroke-linecap=\"round\" style=\"stroke:blue;stroke-width:1\" /><line x1=\"250.0\" y1=\"241.0\" x2=\"250.0\" y2=\"235.0\" stroke-linecap=\"round\" style=\"stroke:blue;stroke-width:1\" /><line x1=\"250.0\" y1=\"235.0\" x2=\"250.0\" y2=\"228.0\" stroke-linecap=\"round\" style=\"stroke:blue;stroke-width:1\" /><line x1=\"250.0\" y1=\"228.0\" x2=\"250.0\" y2=\"224.0\" stroke-linecap=\"round\" style=\"stroke:blue;stroke-width:1\" /><line x1=\"250.0\" y1=\"224.0\" x2=\"250.0\" y2=\"211.0\" stroke-linecap=\"round\" style=\"stroke:blue;stroke-width:1\" /><line x1=\"250.0\" y1=\"211.0\" x2=\"250.0\" y2=\"208.0\" stroke-linecap=\"round\" style=\"stroke:blue;stroke-width:1\" /><line x1=\"250.0\" y1=\"208.0\" x2=\"250.0\" y2=\"193.0\" stroke-linecap=\"round\" style=\"stroke:blue;stroke-width:1\" /><line x1=\"250.0\" y1=\"193.0\" x2=\"250.0\" y2=\"184.0\" stroke-linecap=\"round\" style=\"stroke:blue;stroke-width:1\" /><line x1=\"250.0\" y1=\"184.0\" x2=\"250.0\" y2=\"180.0\" stroke-linecap=\"round\" style=\"stroke:blue;stroke-width:1\" /><line x1=\"250.0\" y1=\"180.0\" x2=\"250.0\" y2=\"174.0\" stroke-linecap=\"round\" style=\"stroke:blue;stroke-width:1\" /><line x1=\"250.0\" y1=\"174.0\" x2=\"250.0\" y2=\"173.0\" stroke-linecap=\"round\" style=\"stroke:blue;stroke-width:1\" /><line x1=\"250.0\" y1=\"173.0\" x2=\"250.0\" y2=\"172.0\" stroke-linecap=\"round\" style=\"stroke:blue;stroke-width:1\" /><line x1=\"250.0\" y1=\"172.0\" x2=\"250.0\" y2=\"164.0\" stroke-linecap=\"round\" style=\"stroke:blue;stroke-width:1\" /><line x1=\"250.0\" y1=\"164.0\" x2=\"250.0\" y2=\"152.0\" stroke-linecap=\"round\" style=\"stroke:blue;stroke-width:1\" /><line x1=\"250.0\" y1=\"152.0\" x2=\"250.0\" y2=\"135.0\" stroke-linecap=\"round\" style=\"stroke:blue;stroke-width:1\" /><line x1=\"250.0\" y1=\"135.0\" x2=\"250.0\" y2=\"118.0\" stroke-linecap=\"round\" style=\"stroke:blue;stroke-width:1\" /><line x1=\"250.0\" y1=\"118.0\" x2=\"250.0\" y2=\"100.0\" stroke-linecap=\"round\" style=\"stroke:blue;stroke-width:1\" /><line x1=\"250.0\" y1=\"100.0\" x2=\"250.0\" y2=\"96.0\" stroke-linecap=\"round\" style=\"stroke:blue;stroke-width:1\" /><line x1=\"250.0\" y1=\"96.0\" x2=\"250.0\" y2=\"88.0\" stroke-linecap=\"round\" style=\"stroke:blue;stroke-width:1\" /><line x1=\"250.0\" y1=\"88.0\" x2=\"250.0\" y2=\"86.0\" stroke-linecap=\"round\" style=\"stroke:blue;stroke-width:1\" /><line x1=\"250.0\" y1=\"86.0\" x2=\"250.0\" y2=\"68.0\" stroke-linecap=\"round\" style=\"stroke:blue;stroke-width:1\" /><line x1=\"250.0\" y1=\"68.0\" x2=\"250.0\" y2=\"60.0\" stroke-linecap=\"round\" style=\"stroke:blue;stroke-width:1\" /><line x1=\"250.0\" y1=\"60.0\" x2=\"250.0\" y2=\"55.0\" stroke-linecap=\"round\" style=\"stroke:blue;stroke-width:1\" /><line x1=\"250.0\" y1=\"55.0\" x2=\"250.0\" y2=\"39.0\" stroke-linecap=\"round\" style=\"stroke:blue;stroke-width:1\" /><line x1=\"375.0\" y1=\"480.0\" x2=\"375.0\" y2=\"471.0\" stroke-linecap=\"round\" style=\"stroke:green;stroke-width:1\" /><line x1=\"375.0\" y1=\"471.0\" x2=\"375.0\" y2=\"469.0\" stroke-linecap=\"round\" style=\"stroke:green;stroke-width:1\" /><line x1=\"375.0\" y1=\"469.0\" x2=\"375.0\" y2=\"455.0\" stroke-linecap=\"round\" style=\"stroke:green;stroke-width:1\" /><line x1=\"375.0\" y1=\"455.0\" x2=\"375.0\" y2=\"452.0\" stroke-linecap=\"round\" style=\"stroke:green;stroke-width:1\" /><line x1=\"375.0\" y1=\"452.0\" x2=\"375.0\" y2=\"437.0\" stroke-linecap=\"round\" style=\"stroke:green;stroke-width:1\" /><line x1=\"375.0\" y1=\"437.0\" x2=\"375.0\" y2=\"420.0\" stroke-linecap=\"round\" style=\"stroke:green;stroke-width:1\" /><line x1=\"375.0\" y1=\"420.0\" x2=\"375.0\" y2=\"418.0\" stroke-linecap=\"round\" style=\"stroke:green;stroke-width:1\" /><line x1=\"375.0\" y1=\"418.0\" x2=\"375.0\" y2=\"415.0\" stroke-linecap=\"round\" style=\"stroke:green;stroke-width:1\" /><line x1=\"375.0\" y1=\"415.0\" x2=\"375.0\" y2=\"398.0\" stroke-linecap=\"round\" style=\"stroke:green;stroke-width:1\" /><line x1=\"375.0\" y1=\"398.0\" x2=\"375.0\" y2=\"388.0\" stroke-linecap=\"round\" style=\"stroke:green;stroke-width:1\" /><line x1=\"375.0\" y1=\"388.0\" x2=\"375.0\" y2=\"377.0\" stroke-linecap=\"round\" style=\"stroke:green;stroke-width:1\" /><line x1=\"375.0\" y1=\"377.0\" x2=\"375.0\" y2=\"368.0\" stroke-linecap=\"round\" style=\"stroke:green;stroke-width:1\" /><line x1=\"375.0\" y1=\"368.0\" x2=\"375.0\" y2=\"364.0\" stroke-linecap=\"round\" style=\"stroke:green;stroke-width:1\" /><line x1=\"375.0\" y1=\"364.0\" x2=\"375.0\" y2=\"345.0\" stroke-linecap=\"round\" style=\"stroke:green;stroke-width:1\" /><line x1=\"375.0\" y1=\"345.0\" x2=\"375.0\" y2=\"340.0\" stroke-linecap=\"round\" style=\"stroke:green;stroke-width:1\" /><line x1=\"375.0\" y1=\"340.0\" x2=\"375.0\" y2=\"334.0\" stroke-linecap=\"round\" style=\"stroke:green;stroke-width:1\" /><line x1=\"375.0\" y1=\"334.0\" x2=\"375.0\" y2=\"332.0\" stroke-linecap=\"round\" style=\"stroke:green;stroke-width:1\" /><line x1=\"375.0\" y1=\"332.0\" x2=\"375.0\" y2=\"324.0\" stroke-linecap=\"round\" style=\"stroke:green;stroke-width:1\" /><line x1=\"375.0\" y1=\"324.0\" x2=\"375.0\" y2=\"321.0\" stroke-linecap=\"round\" style=\"stroke:green;stroke-width:1\" /><line x1=\"375.0\" y1=\"321.0\" x2=\"375.0\" y2=\"317.0\" stroke-linecap=\"round\" style=\"stroke:green;stroke-width:1\" /><line x1=\"375.0\" y1=\"317.0\" x2=\"375.0\" y2=\"309.0\" stroke-linecap=\"round\" style=\"stroke:green;stroke-width:1\" /><line x1=\"375.0\" y1=\"309.0\" x2=\"375.0\" y2=\"296.0\" stroke-linecap=\"round\" style=\"stroke:green;stroke-width:1\" /><line x1=\"375.0\" y1=\"296.0\" x2=\"375.0\" y2=\"277.0\" stroke-linecap=\"round\" style=\"stroke:green;stroke-width:1\" /><line x1=\"375.0\" y1=\"277.0\" x2=\"375.0\" y2=\"271.0\" stroke-linecap=\"round\" style=\"stroke:green;stroke-width:1\" /><line x1=\"375.0\" y1=\"271.0\" x2=\"375.0\" y2=\"270.0\" stroke-linecap=\"round\" style=\"stroke:green;stroke-width:1\" /><line x1=\"375.0\" y1=\"270.0\" x2=\"375.0\" y2=\"264.0\" stroke-linecap=\"round\" style=\"stroke:green;stroke-width:1\" /><line x1=\"375.0\" y1=\"264.0\" x2=\"375.0\" y2=\"246.0\" stroke-linecap=\"round\" style=\"stroke:green;stroke-width:1\" /><line x1=\"375.0\" y1=\"246.0\" x2=\"375.0\" y2=\"228.0\" stroke-linecap=\"round\" style=\"stroke:green;stroke-width:1\" /><line x1=\"375.0\" y1=\"228.0\" x2=\"375.0\" y2=\"226.0\" stroke-linecap=\"round\" style=\"stroke:green;stroke-width:1\" /><line x1=\"375.0\" y1=\"226.0\" x2=\"375.0\" y2=\"220.0\" stroke-linecap=\"round\" style=\"stroke:green;stroke-width:1\" /><line x1=\"375.0\" y1=\"220.0\" x2=\"375.0\" y2=\"215.0\" stroke-linecap=\"round\" style=\"stroke:green;stroke-width:1\" /><line x1=\"375.0\" y1=\"215.0\" x2=\"375.0\" y2=\"213.0\" stroke-linecap=\"round\" style=\"stroke:green;stroke-width:1\" /><line x1=\"375.0\" y1=\"213.0\" x2=\"375.0\" y2=\"205.0\" stroke-linecap=\"round\" style=\"stroke:green;stroke-width:1\" /><line x1=\"375.0\" y1=\"205.0\" x2=\"375.0\" y2=\"193.0\" stroke-linecap=\"round\" style=\"stroke:green;stroke-width:1\" /><line x1=\"375.0\" y1=\"193.0\" x2=\"375.0\" y2=\"186.0\" stroke-linecap=\"round\" style=\"stroke:green;stroke-width:1\" /><line x1=\"375.0\" y1=\"186.0\" x2=\"375.0\" y2=\"179.0\" stroke-linecap=\"round\" style=\"stroke:green;stroke-width:1\" /><line x1=\"375.0\" y1=\"179.0\" x2=\"375.0\" y2=\"178.0\" stroke-linecap=\"round\" style=\"stroke:green;stroke-width:1\" /><line x1=\"375.0\" y1=\"178.0\" x2=\"375.0\" y2=\"164.0\" stroke-linecap=\"round\" style=\"stroke:green;stroke-width:1\" /><line x1=\"375.0\" y1=\"164.0\" x2=\"375.0\" y2=\"145.0\" stroke-linecap=\"round\" style=\"stroke:green;stroke-width:1\" /><line x1=\"375.0\" y1=\"145.0\" x2=\"375.0\" y2=\"132.0\" stroke-linecap=\"round\" style=\"stroke:green;stroke-width:1\" /><line x1=\"375.0\" y1=\"132.0\" x2=\"375.0\" y2=\"123.0\" stroke-linecap=\"round\" style=\"stroke:green;stroke-width:1\" /><line x1=\"375.0\" y1=\"123.0\" x2=\"375.0\" y2=\"110.0\" stroke-linecap=\"round\" style=\"stroke:green;stroke-width:1\" /><line x1=\"375.0\" y1=\"110.0\" x2=\"375.0\" y2=\"104.0\" stroke-linecap=\"round\" style=\"stroke:green;stroke-width:1\" /><line x1=\"375.0\" y1=\"104.0\" x2=\"375.0\" y2=\"94.0\" stroke-linecap=\"round\" style=\"stroke:green;stroke-width:1\" /><line x1=\"375.0\" y1=\"94.0\" x2=\"375.0\" y2=\"76.0\" stroke-linecap=\"round\" style=\"stroke:green;stroke-width:1\" /><line x1=\"375.0\" y1=\"76.0\" x2=\"375.0\" y2=\"67.0\" stroke-linecap=\"round\" style=\"stroke:green;stroke-width:1\" /><line x1=\"375.0\" y1=\"67.0\" x2=\"375.0\" y2=\"52.0\" stroke-linecap=\"round\" style=\"stroke:green;stroke-width:1\" />\n",
              "        \n",
              "        \n",
              "        <g id=\"turtle2\" visibility=\"visible\" transform=\"rotate(180,125.0,2.0) translate(125.0, 2.0)\">\n",
              "<polygon points=\"0,16 2,14 1,10 4,7 7,9 9,8 6,5 7,1 5,-3 8,-6 6,-8 4,-5 0,-7 -4,-5 -6,-8 -8,-6 -5,-3 -7,1 -6,5 -9,8 -7,9 -4,7 -1,10 -2,14\" transform=\"skewX(0) scale(1,1)\" style=\"stroke:red;stroke-width:1;fill:red\" />\n",
              "</g><g id=\"turtle2\" visibility=\"visible\" transform=\"rotate(180,250.0,39.0) translate(250.0, 39.0)\">\n",
              "<polygon points=\"0,16 2,14 1,10 4,7 7,9 9,8 6,5 7,1 5,-3 8,-6 6,-8 4,-5 0,-7 -4,-5 -6,-8 -8,-6 -5,-3 -7,1 -6,5 -9,8 -7,9 -4,7 -1,10 -2,14\" transform=\"skewX(0) scale(1,1)\" style=\"stroke:blue;stroke-width:1;fill:blue\" />\n",
              "</g><g id=\"turtle2\" visibility=\"visible\" transform=\"rotate(180,375.0,52.0) translate(375.0, 52.0)\">\n",
              "<polygon points=\"0,16 2,14 1,10 4,7 7,9 9,8 6,5 7,1 5,-3 8,-6 6,-8 4,-5 0,-7 -4,-5 -6,-8 -8,-6 -5,-3 -7,1 -6,5 -9,8 -7,9 -4,7 -1,10 -2,14\" transform=\"skewX(0) scale(1,1)\" style=\"stroke:green;stroke-width:1;fill:green\" />\n",
              "</g>\n",
              "      </svg>\n",
              "    "
            ]
          },
          "metadata": {}
        },
        {
          "output_type": "execute_result",
          "data": {
            "text/plain": [
              "'red'"
            ],
            "application/vnd.google.colaboratory.intrinsic+json": {
              "type": "string"
            }
          },
          "metadata": {},
          "execution_count": 147
        }
      ]
    },
    {
      "cell_type": "markdown",
      "source": [
        "## Putting Everyting Together\n",
        "\n",
        "Now, after few minor adjustments, we can put all functions together into a Turtle Race script.\n",
        "\n",
        "First, we will create a `constant` list of colors, now designated with all upercase letters (as convention). Then, we use the `.shuffle` method from our now familiar `random` module."
      ],
      "metadata": {
        "id": "0ToCykMGfeQi"
      }
    },
    {
      "cell_type": "code",
      "source": [
        "COLORS = ['green', 'blue', 'orange', 'yellow', 'red', 'pink', 'black', 'cyan','brown', 'purple']\n",
        "random.shuffle(COLORS)\n",
        "COLORS"
      ],
      "metadata": {
        "colab": {
          "base_uri": "https://localhost:8080/"
        },
        "id": "DlEsGBx0h7rI",
        "outputId": "34bb745e-1955-4a16-8be7-e3f3f71cd272"
      },
      "execution_count": 151,
      "outputs": [
        {
          "output_type": "execute_result",
          "data": {
            "text/plain": [
              "['purple',\n",
              " 'red',\n",
              " 'brown',\n",
              " 'yellow',\n",
              " 'pink',\n",
              " 'orange',\n",
              " 'green',\n",
              " 'blue',\n",
              " 'cyan',\n",
              " 'black']"
            ]
          },
          "metadata": {},
          "execution_count": 151
        }
      ]
    },
    {
      "cell_type": "code",
      "source": [
        "clearscreen()\n",
        "\n",
        "COLORS = ['green', 'blue', 'orange', 'yellow', 'red', 'pink', 'black', 'cyan','brown', 'purple']\n",
        "\n",
        "number_of_turtles = get_number_of_turtles()\n",
        "initializeTurtle((WIDTH, HEIGHT))\n",
        "\n",
        "\n",
        "random.shuffle(COLORS)\n",
        "colors = COLORS[:number_of_turtles] # only get n colors that correspond to len of turtles\n",
        "\n",
        "winner = race(colors)\n",
        "print(f'{winner.capitalize()} turtle is the winner 🎉🎉🎉')"
      ],
      "metadata": {
        "colab": {
          "base_uri": "https://localhost:8080/",
          "height": 556
        },
        "id": "RLBbKvALfkBW",
        "outputId": "773457f2-0972-466d-8a06-d51c705444a0"
      },
      "execution_count": 155,
      "outputs": [
        {
          "name": "stdout",
          "output_type": "stream",
          "text": [
            "Enter the number of racing turtles (2-10): 6\n"
          ]
        },
        {
          "output_type": "display_data",
          "data": {
            "text/plain": [
              "<IPython.core.display.HTML object>"
            ],
            "text/html": [
              "\n",
              "      <svg width=\"500\" height=\"500\">  \n",
              "        <rect width=\"100%\" height=\"100%\" style=\"fill:white;stroke:;stroke-width:1\"/>\n",
              "        \n",
              "        \n",
              "        <line x1=\"71.0\" y1=\"480.0\" x2=\"71.0\" y2=\"475.0\" stroke-linecap=\"round\" style=\"stroke:yellow;stroke-width:1\" /><line x1=\"71.0\" y1=\"475.0\" x2=\"71.0\" y2=\"463.0\" stroke-linecap=\"round\" style=\"stroke:yellow;stroke-width:1\" /><line x1=\"71.0\" y1=\"463.0\" x2=\"71.0\" y2=\"454.0\" stroke-linecap=\"round\" style=\"stroke:yellow;stroke-width:1\" /><line x1=\"71.0\" y1=\"454.0\" x2=\"71.0\" y2=\"449.0\" stroke-linecap=\"round\" style=\"stroke:yellow;stroke-width:1\" /><line x1=\"71.0\" y1=\"449.0\" x2=\"71.0\" y2=\"441.0\" stroke-linecap=\"round\" style=\"stroke:yellow;stroke-width:1\" /><line x1=\"71.0\" y1=\"441.0\" x2=\"71.0\" y2=\"426.0\" stroke-linecap=\"round\" style=\"stroke:yellow;stroke-width:1\" /><line x1=\"71.0\" y1=\"426.0\" x2=\"71.0\" y2=\"422.0\" stroke-linecap=\"round\" style=\"stroke:yellow;stroke-width:1\" /><line x1=\"71.0\" y1=\"422.0\" x2=\"71.0\" y2=\"406.0\" stroke-linecap=\"round\" style=\"stroke:yellow;stroke-width:1\" /><line x1=\"71.0\" y1=\"406.0\" x2=\"71.0\" y2=\"388.0\" stroke-linecap=\"round\" style=\"stroke:yellow;stroke-width:1\" /><line x1=\"71.0\" y1=\"388.0\" x2=\"71.0\" y2=\"380.0\" stroke-linecap=\"round\" style=\"stroke:yellow;stroke-width:1\" /><line x1=\"71.0\" y1=\"380.0\" x2=\"71.0\" y2=\"373.0\" stroke-linecap=\"round\" style=\"stroke:yellow;stroke-width:1\" /><line x1=\"71.0\" y1=\"373.0\" x2=\"71.0\" y2=\"369.0\" stroke-linecap=\"round\" style=\"stroke:yellow;stroke-width:1\" /><line x1=\"71.0\" y1=\"369.0\" x2=\"71.0\" y2=\"365.0\" stroke-linecap=\"round\" style=\"stroke:yellow;stroke-width:1\" /><line x1=\"71.0\" y1=\"365.0\" x2=\"71.0\" y2=\"363.0\" stroke-linecap=\"round\" style=\"stroke:yellow;stroke-width:1\" /><line x1=\"71.0\" y1=\"363.0\" x2=\"71.0\" y2=\"360.0\" stroke-linecap=\"round\" style=\"stroke:yellow;stroke-width:1\" /><line x1=\"71.0\" y1=\"360.0\" x2=\"71.0\" y2=\"359.0\" stroke-linecap=\"round\" style=\"stroke:yellow;stroke-width:1\" /><line x1=\"71.0\" y1=\"359.0\" x2=\"71.0\" y2=\"355.0\" stroke-linecap=\"round\" style=\"stroke:yellow;stroke-width:1\" /><line x1=\"71.0\" y1=\"355.0\" x2=\"71.0\" y2=\"354.0\" stroke-linecap=\"round\" style=\"stroke:yellow;stroke-width:1\" /><line x1=\"71.0\" y1=\"354.0\" x2=\"71.0\" y2=\"350.0\" stroke-linecap=\"round\" style=\"stroke:yellow;stroke-width:1\" /><line x1=\"71.0\" y1=\"350.0\" x2=\"71.0\" y2=\"331.0\" stroke-linecap=\"round\" style=\"stroke:yellow;stroke-width:1\" /><line x1=\"71.0\" y1=\"331.0\" x2=\"71.0\" y2=\"313.0\" stroke-linecap=\"round\" style=\"stroke:yellow;stroke-width:1\" /><line x1=\"71.0\" y1=\"313.0\" x2=\"71.0\" y2=\"294.0\" stroke-linecap=\"round\" style=\"stroke:yellow;stroke-width:1\" /><line x1=\"71.0\" y1=\"294.0\" x2=\"71.0\" y2=\"275.0\" stroke-linecap=\"round\" style=\"stroke:yellow;stroke-width:1\" /><line x1=\"71.0\" y1=\"275.0\" x2=\"71.0\" y2=\"258.0\" stroke-linecap=\"round\" style=\"stroke:yellow;stroke-width:1\" /><line x1=\"71.0\" y1=\"258.0\" x2=\"71.0\" y2=\"249.0\" stroke-linecap=\"round\" style=\"stroke:yellow;stroke-width:1\" /><line x1=\"71.0\" y1=\"249.0\" x2=\"71.0\" y2=\"247.0\" stroke-linecap=\"round\" style=\"stroke:yellow;stroke-width:1\" /><line x1=\"71.0\" y1=\"247.0\" x2=\"71.0\" y2=\"233.0\" stroke-linecap=\"round\" style=\"stroke:yellow;stroke-width:1\" /><line x1=\"71.0\" y1=\"233.0\" x2=\"71.0\" y2=\"215.0\" stroke-linecap=\"round\" style=\"stroke:yellow;stroke-width:1\" /><line x1=\"71.0\" y1=\"215.0\" x2=\"71.0\" y2=\"208.0\" stroke-linecap=\"round\" style=\"stroke:yellow;stroke-width:1\" /><line x1=\"71.0\" y1=\"208.0\" x2=\"71.0\" y2=\"199.0\" stroke-linecap=\"round\" style=\"stroke:yellow;stroke-width:1\" /><line x1=\"71.0\" y1=\"199.0\" x2=\"71.0\" y2=\"190.0\" stroke-linecap=\"round\" style=\"stroke:yellow;stroke-width:1\" /><line x1=\"71.0\" y1=\"190.0\" x2=\"71.0\" y2=\"172.0\" stroke-linecap=\"round\" style=\"stroke:yellow;stroke-width:1\" /><line x1=\"71.0\" y1=\"172.0\" x2=\"71.0\" y2=\"160.0\" stroke-linecap=\"round\" style=\"stroke:yellow;stroke-width:1\" /><line x1=\"71.0\" y1=\"160.0\" x2=\"71.0\" y2=\"158.0\" stroke-linecap=\"round\" style=\"stroke:yellow;stroke-width:1\" /><line x1=\"71.0\" y1=\"158.0\" x2=\"71.0\" y2=\"148.0\" stroke-linecap=\"round\" style=\"stroke:yellow;stroke-width:1\" /><line x1=\"71.0\" y1=\"148.0\" x2=\"71.0\" y2=\"145.0\" stroke-linecap=\"round\" style=\"stroke:yellow;stroke-width:1\" /><line x1=\"71.0\" y1=\"145.0\" x2=\"71.0\" y2=\"134.0\" stroke-linecap=\"round\" style=\"stroke:yellow;stroke-width:1\" /><line x1=\"71.0\" y1=\"134.0\" x2=\"71.0\" y2=\"117.0\" stroke-linecap=\"round\" style=\"stroke:yellow;stroke-width:1\" /><line x1=\"71.0\" y1=\"117.0\" x2=\"71.0\" y2=\"104.0\" stroke-linecap=\"round\" style=\"stroke:yellow;stroke-width:1\" /><line x1=\"71.0\" y1=\"104.0\" x2=\"71.0\" y2=\"90.0\" stroke-linecap=\"round\" style=\"stroke:yellow;stroke-width:1\" /><line x1=\"71.0\" y1=\"90.0\" x2=\"71.0\" y2=\"77.0\" stroke-linecap=\"round\" style=\"stroke:yellow;stroke-width:1\" /><line x1=\"71.0\" y1=\"77.0\" x2=\"71.0\" y2=\"67.0\" stroke-linecap=\"round\" style=\"stroke:yellow;stroke-width:1\" /><line x1=\"71.0\" y1=\"67.0\" x2=\"71.0\" y2=\"59.0\" stroke-linecap=\"round\" style=\"stroke:yellow;stroke-width:1\" /><line x1=\"71.0\" y1=\"59.0\" x2=\"71.0\" y2=\"47.0\" stroke-linecap=\"round\" style=\"stroke:yellow;stroke-width:1\" /><line x1=\"142.0\" y1=\"480.0\" x2=\"142.0\" y2=\"467.0\" stroke-linecap=\"round\" style=\"stroke:red;stroke-width:1\" /><line x1=\"142.0\" y1=\"467.0\" x2=\"142.0\" y2=\"448.0\" stroke-linecap=\"round\" style=\"stroke:red;stroke-width:1\" /><line x1=\"142.0\" y1=\"448.0\" x2=\"142.0\" y2=\"444.0\" stroke-linecap=\"round\" style=\"stroke:red;stroke-width:1\" /><line x1=\"142.0\" y1=\"444.0\" x2=\"142.0\" y2=\"438.0\" stroke-linecap=\"round\" style=\"stroke:red;stroke-width:1\" /><line x1=\"142.0\" y1=\"438.0\" x2=\"142.0\" y2=\"429.0\" stroke-linecap=\"round\" style=\"stroke:red;stroke-width:1\" /><line x1=\"142.0\" y1=\"429.0\" x2=\"142.0\" y2=\"419.0\" stroke-linecap=\"round\" style=\"stroke:red;stroke-width:1\" /><line x1=\"142.0\" y1=\"419.0\" x2=\"142.0\" y2=\"411.0\" stroke-linecap=\"round\" style=\"stroke:red;stroke-width:1\" /><line x1=\"142.0\" y1=\"411.0\" x2=\"142.0\" y2=\"410.0\" stroke-linecap=\"round\" style=\"stroke:red;stroke-width:1\" /><line x1=\"142.0\" y1=\"410.0\" x2=\"142.0\" y2=\"401.0\" stroke-linecap=\"round\" style=\"stroke:red;stroke-width:1\" /><line x1=\"142.0\" y1=\"401.0\" x2=\"142.0\" y2=\"400.0\" stroke-linecap=\"round\" style=\"stroke:red;stroke-width:1\" /><line x1=\"142.0\" y1=\"400.0\" x2=\"142.0\" y2=\"389.0\" stroke-linecap=\"round\" style=\"stroke:red;stroke-width:1\" /><line x1=\"142.0\" y1=\"389.0\" x2=\"142.0\" y2=\"376.0\" stroke-linecap=\"round\" style=\"stroke:red;stroke-width:1\" /><line x1=\"142.0\" y1=\"376.0\" x2=\"142.0\" y2=\"359.0\" stroke-linecap=\"round\" style=\"stroke:red;stroke-width:1\" /><line x1=\"142.0\" y1=\"359.0\" x2=\"142.0\" y2=\"343.0\" stroke-linecap=\"round\" style=\"stroke:red;stroke-width:1\" /><line x1=\"142.0\" y1=\"343.0\" x2=\"142.0\" y2=\"326.0\" stroke-linecap=\"round\" style=\"stroke:red;stroke-width:1\" /><line x1=\"142.0\" y1=\"326.0\" x2=\"142.0\" y2=\"311.0\" stroke-linecap=\"round\" style=\"stroke:red;stroke-width:1\" /><line x1=\"142.0\" y1=\"311.0\" x2=\"142.0\" y2=\"300.0\" stroke-linecap=\"round\" style=\"stroke:red;stroke-width:1\" /><line x1=\"142.0\" y1=\"300.0\" x2=\"142.0\" y2=\"299.0\" stroke-linecap=\"round\" style=\"stroke:red;stroke-width:1\" /><line x1=\"142.0\" y1=\"299.0\" x2=\"142.0\" y2=\"296.0\" stroke-linecap=\"round\" style=\"stroke:red;stroke-width:1\" /><line x1=\"142.0\" y1=\"296.0\" x2=\"142.0\" y2=\"293.0\" stroke-linecap=\"round\" style=\"stroke:red;stroke-width:1\" /><line x1=\"142.0\" y1=\"293.0\" x2=\"142.0\" y2=\"289.0\" stroke-linecap=\"round\" style=\"stroke:red;stroke-width:1\" /><line x1=\"142.0\" y1=\"289.0\" x2=\"142.0\" y2=\"288.0\" stroke-linecap=\"round\" style=\"stroke:red;stroke-width:1\" /><line x1=\"142.0\" y1=\"288.0\" x2=\"142.0\" y2=\"272.0\" stroke-linecap=\"round\" style=\"stroke:red;stroke-width:1\" /><line x1=\"142.0\" y1=\"272.0\" x2=\"142.0\" y2=\"263.0\" stroke-linecap=\"round\" style=\"stroke:red;stroke-width:1\" /><line x1=\"142.0\" y1=\"263.0\" x2=\"142.0\" y2=\"250.0\" stroke-linecap=\"round\" style=\"stroke:red;stroke-width:1\" /><line x1=\"142.0\" y1=\"250.0\" x2=\"142.0\" y2=\"248.0\" stroke-linecap=\"round\" style=\"stroke:red;stroke-width:1\" /><line x1=\"142.0\" y1=\"248.0\" x2=\"142.0\" y2=\"246.0\" stroke-linecap=\"round\" style=\"stroke:red;stroke-width:1\" /><line x1=\"142.0\" y1=\"246.0\" x2=\"142.0\" y2=\"232.0\" stroke-linecap=\"round\" style=\"stroke:red;stroke-width:1\" /><line x1=\"142.0\" y1=\"232.0\" x2=\"142.0\" y2=\"215.0\" stroke-linecap=\"round\" style=\"stroke:red;stroke-width:1\" /><line x1=\"142.0\" y1=\"215.0\" x2=\"142.0\" y2=\"200.0\" stroke-linecap=\"round\" style=\"stroke:red;stroke-width:1\" /><line x1=\"142.0\" y1=\"200.0\" x2=\"142.0\" y2=\"198.0\" stroke-linecap=\"round\" style=\"stroke:red;stroke-width:1\" /><line x1=\"142.0\" y1=\"198.0\" x2=\"142.0\" y2=\"188.0\" stroke-linecap=\"round\" style=\"stroke:red;stroke-width:1\" /><line x1=\"142.0\" y1=\"188.0\" x2=\"142.0\" y2=\"185.0\" stroke-linecap=\"round\" style=\"stroke:red;stroke-width:1\" /><line x1=\"142.0\" y1=\"185.0\" x2=\"142.0\" y2=\"173.0\" stroke-linecap=\"round\" style=\"stroke:red;stroke-width:1\" /><line x1=\"142.0\" y1=\"173.0\" x2=\"142.0\" y2=\"170.0\" stroke-linecap=\"round\" style=\"stroke:red;stroke-width:1\" /><line x1=\"142.0\" y1=\"170.0\" x2=\"142.0\" y2=\"162.0\" stroke-linecap=\"round\" style=\"stroke:red;stroke-width:1\" /><line x1=\"142.0\" y1=\"162.0\" x2=\"142.0\" y2=\"161.0\" stroke-linecap=\"round\" style=\"stroke:red;stroke-width:1\" /><line x1=\"142.0\" y1=\"161.0\" x2=\"142.0\" y2=\"153.0\" stroke-linecap=\"round\" style=\"stroke:red;stroke-width:1\" /><line x1=\"142.0\" y1=\"153.0\" x2=\"142.0\" y2=\"134.0\" stroke-linecap=\"round\" style=\"stroke:red;stroke-width:1\" /><line x1=\"142.0\" y1=\"134.0\" x2=\"142.0\" y2=\"119.0\" stroke-linecap=\"round\" style=\"stroke:red;stroke-width:1\" /><line x1=\"142.0\" y1=\"119.0\" x2=\"142.0\" y2=\"110.0\" stroke-linecap=\"round\" style=\"stroke:red;stroke-width:1\" /><line x1=\"142.0\" y1=\"110.0\" x2=\"142.0\" y2=\"94.0\" stroke-linecap=\"round\" style=\"stroke:red;stroke-width:1\" /><line x1=\"142.0\" y1=\"94.0\" x2=\"142.0\" y2=\"93.0\" stroke-linecap=\"round\" style=\"stroke:red;stroke-width:1\" /><line x1=\"142.0\" y1=\"93.0\" x2=\"142.0\" y2=\"77.0\" stroke-linecap=\"round\" style=\"stroke:red;stroke-width:1\" /><line x1=\"213.0\" y1=\"480.0\" x2=\"213.0\" y2=\"468.0\" stroke-linecap=\"round\" style=\"stroke:orange;stroke-width:1\" /><line x1=\"213.0\" y1=\"468.0\" x2=\"213.0\" y2=\"452.0\" stroke-linecap=\"round\" style=\"stroke:orange;stroke-width:1\" /><line x1=\"213.0\" y1=\"452.0\" x2=\"213.0\" y2=\"451.0\" stroke-linecap=\"round\" style=\"stroke:orange;stroke-width:1\" /><line x1=\"213.0\" y1=\"451.0\" x2=\"213.0\" y2=\"448.0\" stroke-linecap=\"round\" style=\"stroke:orange;stroke-width:1\" /><line x1=\"213.0\" y1=\"448.0\" x2=\"213.0\" y2=\"430.0\" stroke-linecap=\"round\" style=\"stroke:orange;stroke-width:1\" /><line x1=\"213.0\" y1=\"430.0\" x2=\"213.0\" y2=\"411.0\" stroke-linecap=\"round\" style=\"stroke:orange;stroke-width:1\" /><line x1=\"213.0\" y1=\"411.0\" x2=\"213.0\" y2=\"410.0\" stroke-linecap=\"round\" style=\"stroke:orange;stroke-width:1\" /><line x1=\"213.0\" y1=\"410.0\" x2=\"213.0\" y2=\"396.0\" stroke-linecap=\"round\" style=\"stroke:orange;stroke-width:1\" /><line x1=\"213.0\" y1=\"396.0\" x2=\"213.0\" y2=\"390.0\" stroke-linecap=\"round\" style=\"stroke:orange;stroke-width:1\" /><line x1=\"213.0\" y1=\"390.0\" x2=\"213.0\" y2=\"376.0\" stroke-linecap=\"round\" style=\"stroke:orange;stroke-width:1\" /><line x1=\"213.0\" y1=\"376.0\" x2=\"213.0\" y2=\"368.0\" stroke-linecap=\"round\" style=\"stroke:orange;stroke-width:1\" /><line x1=\"213.0\" y1=\"368.0\" x2=\"213.0\" y2=\"360.0\" stroke-linecap=\"round\" style=\"stroke:orange;stroke-width:1\" /><line x1=\"213.0\" y1=\"360.0\" x2=\"213.0\" y2=\"359.0\" stroke-linecap=\"round\" style=\"stroke:orange;stroke-width:1\" /><line x1=\"213.0\" y1=\"359.0\" x2=\"213.0\" y2=\"355.0\" stroke-linecap=\"round\" style=\"stroke:orange;stroke-width:1\" /><line x1=\"213.0\" y1=\"355.0\" x2=\"213.0\" y2=\"351.0\" stroke-linecap=\"round\" style=\"stroke:orange;stroke-width:1\" /><line x1=\"213.0\" y1=\"351.0\" x2=\"213.0\" y2=\"341.0\" stroke-linecap=\"round\" style=\"stroke:orange;stroke-width:1\" /><line x1=\"213.0\" y1=\"341.0\" x2=\"213.0\" y2=\"324.0\" stroke-linecap=\"round\" style=\"stroke:orange;stroke-width:1\" /><line x1=\"213.0\" y1=\"324.0\" x2=\"213.0\" y2=\"312.0\" stroke-linecap=\"round\" style=\"stroke:orange;stroke-width:1\" /><line x1=\"213.0\" y1=\"312.0\" x2=\"213.0\" y2=\"305.0\" stroke-linecap=\"round\" style=\"stroke:orange;stroke-width:1\" /><line x1=\"213.0\" y1=\"305.0\" x2=\"213.0\" y2=\"304.0\" stroke-linecap=\"round\" style=\"stroke:orange;stroke-width:1\" /><line x1=\"213.0\" y1=\"304.0\" x2=\"213.0\" y2=\"292.0\" stroke-linecap=\"round\" style=\"stroke:orange;stroke-width:1\" /><line x1=\"213.0\" y1=\"292.0\" x2=\"213.0\" y2=\"291.0\" stroke-linecap=\"round\" style=\"stroke:orange;stroke-width:1\" /><line x1=\"213.0\" y1=\"291.0\" x2=\"213.0\" y2=\"281.0\" stroke-linecap=\"round\" style=\"stroke:orange;stroke-width:1\" /><line x1=\"213.0\" y1=\"281.0\" x2=\"213.0\" y2=\"275.0\" stroke-linecap=\"round\" style=\"stroke:orange;stroke-width:1\" /><line x1=\"213.0\" y1=\"275.0\" x2=\"213.0\" y2=\"263.0\" stroke-linecap=\"round\" style=\"stroke:orange;stroke-width:1\" /><line x1=\"213.0\" y1=\"263.0\" x2=\"213.0\" y2=\"256.0\" stroke-linecap=\"round\" style=\"stroke:orange;stroke-width:1\" /><line x1=\"213.0\" y1=\"256.0\" x2=\"213.0\" y2=\"246.0\" stroke-linecap=\"round\" style=\"stroke:orange;stroke-width:1\" /><line x1=\"213.0\" y1=\"246.0\" x2=\"213.0\" y2=\"230.0\" stroke-linecap=\"round\" style=\"stroke:orange;stroke-width:1\" /><line x1=\"213.0\" y1=\"230.0\" x2=\"213.0\" y2=\"228.0\" stroke-linecap=\"round\" style=\"stroke:orange;stroke-width:1\" /><line x1=\"213.0\" y1=\"228.0\" x2=\"213.0\" y2=\"213.0\" stroke-linecap=\"round\" style=\"stroke:orange;stroke-width:1\" /><line x1=\"213.0\" y1=\"213.0\" x2=\"213.0\" y2=\"203.0\" stroke-linecap=\"round\" style=\"stroke:orange;stroke-width:1\" /><line x1=\"213.0\" y1=\"203.0\" x2=\"213.0\" y2=\"185.0\" stroke-linecap=\"round\" style=\"stroke:orange;stroke-width:1\" /><line x1=\"213.0\" y1=\"185.0\" x2=\"213.0\" y2=\"184.0\" stroke-linecap=\"round\" style=\"stroke:orange;stroke-width:1\" /><line x1=\"213.0\" y1=\"184.0\" x2=\"213.0\" y2=\"168.0\" stroke-linecap=\"round\" style=\"stroke:orange;stroke-width:1\" /><line x1=\"213.0\" y1=\"168.0\" x2=\"213.0\" y2=\"163.0\" stroke-linecap=\"round\" style=\"stroke:orange;stroke-width:1\" /><line x1=\"213.0\" y1=\"163.0\" x2=\"213.0\" y2=\"162.0\" stroke-linecap=\"round\" style=\"stroke:orange;stroke-width:1\" /><line x1=\"213.0\" y1=\"162.0\" x2=\"213.0\" y2=\"151.0\" stroke-linecap=\"round\" style=\"stroke:orange;stroke-width:1\" /><line x1=\"213.0\" y1=\"151.0\" x2=\"213.0\" y2=\"145.0\" stroke-linecap=\"round\" style=\"stroke:orange;stroke-width:1\" /><line x1=\"213.0\" y1=\"145.0\" x2=\"213.0\" y2=\"133.0\" stroke-linecap=\"round\" style=\"stroke:orange;stroke-width:1\" /><line x1=\"213.0\" y1=\"133.0\" x2=\"213.0\" y2=\"132.0\" stroke-linecap=\"round\" style=\"stroke:orange;stroke-width:1\" /><line x1=\"213.0\" y1=\"132.0\" x2=\"213.0\" y2=\"114.0\" stroke-linecap=\"round\" style=\"stroke:orange;stroke-width:1\" /><line x1=\"213.0\" y1=\"114.0\" x2=\"213.0\" y2=\"100.0\" stroke-linecap=\"round\" style=\"stroke:orange;stroke-width:1\" /><line x1=\"213.0\" y1=\"100.0\" x2=\"213.0\" y2=\"83.0\" stroke-linecap=\"round\" style=\"stroke:orange;stroke-width:1\" /><line x1=\"213.0\" y1=\"83.0\" x2=\"213.0\" y2=\"68.0\" stroke-linecap=\"round\" style=\"stroke:orange;stroke-width:1\" /><line x1=\"284.0\" y1=\"480.0\" x2=\"284.0\" y2=\"471.0\" stroke-linecap=\"round\" style=\"stroke:blue;stroke-width:1\" /><line x1=\"284.0\" y1=\"471.0\" x2=\"284.0\" y2=\"453.0\" stroke-linecap=\"round\" style=\"stroke:blue;stroke-width:1\" /><line x1=\"284.0\" y1=\"453.0\" x2=\"284.0\" y2=\"434.0\" stroke-linecap=\"round\" style=\"stroke:blue;stroke-width:1\" /><line x1=\"284.0\" y1=\"434.0\" x2=\"284.0\" y2=\"416.0\" stroke-linecap=\"round\" style=\"stroke:blue;stroke-width:1\" /><line x1=\"284.0\" y1=\"416.0\" x2=\"284.0\" y2=\"414.0\" stroke-linecap=\"round\" style=\"stroke:blue;stroke-width:1\" /><line x1=\"284.0\" y1=\"414.0\" x2=\"284.0\" y2=\"411.0\" stroke-linecap=\"round\" style=\"stroke:blue;stroke-width:1\" /><line x1=\"284.0\" y1=\"411.0\" x2=\"284.0\" y2=\"397.0\" stroke-linecap=\"round\" style=\"stroke:blue;stroke-width:1\" /><line x1=\"284.0\" y1=\"397.0\" x2=\"284.0\" y2=\"389.0\" stroke-linecap=\"round\" style=\"stroke:blue;stroke-width:1\" /><line x1=\"284.0\" y1=\"389.0\" x2=\"284.0\" y2=\"386.0\" stroke-linecap=\"round\" style=\"stroke:blue;stroke-width:1\" /><line x1=\"284.0\" y1=\"386.0\" x2=\"284.0\" y2=\"367.0\" stroke-linecap=\"round\" style=\"stroke:blue;stroke-width:1\" /><line x1=\"284.0\" y1=\"367.0\" x2=\"284.0\" y2=\"366.0\" stroke-linecap=\"round\" style=\"stroke:blue;stroke-width:1\" /><line x1=\"284.0\" y1=\"366.0\" x2=\"284.0\" y2=\"354.0\" stroke-linecap=\"round\" style=\"stroke:blue;stroke-width:1\" /><line x1=\"284.0\" y1=\"354.0\" x2=\"284.0\" y2=\"352.0\" stroke-linecap=\"round\" style=\"stroke:blue;stroke-width:1\" /><line x1=\"284.0\" y1=\"352.0\" x2=\"284.0\" y2=\"333.0\" stroke-linecap=\"round\" style=\"stroke:blue;stroke-width:1\" /><line x1=\"284.0\" y1=\"333.0\" x2=\"284.0\" y2=\"318.0\" stroke-linecap=\"round\" style=\"stroke:blue;stroke-width:1\" /><line x1=\"284.0\" y1=\"318.0\" x2=\"284.0\" y2=\"306.0\" stroke-linecap=\"round\" style=\"stroke:blue;stroke-width:1\" /><line x1=\"284.0\" y1=\"306.0\" x2=\"284.0\" y2=\"293.0\" stroke-linecap=\"round\" style=\"stroke:blue;stroke-width:1\" /><line x1=\"284.0\" y1=\"293.0\" x2=\"284.0\" y2=\"285.0\" stroke-linecap=\"round\" style=\"stroke:blue;stroke-width:1\" /><line x1=\"284.0\" y1=\"285.0\" x2=\"284.0\" y2=\"267.0\" stroke-linecap=\"round\" style=\"stroke:blue;stroke-width:1\" /><line x1=\"284.0\" y1=\"267.0\" x2=\"284.0\" y2=\"256.0\" stroke-linecap=\"round\" style=\"stroke:blue;stroke-width:1\" /><line x1=\"284.0\" y1=\"256.0\" x2=\"284.0\" y2=\"255.0\" stroke-linecap=\"round\" style=\"stroke:blue;stroke-width:1\" /><line x1=\"284.0\" y1=\"255.0\" x2=\"284.0\" y2=\"243.0\" stroke-linecap=\"round\" style=\"stroke:blue;stroke-width:1\" /><line x1=\"284.0\" y1=\"243.0\" x2=\"284.0\" y2=\"239.0\" stroke-linecap=\"round\" style=\"stroke:blue;stroke-width:1\" /><line x1=\"284.0\" y1=\"239.0\" x2=\"284.0\" y2=\"230.0\" stroke-linecap=\"round\" style=\"stroke:blue;stroke-width:1\" /><line x1=\"284.0\" y1=\"230.0\" x2=\"284.0\" y2=\"214.0\" stroke-linecap=\"round\" style=\"stroke:blue;stroke-width:1\" /><line x1=\"284.0\" y1=\"214.0\" x2=\"284.0\" y2=\"205.0\" stroke-linecap=\"round\" style=\"stroke:blue;stroke-width:1\" /><line x1=\"284.0\" y1=\"205.0\" x2=\"284.0\" y2=\"191.0\" stroke-linecap=\"round\" style=\"stroke:blue;stroke-width:1\" /><line x1=\"284.0\" y1=\"191.0\" x2=\"284.0\" y2=\"178.0\" stroke-linecap=\"round\" style=\"stroke:blue;stroke-width:1\" /><line x1=\"284.0\" y1=\"178.0\" x2=\"284.0\" y2=\"172.0\" stroke-linecap=\"round\" style=\"stroke:blue;stroke-width:1\" /><line x1=\"284.0\" y1=\"172.0\" x2=\"284.0\" y2=\"166.0\" stroke-linecap=\"round\" style=\"stroke:blue;stroke-width:1\" /><line x1=\"284.0\" y1=\"166.0\" x2=\"284.0\" y2=\"157.0\" stroke-linecap=\"round\" style=\"stroke:blue;stroke-width:1\" /><line x1=\"284.0\" y1=\"157.0\" x2=\"284.0\" y2=\"149.0\" stroke-linecap=\"round\" style=\"stroke:blue;stroke-width:1\" /><line x1=\"284.0\" y1=\"149.0\" x2=\"284.0\" y2=\"147.0\" stroke-linecap=\"round\" style=\"stroke:blue;stroke-width:1\" /><line x1=\"284.0\" y1=\"147.0\" x2=\"284.0\" y2=\"144.0\" stroke-linecap=\"round\" style=\"stroke:blue;stroke-width:1\" /><line x1=\"284.0\" y1=\"144.0\" x2=\"284.0\" y2=\"141.0\" stroke-linecap=\"round\" style=\"stroke:blue;stroke-width:1\" /><line x1=\"284.0\" y1=\"141.0\" x2=\"284.0\" y2=\"134.0\" stroke-linecap=\"round\" style=\"stroke:blue;stroke-width:1\" /><line x1=\"284.0\" y1=\"134.0\" x2=\"284.0\" y2=\"116.0\" stroke-linecap=\"round\" style=\"stroke:blue;stroke-width:1\" /><line x1=\"284.0\" y1=\"116.0\" x2=\"284.0\" y2=\"103.0\" stroke-linecap=\"round\" style=\"stroke:blue;stroke-width:1\" /><line x1=\"284.0\" y1=\"103.0\" x2=\"284.0\" y2=\"95.0\" stroke-linecap=\"round\" style=\"stroke:blue;stroke-width:1\" /><line x1=\"284.0\" y1=\"95.0\" x2=\"284.0\" y2=\"76.0\" stroke-linecap=\"round\" style=\"stroke:blue;stroke-width:1\" /><line x1=\"284.0\" y1=\"76.0\" x2=\"284.0\" y2=\"64.0\" stroke-linecap=\"round\" style=\"stroke:blue;stroke-width:1\" /><line x1=\"284.0\" y1=\"64.0\" x2=\"284.0\" y2=\"62.0\" stroke-linecap=\"round\" style=\"stroke:blue;stroke-width:1\" /><line x1=\"284.0\" y1=\"62.0\" x2=\"284.0\" y2=\"44.0\" stroke-linecap=\"round\" style=\"stroke:blue;stroke-width:1\" /><line x1=\"284.0\" y1=\"44.0\" x2=\"284.0\" y2=\"33.0\" stroke-linecap=\"round\" style=\"stroke:blue;stroke-width:1\" /><line x1=\"355.0\" y1=\"480.0\" x2=\"355.0\" y2=\"461.0\" stroke-linecap=\"round\" style=\"stroke:purple;stroke-width:1\" /><line x1=\"355.0\" y1=\"461.0\" x2=\"355.0\" y2=\"442.0\" stroke-linecap=\"round\" style=\"stroke:purple;stroke-width:1\" /><line x1=\"355.0\" y1=\"442.0\" x2=\"355.0\" y2=\"429.0\" stroke-linecap=\"round\" style=\"stroke:purple;stroke-width:1\" /><line x1=\"355.0\" y1=\"429.0\" x2=\"355.0\" y2=\"423.0\" stroke-linecap=\"round\" style=\"stroke:purple;stroke-width:1\" /><line x1=\"355.0\" y1=\"423.0\" x2=\"355.0\" y2=\"415.0\" stroke-linecap=\"round\" style=\"stroke:purple;stroke-width:1\" /><line x1=\"355.0\" y1=\"415.0\" x2=\"355.0\" y2=\"400.0\" stroke-linecap=\"round\" style=\"stroke:purple;stroke-width:1\" /><line x1=\"355.0\" y1=\"400.0\" x2=\"355.0\" y2=\"396.0\" stroke-linecap=\"round\" style=\"stroke:purple;stroke-width:1\" /><line x1=\"355.0\" y1=\"396.0\" x2=\"355.0\" y2=\"378.0\" stroke-linecap=\"round\" style=\"stroke:purple;stroke-width:1\" /><line x1=\"355.0\" y1=\"378.0\" x2=\"355.0\" y2=\"374.0\" stroke-linecap=\"round\" style=\"stroke:purple;stroke-width:1\" /><line x1=\"355.0\" y1=\"374.0\" x2=\"355.0\" y2=\"364.0\" stroke-linecap=\"round\" style=\"stroke:purple;stroke-width:1\" /><line x1=\"355.0\" y1=\"364.0\" x2=\"355.0\" y2=\"356.0\" stroke-linecap=\"round\" style=\"stroke:purple;stroke-width:1\" /><line x1=\"355.0\" y1=\"356.0\" x2=\"355.0\" y2=\"345.0\" stroke-linecap=\"round\" style=\"stroke:purple;stroke-width:1\" /><line x1=\"355.0\" y1=\"345.0\" x2=\"355.0\" y2=\"332.0\" stroke-linecap=\"round\" style=\"stroke:purple;stroke-width:1\" /><line x1=\"355.0\" y1=\"332.0\" x2=\"355.0\" y2=\"314.0\" stroke-linecap=\"round\" style=\"stroke:purple;stroke-width:1\" /><line x1=\"355.0\" y1=\"314.0\" x2=\"355.0\" y2=\"298.0\" stroke-linecap=\"round\" style=\"stroke:purple;stroke-width:1\" /><line x1=\"355.0\" y1=\"298.0\" x2=\"355.0\" y2=\"283.0\" stroke-linecap=\"round\" style=\"stroke:purple;stroke-width:1\" /><line x1=\"355.0\" y1=\"283.0\" x2=\"355.0\" y2=\"278.0\" stroke-linecap=\"round\" style=\"stroke:purple;stroke-width:1\" /><line x1=\"355.0\" y1=\"278.0\" x2=\"355.0\" y2=\"269.0\" stroke-linecap=\"round\" style=\"stroke:purple;stroke-width:1\" /><line x1=\"355.0\" y1=\"269.0\" x2=\"355.0\" y2=\"255.0\" stroke-linecap=\"round\" style=\"stroke:purple;stroke-width:1\" /><line x1=\"355.0\" y1=\"255.0\" x2=\"355.0\" y2=\"251.0\" stroke-linecap=\"round\" style=\"stroke:purple;stroke-width:1\" /><line x1=\"355.0\" y1=\"251.0\" x2=\"355.0\" y2=\"237.0\" stroke-linecap=\"round\" style=\"stroke:purple;stroke-width:1\" /><line x1=\"355.0\" y1=\"237.0\" x2=\"355.0\" y2=\"234.0\" stroke-linecap=\"round\" style=\"stroke:purple;stroke-width:1\" /><line x1=\"355.0\" y1=\"234.0\" x2=\"355.0\" y2=\"231.0\" stroke-linecap=\"round\" style=\"stroke:purple;stroke-width:1\" /><line x1=\"355.0\" y1=\"231.0\" x2=\"355.0\" y2=\"214.0\" stroke-linecap=\"round\" style=\"stroke:purple;stroke-width:1\" /><line x1=\"355.0\" y1=\"214.0\" x2=\"355.0\" y2=\"201.0\" stroke-linecap=\"round\" style=\"stroke:purple;stroke-width:1\" /><line x1=\"355.0\" y1=\"201.0\" x2=\"355.0\" y2=\"182.0\" stroke-linecap=\"round\" style=\"stroke:purple;stroke-width:1\" /><line x1=\"355.0\" y1=\"182.0\" x2=\"355.0\" y2=\"178.0\" stroke-linecap=\"round\" style=\"stroke:purple;stroke-width:1\" /><line x1=\"355.0\" y1=\"178.0\" x2=\"355.0\" y2=\"176.0\" stroke-linecap=\"round\" style=\"stroke:purple;stroke-width:1\" /><line x1=\"355.0\" y1=\"176.0\" x2=\"355.0\" y2=\"174.0\" stroke-linecap=\"round\" style=\"stroke:purple;stroke-width:1\" /><line x1=\"355.0\" y1=\"174.0\" x2=\"355.0\" y2=\"163.0\" stroke-linecap=\"round\" style=\"stroke:purple;stroke-width:1\" /><line x1=\"355.0\" y1=\"163.0\" x2=\"355.0\" y2=\"160.0\" stroke-linecap=\"round\" style=\"stroke:purple;stroke-width:1\" /><line x1=\"355.0\" y1=\"160.0\" x2=\"355.0\" y2=\"148.0\" stroke-linecap=\"round\" style=\"stroke:purple;stroke-width:1\" /><line x1=\"355.0\" y1=\"148.0\" x2=\"355.0\" y2=\"137.0\" stroke-linecap=\"round\" style=\"stroke:purple;stroke-width:1\" /><line x1=\"355.0\" y1=\"137.0\" x2=\"355.0\" y2=\"131.0\" stroke-linecap=\"round\" style=\"stroke:purple;stroke-width:1\" /><line x1=\"355.0\" y1=\"131.0\" x2=\"355.0\" y2=\"129.0\" stroke-linecap=\"round\" style=\"stroke:purple;stroke-width:1\" /><line x1=\"355.0\" y1=\"129.0\" x2=\"355.0\" y2=\"121.0\" stroke-linecap=\"round\" style=\"stroke:purple;stroke-width:1\" /><line x1=\"355.0\" y1=\"121.0\" x2=\"355.0\" y2=\"107.0\" stroke-linecap=\"round\" style=\"stroke:purple;stroke-width:1\" /><line x1=\"355.0\" y1=\"107.0\" x2=\"355.0\" y2=\"104.0\" stroke-linecap=\"round\" style=\"stroke:purple;stroke-width:1\" /><line x1=\"355.0\" y1=\"104.0\" x2=\"355.0\" y2=\"102.0\" stroke-linecap=\"round\" style=\"stroke:purple;stroke-width:1\" /><line x1=\"355.0\" y1=\"102.0\" x2=\"355.0\" y2=\"90.0\" stroke-linecap=\"round\" style=\"stroke:purple;stroke-width:1\" /><line x1=\"355.0\" y1=\"90.0\" x2=\"355.0\" y2=\"87.0\" stroke-linecap=\"round\" style=\"stroke:purple;stroke-width:1\" /><line x1=\"355.0\" y1=\"87.0\" x2=\"355.0\" y2=\"72.0\" stroke-linecap=\"round\" style=\"stroke:purple;stroke-width:1\" /><line x1=\"355.0\" y1=\"72.0\" x2=\"355.0\" y2=\"65.0\" stroke-linecap=\"round\" style=\"stroke:purple;stroke-width:1\" /><line x1=\"355.0\" y1=\"65.0\" x2=\"355.0\" y2=\"47.0\" stroke-linecap=\"round\" style=\"stroke:purple;stroke-width:1\" /><line x1=\"426.0\" y1=\"480.0\" x2=\"426.0\" y2=\"479.0\" stroke-linecap=\"round\" style=\"stroke:cyan;stroke-width:1\" /><line x1=\"426.0\" y1=\"479.0\" x2=\"426.0\" y2=\"471.0\" stroke-linecap=\"round\" style=\"stroke:cyan;stroke-width:1\" /><line x1=\"426.0\" y1=\"471.0\" x2=\"426.0\" y2=\"453.0\" stroke-linecap=\"round\" style=\"stroke:cyan;stroke-width:1\" /><line x1=\"426.0\" y1=\"453.0\" x2=\"426.0\" y2=\"442.0\" stroke-linecap=\"round\" style=\"stroke:cyan;stroke-width:1\" /><line x1=\"426.0\" y1=\"442.0\" x2=\"426.0\" y2=\"427.0\" stroke-linecap=\"round\" style=\"stroke:cyan;stroke-width:1\" /><line x1=\"426.0\" y1=\"427.0\" x2=\"426.0\" y2=\"426.0\" stroke-linecap=\"round\" style=\"stroke:cyan;stroke-width:1\" /><line x1=\"426.0\" y1=\"426.0\" x2=\"426.0\" y2=\"410.0\" stroke-linecap=\"round\" style=\"stroke:cyan;stroke-width:1\" /><line x1=\"426.0\" y1=\"410.0\" x2=\"426.0\" y2=\"402.0\" stroke-linecap=\"round\" style=\"stroke:cyan;stroke-width:1\" /><line x1=\"426.0\" y1=\"402.0\" x2=\"426.0\" y2=\"394.0\" stroke-linecap=\"round\" style=\"stroke:cyan;stroke-width:1\" /><line x1=\"426.0\" y1=\"394.0\" x2=\"426.0\" y2=\"381.0\" stroke-linecap=\"round\" style=\"stroke:cyan;stroke-width:1\" /><line x1=\"426.0\" y1=\"381.0\" x2=\"426.0\" y2=\"373.0\" stroke-linecap=\"round\" style=\"stroke:cyan;stroke-width:1\" /><line x1=\"426.0\" y1=\"373.0\" x2=\"426.0\" y2=\"361.0\" stroke-linecap=\"round\" style=\"stroke:cyan;stroke-width:1\" /><line x1=\"426.0\" y1=\"361.0\" x2=\"426.0\" y2=\"345.0\" stroke-linecap=\"round\" style=\"stroke:cyan;stroke-width:1\" /><line x1=\"426.0\" y1=\"345.0\" x2=\"426.0\" y2=\"336.0\" stroke-linecap=\"round\" style=\"stroke:cyan;stroke-width:1\" /><line x1=\"426.0\" y1=\"336.0\" x2=\"426.0\" y2=\"325.0\" stroke-linecap=\"round\" style=\"stroke:cyan;stroke-width:1\" /><line x1=\"426.0\" y1=\"325.0\" x2=\"426.0\" y2=\"306.0\" stroke-linecap=\"round\" style=\"stroke:cyan;stroke-width:1\" /><line x1=\"426.0\" y1=\"306.0\" x2=\"426.0\" y2=\"290.0\" stroke-linecap=\"round\" style=\"stroke:cyan;stroke-width:1\" /><line x1=\"426.0\" y1=\"290.0\" x2=\"426.0\" y2=\"283.0\" stroke-linecap=\"round\" style=\"stroke:cyan;stroke-width:1\" /><line x1=\"426.0\" y1=\"283.0\" x2=\"426.0\" y2=\"267.0\" stroke-linecap=\"round\" style=\"stroke:cyan;stroke-width:1\" /><line x1=\"426.0\" y1=\"267.0\" x2=\"426.0\" y2=\"249.0\" stroke-linecap=\"round\" style=\"stroke:cyan;stroke-width:1\" /><line x1=\"426.0\" y1=\"249.0\" x2=\"426.0\" y2=\"244.0\" stroke-linecap=\"round\" style=\"stroke:cyan;stroke-width:1\" /><line x1=\"426.0\" y1=\"244.0\" x2=\"426.0\" y2=\"230.0\" stroke-linecap=\"round\" style=\"stroke:cyan;stroke-width:1\" /><line x1=\"426.0\" y1=\"230.0\" x2=\"426.0\" y2=\"223.0\" stroke-linecap=\"round\" style=\"stroke:cyan;stroke-width:1\" /><line x1=\"426.0\" y1=\"223.0\" x2=\"426.0\" y2=\"209.0\" stroke-linecap=\"round\" style=\"stroke:cyan;stroke-width:1\" /><line x1=\"426.0\" y1=\"209.0\" x2=\"426.0\" y2=\"200.0\" stroke-linecap=\"round\" style=\"stroke:cyan;stroke-width:1\" /><line x1=\"426.0\" y1=\"200.0\" x2=\"426.0\" y2=\"192.0\" stroke-linecap=\"round\" style=\"stroke:cyan;stroke-width:1\" /><line x1=\"426.0\" y1=\"192.0\" x2=\"426.0\" y2=\"179.0\" stroke-linecap=\"round\" style=\"stroke:cyan;stroke-width:1\" /><line x1=\"426.0\" y1=\"179.0\" x2=\"426.0\" y2=\"166.0\" stroke-linecap=\"round\" style=\"stroke:cyan;stroke-width:1\" /><line x1=\"426.0\" y1=\"166.0\" x2=\"426.0\" y2=\"165.0\" stroke-linecap=\"round\" style=\"stroke:cyan;stroke-width:1\" /><line x1=\"426.0\" y1=\"165.0\" x2=\"426.0\" y2=\"146.0\" stroke-linecap=\"round\" style=\"stroke:cyan;stroke-width:1\" /><line x1=\"426.0\" y1=\"146.0\" x2=\"426.0\" y2=\"141.0\" stroke-linecap=\"round\" style=\"stroke:cyan;stroke-width:1\" /><line x1=\"426.0\" y1=\"141.0\" x2=\"426.0\" y2=\"136.0\" stroke-linecap=\"round\" style=\"stroke:cyan;stroke-width:1\" /><line x1=\"426.0\" y1=\"136.0\" x2=\"426.0\" y2=\"134.0\" stroke-linecap=\"round\" style=\"stroke:cyan;stroke-width:1\" /><line x1=\"426.0\" y1=\"134.0\" x2=\"426.0\" y2=\"123.0\" stroke-linecap=\"round\" style=\"stroke:cyan;stroke-width:1\" /><line x1=\"426.0\" y1=\"123.0\" x2=\"426.0\" y2=\"112.0\" stroke-linecap=\"round\" style=\"stroke:cyan;stroke-width:1\" /><line x1=\"426.0\" y1=\"112.0\" x2=\"426.0\" y2=\"102.0\" stroke-linecap=\"round\" style=\"stroke:cyan;stroke-width:1\" /><line x1=\"426.0\" y1=\"102.0\" x2=\"426.0\" y2=\"86.0\" stroke-linecap=\"round\" style=\"stroke:cyan;stroke-width:1\" /><line x1=\"426.0\" y1=\"86.0\" x2=\"426.0\" y2=\"85.0\" stroke-linecap=\"round\" style=\"stroke:cyan;stroke-width:1\" /><line x1=\"426.0\" y1=\"85.0\" x2=\"426.0\" y2=\"73.0\" stroke-linecap=\"round\" style=\"stroke:cyan;stroke-width:1\" /><line x1=\"426.0\" y1=\"73.0\" x2=\"426.0\" y2=\"54.0\" stroke-linecap=\"round\" style=\"stroke:cyan;stroke-width:1\" /><line x1=\"426.0\" y1=\"54.0\" x2=\"426.0\" y2=\"43.0\" stroke-linecap=\"round\" style=\"stroke:cyan;stroke-width:1\" /><line x1=\"426.0\" y1=\"43.0\" x2=\"426.0\" y2=\"33.0\" stroke-linecap=\"round\" style=\"stroke:cyan;stroke-width:1\" /><line x1=\"426.0\" y1=\"33.0\" x2=\"426.0\" y2=\"27.0\" stroke-linecap=\"round\" style=\"stroke:cyan;stroke-width:1\" /><line x1=\"426.0\" y1=\"27.0\" x2=\"426.0\" y2=\"17.0\" stroke-linecap=\"round\" style=\"stroke:cyan;stroke-width:1\" /><line x1=\"426.0\" y1=\"17.0\" x2=\"426.0\" y2=\"8.0\" stroke-linecap=\"round\" style=\"stroke:cyan;stroke-width:1\" />\n",
              "        \n",
              "        \n",
              "        <g id=\"turtle2\" visibility=\"visible\" transform=\"rotate(180,71.0,47.0) translate(71.0, 47.0)\">\n",
              "<polygon points=\"0,16 2,14 1,10 4,7 7,9 9,8 6,5 7,1 5,-3 8,-6 6,-8 4,-5 0,-7 -4,-5 -6,-8 -8,-6 -5,-3 -7,1 -6,5 -9,8 -7,9 -4,7 -1,10 -2,14\" transform=\"skewX(0) scale(1,1)\" style=\"stroke:yellow;stroke-width:1;fill:yellow\" />\n",
              "</g><g id=\"turtle2\" visibility=\"visible\" transform=\"rotate(180,142.0,77.0) translate(142.0, 77.0)\">\n",
              "<polygon points=\"0,16 2,14 1,10 4,7 7,9 9,8 6,5 7,1 5,-3 8,-6 6,-8 4,-5 0,-7 -4,-5 -6,-8 -8,-6 -5,-3 -7,1 -6,5 -9,8 -7,9 -4,7 -1,10 -2,14\" transform=\"skewX(0) scale(1,1)\" style=\"stroke:red;stroke-width:1;fill:red\" />\n",
              "</g><g id=\"turtle2\" visibility=\"visible\" transform=\"rotate(180,213.0,68.0) translate(213.0, 68.0)\">\n",
              "<polygon points=\"0,16 2,14 1,10 4,7 7,9 9,8 6,5 7,1 5,-3 8,-6 6,-8 4,-5 0,-7 -4,-5 -6,-8 -8,-6 -5,-3 -7,1 -6,5 -9,8 -7,9 -4,7 -1,10 -2,14\" transform=\"skewX(0) scale(1,1)\" style=\"stroke:orange;stroke-width:1;fill:orange\" />\n",
              "</g><g id=\"turtle2\" visibility=\"visible\" transform=\"rotate(180,284.0,33.0) translate(284.0, 33.0)\">\n",
              "<polygon points=\"0,16 2,14 1,10 4,7 7,9 9,8 6,5 7,1 5,-3 8,-6 6,-8 4,-5 0,-7 -4,-5 -6,-8 -8,-6 -5,-3 -7,1 -6,5 -9,8 -7,9 -4,7 -1,10 -2,14\" transform=\"skewX(0) scale(1,1)\" style=\"stroke:blue;stroke-width:1;fill:blue\" />\n",
              "</g><g id=\"turtle2\" visibility=\"visible\" transform=\"rotate(180,355.0,47.0) translate(355.0, 47.0)\">\n",
              "<polygon points=\"0,16 2,14 1,10 4,7 7,9 9,8 6,5 7,1 5,-3 8,-6 6,-8 4,-5 0,-7 -4,-5 -6,-8 -8,-6 -5,-3 -7,1 -6,5 -9,8 -7,9 -4,7 -1,10 -2,14\" transform=\"skewX(0) scale(1,1)\" style=\"stroke:purple;stroke-width:1;fill:purple\" />\n",
              "</g><g id=\"turtle2\" visibility=\"visible\" transform=\"rotate(180,426.0,8.0) translate(426.0, 8.0)\">\n",
              "<polygon points=\"0,16 2,14 1,10 4,7 7,9 9,8 6,5 7,1 5,-3 8,-6 6,-8 4,-5 0,-7 -4,-5 -6,-8 -8,-6 -5,-3 -7,1 -6,5 -9,8 -7,9 -4,7 -1,10 -2,14\" transform=\"skewX(0) scale(1,1)\" style=\"stroke:cyan;stroke-width:1;fill:cyan\" />\n",
              "</g>\n",
              "      </svg>\n",
              "    "
            ]
          },
          "metadata": {}
        },
        {
          "output_type": "stream",
          "name": "stdout",
          "text": [
            "Cyan turtle is the winner 🎉🎉🎉\n"
          ]
        }
      ]
    },
    {
      "cell_type": "markdown",
      "source": [
        "## Beware! Errors\n",
        "\n",
        "Due to the nature of this tutorial I will not be able to help you troubleshoot errors. If you face an error and get stuck, try one of the following:\n",
        "\n",
        "- Check error message. Many times an error message will point clearly towards the root of the problem. For instance, `NameError: name 'bo0b' is not defined` indicates you made a spelling error.\n",
        "- Do not panic and take your time! If you are lost in code, try locate where things go wrong by going back and implementing the task from scratch, carefully observing each step until you find where things go wrong.\n",
        "- Very frequent errors are spelling mistakes and indentation errors. Check if you made one!\n",
        "- Search StackOverflow or ask ChatGPt to debug your error\n",
        "\n",
        "\n",
        "See this [tutorial](https://realpython.com/python-traceback/) on understanding Python Traceback.\n",
        "\n",
        "See this [tutorial](https://realpython.com/invalid-syntax-python/) on understanding Python Syntax Errors."
      ],
      "metadata": {
        "id": "AfPwQ3-k45FD"
      }
    },
    {
      "cell_type": "markdown",
      "source": [
        "# Python Operands\n",
        "\n",
        "These are the most common operands in Python and their functions:\n",
        "\n",
        "| Operand | Description | Example |\n",
        "|---------|-------------|---------|\n",
        "| `+`     | Addition | `a + b` Adds the values on either side of the operator. |\n",
        "| `-`     | Subtraction | `a - b` Subtracts right-hand operand from left-hand operand. |\n",
        "| `*`     | Multiplication | `a * b` Multiplies values on either side of the operator. |\n",
        "| `/`     | Division | `a / b` Divides left-hand operand by right-hand operand. |\n",
        "| `//`    | Floor Division | `a // b` Divides and returns the integer part of the quotient. Ignores the decimal part. |\n",
        "| `%`     | Modulus | `a % b` Divides left-hand operand by right-hand operand and returns remainder. |\n",
        "| `**`    | Exponentiation | `a ** b` Raises left-hand operand to the power of right-hand operand. |\n",
        "| `=`     | Assignment | `a = b` Assigns right-hand operand's value to the left-hand operand. |\n",
        "| `==`    | Equality | `a == b` Checks if the value of two operands is equal. |\n",
        "| `!=`    | Inequality | `a != b` Checks if the value of two operands is not equal. |\n",
        "| `>`     | Greater than | `a > b` Checks if left-hand operand is greater than the right-hand operand. |\n",
        "| `<`     | Less than | `a < b` Checks if left-hand operand is less than the right-hand operand. |\n",
        "| `>=`    | Greater than or equal to | `a >= b` Checks if left-hand operand is greater than or equal to the right-hand operand. |\n",
        "| `<=`    | Less than or equal to | `a <= b` Checks if left-hand operand is less than or equal to the right-hand operand. |\n",
        "| `and`   | Logical AND | `a and b` True if both a and b are true. |\n",
        "| `or`    | Logical OR | `a or b` True if either a or b is true. |\n",
        "| `not`   | Logical NOT | `not a` True if operand is false (complements the operand). |\n",
        "\n"
      ],
      "metadata": {
        "id": "S0Ti_xgUYGQL"
      }
    },
    {
      "cell_type": "markdown",
      "source": [
        "# Python Built-In Functions\n",
        "\n",
        "Python offers several built-in funcitons. You can read about them in the [official documentation](https://docs.python.org/3.6/library/functions.html).\n",
        "\n",
        "You can also find this [tutorial](https://realpython.com/python-data-types/) useful.\n",
        "\n",
        "Some examples:\n",
        "\n",
        "#### Math\n",
        "\n",
        "| Function  | Description                                         |\n",
        "|-----------|-----------------------------------------------------|\n",
        "| `abs()`   | Returns absolute value of a number                  |\n",
        "| `max()`   | Returns the largest of the given arguments or items in an iterable |\n",
        "| `min()`   | Returns the smallest of the given arguments or items in an iterable |\n",
        "| `pow()`   | Raises a number to a power                          |\n",
        "| `round()` | Rounds a floating-point value                       |\n",
        "| `sum()`   | Sums the items of an iterable                       |\n",
        "\n",
        "#### Type Convertion\n",
        "\n",
        "| Function     | Description                                                                |\n",
        "|--------------|----------------------------------------------------------------------------|\n",
        "| `bin()`      | Converts an integer to a binary string                                     |\n",
        "| `bool()`     | Converts an argument to a Boolean value                                   |\n",
        "| `chr()`      | Returns string representation of character given by integer argument      |\n",
        "| `float()`    | Returns a floating-point object constructed from a number or string       |\n",
        "| `int()`      | Returns an integer object constructed from a number or string             |\n",
        "| `str()`      | Returns a string version of an object                                     |\n",
        "| `type()`     | Returns the type of an object or creates a new type object                |\n",
        "\n",
        "\n",
        "#### Iterables and Iterators\n",
        "| Function     | Description                                                           |\n",
        "|--------------|-----------------------------------------------------------------------|\n",
        "| `all()`      | Returns True if all elements of an iterable are true                  |\n",
        "| `any()`      | Returns True if any elements of an iterable are true                  |\n",
        "| `enumerate()`| Returns a list of tuples containing indices and values from an iterable |\n",
        "| `filter()`   | Filters elements from an iterable                                     |\n",
        "| `iter()`     | Returns an iterator object                                            |\n",
        "| `len()`      | Returns the length of an object                                       |\n",
        "| `map()`      | Applies a function to every item of an iterable                       |\n",
        "| `next()`     | Retrieves the next item from an iterator                              |\n",
        "| `range()`    | Generates a range of integer values                                   |\n",
        "| `reversed()` | Returns a reverse iterator                                            |\n",
        "| `slice()`    | Returns a slice object                                                |\n",
        "| `sorted()`   | Returns a sorted list from an iterable                                |\n",
        "| `zip()`      | Creates an iterator that aggregates elements from iterables           |"
      ],
      "metadata": {
        "id": "slQhh6SKfrp5"
      }
    },
    {
      "cell_type": "markdown",
      "source": [
        "# Further Resources\n",
        "\n",
        "- [Object Oriented Programming](https://realpython.com/python3-object-oriented-programming/)\n",
        "\n",
        "- [Understanding Python Traceback](https://realpython.com/python-traceback/)\n",
        "- [Invalid Syntax in Python: Common Reasons for SyntaxError](https://realpython.com/invalid-syntax-python/)\n",
        "\n",
        "- [Python Variables](https://realpython.com/python-variables/)\n",
        "-[Python Data Types](https://realpython.com/python-data-types/)\n",
        "- [String and Character Data in Python](https://realpython.com/python-strings/)\n",
        "- [Python Random Module](https://docs.python.org/3/library/random.html)\n",
        "- [Tech With Tim YouTube Channel](https://www.youtube.com/@TechWithTim)"
      ],
      "metadata": {
        "id": "DMJJiVCDfjVR"
      }
    }
  ]
}