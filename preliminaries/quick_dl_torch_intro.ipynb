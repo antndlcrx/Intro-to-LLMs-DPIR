{
  "nbformat": 4,
  "nbformat_minor": 0,
  "metadata": {
    "colab": {
      "provenance": [],
      "authorship_tag": "ABX9TyPJeOHuI6V/VPOJ9XDX9d/q",
      "include_colab_link": true
    },
    "kernelspec": {
      "name": "python3",
      "display_name": "Python 3"
    },
    "language_info": {
      "name": "python"
    }
  },
  "cells": [
    {
      "cell_type": "markdown",
      "metadata": {
        "id": "view-in-github",
        "colab_type": "text"
      },
      "source": [
        "<a href=\"https://colab.research.google.com/github/antndlcrx/Oxford-Methods-Spring-School/blob/main/preliminaries/quick_dl_torch_intro.ipynb\" target=\"_parent\"><img src=\"https://colab.research.google.com/assets/colab-badge.svg\" alt=\"Open In Colab\"/></a>"
      ]
    },
    {
      "cell_type": "markdown",
      "source": [
        "<img src=\"https://cdn.githubraw.com/antndlcrx/oss_2024/main/images/dpir_oss.png?raw=true:,  width=70\" alt=\"My Image\" width=500>"
      ],
      "metadata": {
        "id": "ohJ7uMtDHdH6"
      }
    },
    {
      "cell_type": "markdown",
      "source": [
        "# **Deep Learning and PyTorch**"
      ],
      "metadata": {
        "id": "YhHekiBZ4gFb"
      }
    },
    {
      "cell_type": "markdown",
      "source": [
        "## **1**.&nbsp; **Deep Learning**"
      ],
      "metadata": {
        "id": "sp1Twc4B4kUA"
      }
    },
    {
      "cell_type": "markdown",
      "source": [
        "**Deep learning** is a subfield of machine learning that uses **neural networks with many layers to automatically learn patterns from large amounts of data**. These models are inspired by the structure of the human brain and can learn to recognize complex patterns in text, images, audio, and more.\n",
        "\n",
        "<img src=\"https://cdn.githubraw.com/antndlcrx/oss_2024/main/images/dl_from_pytorch_book.png?raw=true:,  width=70\" alt=\"My Image\" width=700>\n",
        "\n",
        "[Image Source](https://isip.piconepress.com/courses/temple/ece_4822/resources/books/Deep-Learning-with-PyTorch.pdf)"
      ],
      "metadata": {
        "id": "CSx5TNVc8ewd"
      }
    },
    {
      "cell_type": "markdown",
      "source": [
        "### **Backprop**\n",
        "\n",
        "The **learning process is driven by** an algorithm called **backpropagation**, which adjusts the model's internal parameters (weights) based on how far off its predictions are from the actual outcomes. **This is done by computing gradients** — how much each parameter contributed to the error — and updating the parameters to improve performance.\n",
        "\n",
        "<img src=\"https://cdn.githubraw.com/antndlcrx/oss_2024/main/images/backprop_torch_book.png?raw=true:,  width=70\" alt=\"My Image\" width=700>\n",
        "\n",
        "[Image Source](https://isip.piconepress.com/courses/temple/ece_4822/resources/books/Deep-Learning-with-PyTorch.pdf)\n",
        "\n",
        "Frameworks like [**PyTorch**](https://pytorch.org/tutorials/beginner/basics/intro.html) make this process efficient and intuitive by automatically handling gradient computation and parameter updates through tools like autograd and optimizers.\n",
        "\n",
        "> 📖 For a deep (no pun intended) dive, check-out these resources:\n",
        "- [**Deep Learning with PyTorch Book by Stevens, Antiga, Viehmann**](https://isip.piconepress.com/courses/temple/ece_4822/resources/books/Deep-Learning-with-PyTorch.pdf)\n",
        "- [Deep Learning by Goodfellow, Bengio, Aaron Courville](https://www.deeplearningbook.org/)."
      ],
      "metadata": {
        "id": "j8m9pDiD_5A2"
      }
    },
    {
      "cell_type": "markdown",
      "source": [
        "## **2**.&nbsp; **PyTorch**"
      ],
      "metadata": {
        "id": "kKiYmZd28fDq"
      }
    },
    {
      "cell_type": "markdown",
      "source": [
        "🔧 **Introduction to PyTorch, Tensors, and Autograd**\n",
        "\n",
        "**PyTorch** is a popular deep learning framework that combines flexibility and performance, widely used for machine learning and scientific computing. At its core is the concept of the **tensor** — a generalization of arrays or matrices. Tensors are **multidimensional arrays** that can run on either the CPU or GPU, making them ideal for high-performance computations.\n",
        "\n",
        "A **PyTorch tensor** is like a NumPy array, but with built-in support for automatic differentiation and GPU acceleration. You can perform arithmetic, reshape operations, and apply complex functions, all while tracking the computational graph for gradients.\n",
        "\n",
        "This tracking is handled by **autograd**, PyTorch's automatic differentiation engine. When you perform operations on tensors with `requires_grad=True`, PyTorch builds a computation graph behind the scenes. Then, by calling `.backward()`, it automatically computes the **gradients** of all involved tensors — which is essential for optimizing model parameters during training.\n",
        "\n",
        "This combination of **tensors + autograd** enables PyTorch to support deep learning workflows with concise, readable code."
      ],
      "metadata": {
        "id": "o7wa6N188ozO"
      }
    },
    {
      "cell_type": "markdown",
      "source": [
        "### 📦 **PyTorch Tensors: Attributes and Methods**\n",
        "\n",
        "In PyTorch, a [**tensor**](https://pytorch.org/tutorials/beginner/introyt/tensors_deeper_tutorial.html) is the primary data structure — like a NumPy array, but with support for automatic differentiation and GPU acceleration. Understanding a few key **tensor attributes** and **methods** will help you debug, reshape, and manipulate data effectively.\n",
        "\n",
        "### 🔍 Common Tensor Attributes\n",
        "\n",
        "| Attribute         | Description                            | Example Output             |\n",
        "|------------------|----------------------------------------|----------------------------|\n",
        "| `tensor.shape`   | The size of each dimension              | `torch.Size([3, 2])`       |\n",
        "| `tensor.dtype`   | The data type (e.g., `float32`, `int64`) | `torch.float32`            |\n",
        "| `tensor.device`  | The device the tensor is on (CPU/GPU)   | `cpu` or `cuda:0`          |\n",
        "| `tensor.requires_grad` | Tracks if autograd will compute gradients | `True` or `False`      |\n",
        "\n",
        "### 🛠️ Common Tensor Methods\n",
        "\n",
        "| Method              | Purpose                                 |\n",
        "|---------------------|-----------------------------------------|\n",
        "| `tensor.view()`     | Reshapes the tensor (like `.reshape()`) |\n",
        "| `tensor.unsqueeze()`| Adds a dimension (e.g., for batching)   |\n",
        "| `tensor.squeeze()`  | Removes dimensions of size 1            |\n",
        "| `tensor.item()`     | Extracts a Python number from a 1-element tensor |\n",
        "| `tensor.detach()`   | Returns a new tensor detached from the computation graph |\n",
        "| `tensor.clone()`    | Creates a copy of the tensor            |\n",
        "\n",
        "---"
      ],
      "metadata": {
        "id": "MGAiDihILvwJ"
      }
    },
    {
      "cell_type": "markdown",
      "source": [
        "### 🧠 **Main PyTorch Modules**\n",
        "\n",
        "PyTorch is modular and offers a rich ecosystem for building and training deep learning models. Here are the most important submodules you'll use frequently:\n",
        "\n",
        "### 🔧 `torch.nn`\n",
        "This is the [**neural network module**](https://pytorch.org/docs/stable/nn.html), used to build models by combining layers like `nn.Linear`, `nn.Conv2d`, `nn.ReLU`, etc. You typically subclass `nn.Module` to define custom models.\n",
        "\n",
        "```python\n",
        "import torch.nn as nn\n",
        "\n",
        "model = nn.Sequential(\n",
        "    nn.Linear(10, 5),\n",
        "    nn.ReLU(),\n",
        "    nn.Linear(5, 1)\n",
        ")\n",
        "```\n",
        "\n",
        "### 🎯 `torch.nn.functional` (aka `F`)\n",
        "This module provides **stateless versions** of layers and activation functions. You use `F.relu(x)` or `F.cross_entropy()` when you want more control over operations inside your custom model. See more [here](https://pytorch.org/docs/stable/nn.functional.html).\n",
        "\n",
        "```python\n",
        "import torch.nn.functional as F\n",
        "\n",
        "x = torch.randn(3, 5)\n",
        "output = F.relu(x)\n",
        "```\n",
        "\n",
        "### 📉 `torch.optim`\n",
        "This [module](https://pytorch.org/docs/stable/optim.html) includes **optimizers** like SGD, Adam, etc., which are used to update model parameters during training.\n",
        "\n",
        "```python\n",
        "optimizer = torch.optim.SGD(model.parameters(), lr=0.01)\n",
        "```\n",
        "\n",
        "### 📦 `torch.utils.data`\n",
        "[`torch.utils.data`](https://pytorch.org/docs/stable/data.html) provides tools for handling data, such as `Dataset` and `DataLoader`. These help manage large datasets and batch training.\n",
        "\n",
        "```python\n",
        "from torch.utils.data import DataLoader, TensorDataset\n",
        "\n",
        "dataset = TensorDataset(x, y)\n",
        "loader = DataLoader(dataset, batch_size=32, shuffle=True)\n",
        "```\n"
      ],
      "metadata": {
        "id": "BIi2fF-BMsvA"
      }
    },
    {
      "cell_type": "markdown",
      "source": [
        "### **Mini Example: Bivariate Linear Regression**"
      ],
      "metadata": {
        "id": "wc0G2RUGMY9I"
      }
    },
    {
      "cell_type": "code",
      "execution_count": null,
      "metadata": {
        "id": "ILQwXmup4bIQ"
      },
      "outputs": [],
      "source": [
        "import torch"
      ]
    },
    {
      "cell_type": "code",
      "source": [
        "device = \"cuda\" if torch.cuda.is_available() else \"cpu\"\n",
        "device\n",
        "generator = torch.Generator(device=device)\n",
        "generator.manual_seed(42)\n",
        "x = torch.rand(100, generator=generator)\n",
        "y = 2 * x + torch.randn(100, generator=generator)"
      ],
      "metadata": {
        "id": "HDmuAgHN4osn"
      },
      "execution_count": null,
      "outputs": []
    },
    {
      "cell_type": "code",
      "source": [
        "x"
      ],
      "metadata": {
        "colab": {
          "base_uri": "https://localhost:8080/"
        },
        "id": "ry3L6uPX6evD",
        "outputId": "b682d388-e9de-4758-f41f-a802d4adda22"
      },
      "execution_count": null,
      "outputs": [
        {
          "output_type": "execute_result",
          "data": {
            "text/plain": [
              "tensor([0.8823, 0.9150, 0.3829, 0.9593, 0.3904, 0.6009, 0.2566, 0.7936, 0.9408,\n",
              "        0.1332, 0.9346, 0.5936, 0.8694, 0.5677, 0.7411, 0.4294, 0.8854, 0.5739,\n",
              "        0.2666, 0.6274, 0.2696, 0.4414, 0.2969, 0.8317, 0.1053, 0.2695, 0.3588,\n",
              "        0.1994, 0.5472, 0.0062, 0.9516, 0.0753, 0.8860, 0.5832, 0.3376, 0.8090,\n",
              "        0.5779, 0.9040, 0.5547, 0.3423, 0.6343, 0.3644, 0.7104, 0.9464, 0.7890,\n",
              "        0.2814, 0.7886, 0.5895, 0.7539, 0.1952, 0.0050, 0.3068, 0.1165, 0.9103,\n",
              "        0.6440, 0.7071, 0.6581, 0.4913, 0.8913, 0.1447, 0.5315, 0.1587, 0.6542,\n",
              "        0.3278, 0.6532, 0.3958, 0.9147, 0.2036, 0.2018, 0.2018, 0.9497, 0.6666,\n",
              "        0.9811, 0.0874, 0.0041, 0.1088, 0.1637, 0.7025, 0.6790, 0.9155, 0.2418,\n",
              "        0.1591, 0.7653, 0.2979, 0.8035, 0.3813, 0.7860, 0.1115, 0.2477, 0.6524,\n",
              "        0.6057, 0.3725, 0.7980, 0.8399, 0.1374, 0.2331, 0.9578, 0.3313, 0.3227,\n",
              "        0.0162])"
            ]
          },
          "metadata": {},
          "execution_count": 68
        }
      ]
    },
    {
      "cell_type": "code",
      "source": [
        "y"
      ],
      "metadata": {
        "colab": {
          "base_uri": "https://localhost:8080/"
        },
        "id": "SacA1hNo6fnN",
        "outputId": "3039ed49-46e1-4ab0-bb47-b01adbbaa24a"
      },
      "execution_count": null,
      "outputs": [
        {
          "output_type": "execute_result",
          "data": {
            "text/plain": [
              "tensor([ 2.4053e+00,  2.4133e+00,  1.8327e+00,  1.4685e+00,  1.0214e-01,\n",
              "         1.7761e+00,  7.0089e-01,  1.2297e+00,  2.1465e+00,  1.5395e+00,\n",
              "         1.8679e+00,  8.8356e-01,  7.5237e-01,  1.2587e+00,  1.8321e+00,\n",
              "         1.4761e+00,  2.4971e+00,  1.2390e+00,  1.4409e-01,  1.7828e+00,\n",
              "         1.5704e+00,  1.7796e-01,  1.6070e+00,  1.3326e+00,  1.3056e+00,\n",
              "         8.7888e-01,  1.4376e+00,  8.1014e-01,  5.2106e-01,  5.1918e-01,\n",
              "         1.4279e+00, -3.4149e-01,  1.6360e+00,  2.8018e+00,  1.3300e+00,\n",
              "         2.1940e+00,  7.9494e-01,  1.7474e+00,  1.1826e+00,  1.5033e+00,\n",
              "         8.9334e-01,  1.7619e+00,  7.3421e-01,  2.5296e+00,  1.7956e+00,\n",
              "         5.1617e-01,  1.4374e-01,  6.1240e-01,  1.7773e+00,  1.8012e-01,\n",
              "        -7.2271e-01,  7.1794e-01,  1.2744e+00,  1.4208e+00, -1.0053e+00,\n",
              "         1.9118e+00, -1.1639e+00,  5.6506e-01,  5.8715e-01,  1.1018e+00,\n",
              "         7.5669e-01, -1.2699e-02,  3.2755e-01,  8.5035e-01,  1.5932e+00,\n",
              "         6.0816e-02,  2.0042e+00, -6.8663e-01,  1.3669e+00,  9.4036e-02,\n",
              "         2.4706e+00,  2.4512e+00,  4.1540e-01,  9.3143e-01,  7.8364e-01,\n",
              "         2.2442e+00,  1.3085e+00,  7.6492e-01,  8.6724e-01,  2.0389e+00,\n",
              "        -4.4837e-01, -1.2727e+00,  3.9460e-01,  7.3198e-02,  1.4476e+00,\n",
              "         3.3776e-01,  2.5163e+00,  3.8097e-02,  1.5561e+00,  1.5132e+00,\n",
              "         6.3356e-01,  1.0705e+00,  1.8578e+00,  9.1987e-01, -1.7713e+00,\n",
              "        -1.0633e+00,  2.3205e+00,  1.2944e+00,  9.5802e-01, -1.0961e-03])"
            ]
          },
          "metadata": {},
          "execution_count": 69
        }
      ]
    },
    {
      "cell_type": "code",
      "source": [
        "w = torch.rand(1, requires_grad=True)\n",
        "b = torch.rand(1, requires_grad=True)\n",
        "\n",
        "optimizer = torch.optim.SGD([w, b], lr=0.01)\n",
        "\n",
        "epochs = 1000\n",
        "\n",
        "for epoch in range(epochs):\n",
        "    y_pred = x * w + b\n",
        "\n",
        "    loss = torch.mean(y_pred**2)\n",
        "\n",
        "    optimizer.zero_grad()\n",
        "    loss.backward()\n",
        "    optimizer.step()\n",
        "\n",
        "\n",
        "    if epoch % 10 == 0:\n",
        "        print(f\"epoch: {epoch}, loss: {loss}\")"
      ],
      "metadata": {
        "colab": {
          "base_uri": "https://localhost:8080/"
        },
        "id": "GQFuwtuf6iYx",
        "outputId": "4c4881fd-c597-4224-a97c-a10a86c47522"
      },
      "execution_count": null,
      "outputs": [
        {
          "output_type": "stream",
          "name": "stdout",
          "text": [
            "epoch: 0, loss: 0.24149328470230103\n",
            "epoch: 10, loss: 0.14361423254013062\n",
            "epoch: 20, loss: 0.08546427637338638\n",
            "epoch: 30, loss: 0.05091584846377373\n",
            "epoch: 40, loss: 0.030388230457901955\n",
            "epoch: 50, loss: 0.01818988285958767\n",
            "epoch: 60, loss: 0.010939721018075943\n",
            "epoch: 70, loss: 0.006629163399338722\n",
            "epoch: 80, loss: 0.004064998589456081\n",
            "epoch: 90, loss: 0.002538383239880204\n",
            "epoch: 100, loss: 0.001628223224543035\n",
            "epoch: 110, loss: 0.0010843591298907995\n",
            "epoch: 120, loss: 0.000758180976845324\n",
            "epoch: 130, loss: 0.000561402237508446\n",
            "epoch: 140, loss: 0.0004415744624566287\n",
            "epoch: 150, loss: 0.0003675367624964565\n",
            "epoch: 160, loss: 0.00032077659852802753\n",
            "epoch: 170, loss: 0.00029029426514171064\n",
            "epoch: 180, loss: 0.0002695531293284148\n",
            "epoch: 190, loss: 0.0002546683535911143\n",
            "epoch: 200, loss: 0.00024333037436008453\n",
            "epoch: 210, loss: 0.00023416535987053066\n",
            "epoch: 220, loss: 0.00022635514324065298\n",
            "epoch: 230, loss: 0.00021941232262179255\n",
            "epoch: 240, loss: 0.00021304553956724703\n",
            "epoch: 250, loss: 0.000207080171094276\n",
            "epoch: 260, loss: 0.00020141087588854134\n",
            "epoch: 270, loss: 0.0001959735673153773\n",
            "epoch: 280, loss: 0.00019072875147685409\n",
            "epoch: 290, loss: 0.0001856513845268637\n",
            "epoch: 300, loss: 0.00018072535749524832\n",
            "epoch: 310, loss: 0.0001759396109264344\n",
            "epoch: 320, loss: 0.00017128634499385953\n",
            "epoch: 330, loss: 0.00016675949154887348\n",
            "epoch: 340, loss: 0.00016235426301136613\n",
            "epoch: 350, loss: 0.00015806659939698875\n",
            "epoch: 360, loss: 0.00015389292093459517\n",
            "epoch: 370, loss: 0.00014982986613176763\n",
            "epoch: 380, loss: 0.00014587427722290158\n",
            "epoch: 390, loss: 0.00014202334568835795\n",
            "epoch: 400, loss: 0.00013827411748934537\n",
            "epoch: 410, loss: 0.0001346239005215466\n",
            "epoch: 420, loss: 0.00013107008999213576\n",
            "epoch: 430, loss: 0.0001276100956602022\n",
            "epoch: 440, loss: 0.00012424147280398756\n",
            "epoch: 450, loss: 0.00012096174759790301\n",
            "epoch: 460, loss: 0.00011776866449508816\n",
            "epoch: 470, loss: 0.00011465984425740317\n",
            "epoch: 480, loss: 0.00011163310409756377\n",
            "epoch: 490, loss: 0.00010868623940041289\n",
            "epoch: 500, loss: 0.00010581719106994569\n",
            "epoch: 510, loss: 0.00010302385635441169\n",
            "epoch: 520, loss: 0.00010030429984908551\n",
            "epoch: 530, loss: 9.765649156179279e-05\n",
            "epoch: 540, loss: 9.50786197790876e-05\n",
            "epoch: 550, loss: 9.256877092411742e-05\n",
            "epoch: 560, loss: 9.01251842151396e-05\n",
            "epoch: 570, loss: 8.774608431849629e-05\n",
            "epoch: 580, loss: 8.542979048797861e-05\n",
            "epoch: 590, loss: 8.317464380525053e-05\n",
            "epoch: 600, loss: 8.097902900772169e-05\n",
            "epoch: 610, loss: 7.884136721258983e-05\n",
            "epoch: 620, loss: 7.676013774471357e-05\n",
            "epoch: 630, loss: 7.473385630873963e-05\n",
            "epoch: 640, loss: 7.276106043718755e-05\n",
            "epoch: 650, loss: 7.084033859428018e-05\n",
            "epoch: 660, loss: 6.897032289998606e-05\n",
            "epoch: 670, loss: 6.714967457810417e-05\n",
            "epoch: 680, loss: 6.537708395626396e-05\n",
            "epoch: 690, loss: 6.365127046592534e-05\n",
            "epoch: 700, loss: 6.197102629812434e-05\n",
            "epoch: 710, loss: 6.033513636793941e-05\n",
            "epoch: 720, loss: 5.8742436522152275e-05\n",
            "epoch: 730, loss: 5.71917844354175e-05\n",
            "epoch: 740, loss: 5.5682045058347285e-05\n",
            "epoch: 750, loss: 5.421216701506637e-05\n",
            "epoch: 760, loss: 5.278108801576309e-05\n",
            "epoch: 770, loss: 5.138779670232907e-05\n",
            "epoch: 780, loss: 5.003128171665594e-05\n",
            "epoch: 790, loss: 4.871057171840221e-05\n",
            "epoch: 800, loss: 4.742472810903564e-05\n",
            "epoch: 810, loss: 4.617282684193924e-05\n",
            "epoch: 820, loss: 4.495397661230527e-05\n",
            "epoch: 830, loss: 4.37672933912836e-05\n",
            "epoch: 840, loss: 4.261194771970622e-05\n",
            "epoch: 850, loss: 4.148709194851108e-05\n",
            "epoch: 860, loss: 4.039192572236061e-05\n",
            "epoch: 870, loss: 3.932568142772652e-05\n",
            "epoch: 880, loss: 3.828757326118648e-05\n",
            "epoch: 890, loss: 3.727686998900026e-05\n",
            "epoch: 900, loss: 3.629284765338525e-05\n",
            "epoch: 910, loss: 3.533480048645288e-05\n",
            "epoch: 920, loss: 3.44020409102086e-05\n",
            "epoch: 930, loss: 3.3493914088467136e-05\n",
            "epoch: 940, loss: 3.260976154706441e-05\n",
            "epoch: 950, loss: 3.1748946639709175e-05\n",
            "epoch: 960, loss: 3.0910843634046614e-05\n",
            "epoch: 970, loss: 3.009487954841461e-05\n",
            "epoch: 980, loss: 2.9300445021362975e-05\n",
            "epoch: 990, loss: 2.8526983442134224e-05\n"
          ]
        }
      ]
    },
    {
      "cell_type": "code",
      "source": [
        "import matplotlib.pyplot as plt\n",
        "\n",
        "# Get the final predictions\n",
        "y_pred = x * w + b\n",
        "\n",
        "# Detach tensors from the computational graph for plotting\n",
        "y_pred_np = y_pred.detach().numpy()\n",
        "y_np = y.detach().numpy()\n",
        "\n",
        "# Create the scatter plot\n",
        "plt.figure(figsize=(8, 6))\n",
        "plt.scatter(y_np, y_pred_np)\n",
        "plt.xlabel(\"Actual (y)\")\n",
        "plt.ylabel(\"Predicted (y_pred)\")\n",
        "plt.title(\"Scatter Plot of Actual vs. Predicted Values\")\n",
        "plt.grid(True)\n",
        "plt.show()"
      ],
      "metadata": {
        "colab": {
          "base_uri": "https://localhost:8080/",
          "height": 564
        },
        "id": "hOF49R0T7vEi",
        "outputId": "df450934-f0f8-46e9-fd9b-9fa50988a302"
      },
      "execution_count": null,
      "outputs": [
        {
          "output_type": "display_data",
          "data": {
            "text/plain": [
              "<Figure size 800x600 with 1 Axes>"
            ],
            "image/png": "[encoded data removed]"
          },
          "metadata": {}
        }
      ]
    }
  ]
}